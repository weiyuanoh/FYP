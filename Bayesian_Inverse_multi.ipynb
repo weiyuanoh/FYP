{
 "cells": [
  {
   "cell_type": "code",
   "execution_count": 5,
   "metadata": {},
   "outputs": [
    {
     "name": "stdout",
     "output_type": "stream",
     "text": [
      "The autoreload extension is already loaded. To reload it, use:\n",
      "  %reload_ext autoreload\n"
     ]
    }
   ],
   "source": [
    "import Bayesian_Inverse as BI \n",
    "import Solver3 as slice\n",
    "import numpy as np\n",
    "\n",
    "%load_ext autoreload\n",
    "\n",
    "%autoreload 2"
   ]
  },
  {
   "cell_type": "code",
   "execution_count": 8,
   "metadata": {},
   "outputs": [
    {
     "ename": "BrokenProcessPool",
     "evalue": "A process in the process pool was terminated abruptly while the future was running or pending.",
     "output_type": "error",
     "traceback": [
      "\u001b[1;31m---------------------------------------------------------------------------\u001b[0m",
      "\u001b[1;31mBrokenProcessPool\u001b[0m                         Traceback (most recent call last)",
      "Cell \u001b[1;32mIn[8], line 43\u001b[0m\n\u001b[0;32m     41\u001b[0m     num_points \u001b[38;5;241m=\u001b[39m \u001b[38;5;241m100\u001b[39m\n\u001b[0;32m     42\u001b[0m     beta_true \u001b[38;5;241m=\u001b[39m np\u001b[38;5;241m.\u001b[39marray([\u001b[38;5;241m0.5\u001b[39m, \u001b[38;5;241m1\u001b[39m\u001b[38;5;241m/\u001b[39m\u001b[38;5;241m6\u001b[39m])\n\u001b[1;32m---> 43\u001b[0m     chains, beta_mcmcs, acceptance_counts, ddof_list \u001b[38;5;241m=\u001b[39m \u001b[43mrun_multiple_chains\u001b[49m\u001b[43m(\u001b[49m\n\u001b[0;32m     44\u001b[0m \u001b[43m        \u001b[49m\u001b[43mn_chains\u001b[49m\u001b[43m,\u001b[49m\u001b[43m \u001b[49m\u001b[43mbeta_true\u001b[49m\u001b[43m,\u001b[49m\u001b[43m \u001b[49m\u001b[43mnumber_of_iter\u001b[49m\u001b[43m,\u001b[49m\u001b[43m \u001b[49m\u001b[43mburn_in\u001b[49m\u001b[43m,\u001b[49m\u001b[43m \u001b[49m\u001b[43msigma\u001b[49m\u001b[43m,\u001b[49m\u001b[43m \u001b[49m\u001b[43mnum_points\u001b[49m\n\u001b[0;32m     45\u001b[0m \u001b[43m    \u001b[49m\u001b[43m)\u001b[49m\n\u001b[0;32m     46\u001b[0m \u001b[38;5;28mprint\u001b[39m(\u001b[38;5;124m\"\u001b[39m\u001b[38;5;124mTrue beta:\u001b[39m\u001b[38;5;124m\"\u001b[39m, beta_true )\n\u001b[0;32m     47\u001b[0m \u001b[38;5;28mprint\u001b[39m(\u001b[38;5;124m\"\u001b[39m\u001b[38;5;124mMCMC estimated beta:\u001b[39m\u001b[38;5;124m\"\u001b[39m, beta_mcmcs)\n",
      "Cell \u001b[1;32mIn[8], line 28\u001b[0m, in \u001b[0;36mrun_multiple_chains\u001b[1;34m(n_chains, beta_true, number_of_iter, burn_in, sigma, num_points)\u001b[0m\n\u001b[0;32m     26\u001b[0m \u001b[38;5;66;03m# Collect results as they complete\u001b[39;00m\n\u001b[0;32m     27\u001b[0m \u001b[38;5;28;01mfor\u001b[39;00m future \u001b[38;5;129;01min\u001b[39;00m futures:\n\u001b[1;32m---> 28\u001b[0m     chain, beta_mcmc, acceptance_prob_history, acceptance_count \u001b[38;5;241m=\u001b[39m \u001b[43mfuture\u001b[49m\u001b[38;5;241;43m.\u001b[39;49m\u001b[43mresult\u001b[49m\u001b[43m(\u001b[49m\u001b[43m)\u001b[49m\n\u001b[0;32m     29\u001b[0m     chains\u001b[38;5;241m.\u001b[39mappend(chain)\n\u001b[0;32m     30\u001b[0m     beta_mcmcs\u001b[38;5;241m.\u001b[39mappend(beta_mcmc)\n",
      "File \u001b[1;32m~\\AppData\\Local\\Programs\\Python\\Python310\\lib\\concurrent\\futures\\_base.py:458\u001b[0m, in \u001b[0;36mFuture.result\u001b[1;34m(self, timeout)\u001b[0m\n\u001b[0;32m    456\u001b[0m     \u001b[38;5;28;01mraise\u001b[39;00m CancelledError()\n\u001b[0;32m    457\u001b[0m \u001b[38;5;28;01melif\u001b[39;00m \u001b[38;5;28mself\u001b[39m\u001b[38;5;241m.\u001b[39m_state \u001b[38;5;241m==\u001b[39m FINISHED:\n\u001b[1;32m--> 458\u001b[0m     \u001b[38;5;28;01mreturn\u001b[39;00m \u001b[38;5;28;43mself\u001b[39;49m\u001b[38;5;241;43m.\u001b[39;49m\u001b[43m__get_result\u001b[49m\u001b[43m(\u001b[49m\u001b[43m)\u001b[49m\n\u001b[0;32m    459\u001b[0m \u001b[38;5;28;01melse\u001b[39;00m:\n\u001b[0;32m    460\u001b[0m     \u001b[38;5;28;01mraise\u001b[39;00m \u001b[38;5;167;01mTimeoutError\u001b[39;00m()\n",
      "File \u001b[1;32m~\\AppData\\Local\\Programs\\Python\\Python310\\lib\\concurrent\\futures\\_base.py:403\u001b[0m, in \u001b[0;36mFuture.__get_result\u001b[1;34m(self)\u001b[0m\n\u001b[0;32m    401\u001b[0m \u001b[38;5;28;01mif\u001b[39;00m \u001b[38;5;28mself\u001b[39m\u001b[38;5;241m.\u001b[39m_exception:\n\u001b[0;32m    402\u001b[0m     \u001b[38;5;28;01mtry\u001b[39;00m:\n\u001b[1;32m--> 403\u001b[0m         \u001b[38;5;28;01mraise\u001b[39;00m \u001b[38;5;28mself\u001b[39m\u001b[38;5;241m.\u001b[39m_exception\n\u001b[0;32m    404\u001b[0m     \u001b[38;5;28;01mfinally\u001b[39;00m:\n\u001b[0;32m    405\u001b[0m         \u001b[38;5;66;03m# Break a reference cycle with the exception in self._exception\u001b[39;00m\n\u001b[0;32m    406\u001b[0m         \u001b[38;5;28mself\u001b[39m \u001b[38;5;241m=\u001b[39m \u001b[38;5;28;01mNone\u001b[39;00m\n",
      "\u001b[1;31mBrokenProcessPool\u001b[0m: A process in the process pool was terminated abruptly while the future was running or pending."
     ]
    }
   ],
   "source": [
    "from concurrent.futures import ProcessPoolExecutor\n",
    "\n",
    "def run_single_chain(seed, beta_true, number_of_iter, burn_in, sigma, num_points):\n",
    "    try:\n",
    "        np.random.seed(seed)\n",
    "        return BI.MCMC(beta_true, number_of_iter, burn_in, sigma, num_points)\n",
    "    except Exception as e:\n",
    "        print(f\"Error in run_single_chain with seed {seed}: {e}\")\n",
    "        raise\n",
    "\n",
    "\n",
    "def run_multiple_chains(n_chains, beta_true, number_of_iter, burn_in, sigma, num_points):\n",
    "    seeds = np.random.randint(0, 10000, size=n_chains)\n",
    "    chains = []\n",
    "    beta_mcmcs = []\n",
    "    acceptance_histories = []\n",
    "    acceptance_counts = []\n",
    "    \n",
    "    # Run chains in parallel using ProcessPoolExecutor\n",
    "    with ProcessPoolExecutor() as executor:\n",
    "        # Submit all the chains concurrently\n",
    "        futures = [\n",
    "            executor.submit(run_single_chain, seed, beta_true, number_of_iter, burn_in, sigma, num_points)\n",
    "            for seed in seeds\n",
    "        ]\n",
    "        # Collect results as they complete\n",
    "        for future in futures:\n",
    "            chain, beta_mcmc, acceptance_prob_history, acceptance_count = future.result()\n",
    "            chains.append(chain)\n",
    "            beta_mcmcs.append(beta_mcmc)\n",
    "            acceptance_histories.append(acceptance_prob_history)\n",
    "            acceptance_counts.append(acceptance_count)\n",
    "    \n",
    "    return chains, beta_mcmcs, acceptance_histories, acceptance_counts\n",
    "\n",
    "if __name__ == '__main__':\n",
    "    n_chains = 4\n",
    "    number_of_iter = 10000\n",
    "    burn_in = 5000\n",
    "    sigma = 0.01 \n",
    "    num_points = 100\n",
    "    beta_true = np.array([0.5, 1/6])\n",
    "    chains, beta_mcmcs, acceptance_counts, ddof_list = run_multiple_chains(\n",
    "        n_chains, beta_true, number_of_iter, burn_in, sigma, num_points\n",
    "    )\n",
    "print(\"True beta:\", beta_true )\n",
    "print(\"MCMC estimated beta:\", beta_mcmcs)\n",
    "print(\"Acceptance Count:\", acceptance_counts)\n",
    "\n"
   ]
  }
 ],
 "metadata": {
  "kernelspec": {
   "display_name": ".venv",
   "language": "python",
   "name": "python3"
  },
  "language_info": {
   "codemirror_mode": {
    "name": "ipython",
    "version": 3
   },
   "file_extension": ".py",
   "mimetype": "text/x-python",
   "name": "python",
   "nbconvert_exporter": "python",
   "pygments_lexer": "ipython3",
   "version": "3.10.7"
  }
 },
 "nbformat": 4,
 "nbformat_minor": 2
}
