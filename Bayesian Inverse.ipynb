{
 "cells": [
  {
   "cell_type": "code",
   "execution_count": 75,
   "metadata": {},
   "outputs": [
    {
     "name": "stdout",
     "output_type": "stream",
     "text": [
      "The autoreload extension is already loaded. To reload it, use:\n",
      "  %reload_ext autoreload\n"
     ]
    }
   ],
   "source": [
    "import gauleg as gl \n",
    "import sympy as sp \n",
    "import numpy as np \n",
    "import pandas as pd \n",
    "import math\n",
    "import matplotlib.pyplot as plt\n",
    "import Solver as sl \n",
    "from scipy.interpolate import interp1d\n",
    "\n",
    "%load_ext autoreload\n",
    "\n",
    "%autoreload 2\n",
    "rng = np.random.default_rng(seed=42)"
   ]
  },
  {
   "cell_type": "markdown",
   "metadata": {},
   "source": [
    "# Generating Delta Vector"
   ]
  },
  {
   "cell_type": "code",
   "execution_count": 76,
   "metadata": {},
   "outputs": [],
   "source": [
    "def interpolation_for_u_h(nodal, mesh):\n",
    "    \"\"\"\n",
    "    Takes in the solution of the forward solver at high resolution and returns the \n",
    "    corresponing values of u_h at a set xi that is predetermined \n",
    "\n",
    "    Returns: \n",
    "    Array of observation u_h that corresponds to each xi using interpolation if xi not \n",
    "    in final mesh. \n",
    "    \"\"\"\n",
    "    nodal = sl.assemble_nodal_values(nodal)\n",
    "    mesh = np.array(mesh)  # Replace with your mesh node coordinates\n",
    "    nodal = np.array(nodal).flatten()  # Replace with your computed u_h values   \n",
    "    x_min = 0.0\n",
    "    x_max = 1.0\n",
    "    num_points = 100  # Number of xi's\n",
    "    xi = np.linspace(x_min, x_max, num_points)\n",
    "\n",
    "    u_h_interp = interp1d(mesh, nodal, kind='linear', fill_value=\"extrapolate\")\n",
    "    \n",
    "    # Evaluate u_h at the observation points\n",
    "    u_h_at_xi = u_h_interp(xi)\n",
    "\n",
    "    return u_h_at_xi\n",
    "\n"
   ]
  },
  {
   "cell_type": "code",
   "execution_count": 77,
   "metadata": {},
   "outputs": [
    {
     "data": {
      "text/plain": [
       "array([-0.55919345, -0.6145587 , -1.09010412,  2.38249048,  3.02493759,\n",
       "        0.43175515,  0.2852813 ,  0.28758583, -0.17899745,  2.03503093,\n",
       "       -0.03985959, -0.23638335,  1.65275107, -0.36141127,  1.54502608,\n",
       "        0.28046822,  0.88794092,  3.00923659,  3.6196285 , -0.64206682,\n",
       "        1.86491816,  0.77940068,  1.26302852,  1.90922779, -1.41353119,\n",
       "        1.76213596,  0.4079655 , -0.137167  ,  1.67737621,  0.67490178,\n",
       "        1.45302718,  1.47837982,  0.23307743,  1.54074054,  2.03165078,\n",
       "        0.24264943,  2.23000808,  1.9667369 ,  1.06896801,  2.31561316,\n",
       "        0.80001985,  1.74821331,  0.71945228,  2.69360711,  3.34186017,\n",
       "        2.39524474,  1.00445196,  2.5381245 ,  2.21564714,  1.75248151,\n",
       "        4.23989019,  1.82236055,  1.26986904,  0.5798827 ,  2.03354983,\n",
       "        1.57865493,  1.300643  ,  0.98951445,  0.03903511,  1.30055141,\n",
       "        1.74024847,  1.22092033,  1.92470113,  1.92681925,  1.36676167,\n",
       "        1.22681873,  1.69655131,  1.70847244,  1.55829537,  0.10969748,\n",
       "        0.13081638,  2.97919519,  0.79069109,  1.99132905,  2.35152546,\n",
       "        1.46433118,  0.96636171,  1.61430356,  1.4572036 ,  1.95512426,\n",
       "        1.0096212 ,  0.15738488,  1.2616172 , -0.67641685, -0.32372737,\n",
       "       -0.73528054, -0.0095248 ,  0.60016706,  0.3339986 , -0.68061787,\n",
       "       -1.08608484,  1.58932146,  0.22461454,  2.05693543,  1.64776096,\n",
       "        0.32954732,  0.10225371, -2.22141955,  0.30099386, -0.27724273])"
      ]
     },
     "execution_count": 77,
     "metadata": {},
     "output_type": "execute_result"
    }
   ],
   "source": [
    "def add_noise(observations_at_xi, num_points):\n",
    "    \"\"\"\n",
    "    Adds a normally distributed noise, theta\n",
    "    to observations from the forward solver.\n",
    "\n",
    "    Arguments:\n",
    "    observations_at_xi : observations at predetermined xi using interplotion. \n",
    "    num_points : how big your covariance matrix is \n",
    "\n",
    "    Returns:\n",
    "    Delta : Array of Noisy observations.\n",
    "    \n",
    "    \"\"\"\n",
    "    \n",
    "    cov_matrix = np.eye(num_points)\n",
    "    noise = np.random.multivariate_normal(np.zeros(num_points), cov_matrix)\n",
    "    delta = observations_at_xi + noise \n",
    "    return delta\n",
    "\n",
    "beta_true = np.array([0.5,1/6])\n",
    "mesh_true, c_sol_true = sl.refinement_loop(0.00001, beta_true)\n",
    "g_beta_true = interpolation_for_u_h(c_sol_true, mesh_true)\n",
    "delta = add_noise(g_beta_true, num_points=100)\n",
    "delta"
   ]
  },
  {
   "cell_type": "markdown",
   "metadata": {},
   "source": [
    "# Define Likelihood Function "
   ]
  },
  {
   "cell_type": "code",
   "execution_count": 78,
   "metadata": {},
   "outputs": [],
   "source": [
    "def phi(obseravations, predicted, sigma = 0.01) :\n",
    "    '''\n",
    "    For a set of predetermined points xi -- obtained via np.linspace,\n",
    "    this function defines the likelihood function \n",
    "\n",
    "    Arguments:\n",
    "    observations: Generated noisy observation using beta_true -- corresponds to y in literature\n",
    "    predicted: For a proposed beta_i, we compute the noisy observation using the forward solver \n",
    "    -- corresponds to g(beta_i) in literature\n",
    "\n",
    "    Returns: \n",
    "    Likelihood function that is proportional to the prior distribution\n",
    "    \n",
    "    '''\n",
    "    misfit = np.sum((obseravations - predicted) ** 2)\n",
    "    return np.exp(-np.sum(misfit**2) / (2 * sigma**2))\n",
    "\n",
    "\n",
    "\n"
   ]
  },
  {
   "cell_type": "markdown",
   "metadata": {},
   "source": [
    "# MCMC algorithm "
   ]
  },
  {
   "cell_type": "code",
   "execution_count": null,
   "metadata": {},
   "outputs": [],
   "source": [
    "def MCMC(observations, number_of_iter, burn_in): \n",
    "    '''\n",
    "    Builds a Markov Chain \n",
    "\n",
    "    Key Steps:\n",
    "    1. Initialise a choice of Beta, beta_0 \n",
    "    2. Compute likelihood of beta_0, using delta and beta_0_predicted\n",
    "    3. Initialise the loop.\n",
    "        - we propose a new beta_i from x* ~ Uniform(0.15, 0.85) and r ~ Uniform(0, 0.15)\n",
    "        - compute y_i and g(beta_i)\n",
    "        - compute likelihood using {y_i and g(beta_i)}\n",
    "        - set alpha = min{1, likelihood }\n",
    "    '''\n",
    "    # range of uniform distribution \n",
    "    x_star_range = (0.15, 0.85)\n",
    "    r_range = (0, 0.15)\n",
    "\n",
    "    # intiailise markov chain \n",
    "    chain = [] \n",
    "    beta_init = np.array([0.5, 1/4])\n",
    "    beta_current = beta_init.copy()\n",
    "    iter_count = 0\n",
    "    acceptance_count = 0 \n",
    "    acceptance_prob_history = []\n",
    "\n",
    "    # initialise current observations and likelihood \n",
    "    mesh_current, c_sol_current = sl.refinement_loop(0.00001, beta = beta_current)\n",
    "    y_current = interpolation_for_u_h(c_sol_current, mesh_current)\n",
    "    likelihood_current = phi(observations, y_current)\n",
    "    \n",
    "    for i in range(number_of_iter):\n",
    "        beta_proposal = np.array([\n",
    "            np.random.uniform(*x_star_range),\n",
    "            np.random.uniform(*r_range)\n",
    "        ])\n",
    "        mesh_proposal, c_sol_proposal = sl.refinement_loop(0.00001, beta = beta_proposal)\n",
    "        y_proposal = interpolation_for_u_h(c_sol_proposal, mesh_proposal)\n",
    "        likelihood_proposal = phi(observations, y_proposal)\n",
    "\n",
    "        # compute acceptance probability \n",
    "        acceptance_prob = min(1, likelihood_proposal/likelihood_current)\n",
    "        acceptance_prob_history.append(acceptance_prob)\n",
    "        \n",
    "        # Accept or reject the proposal\n",
    "        if np.random.rand() < acceptance_prob:\n",
    "            beta_current = beta_proposal\n",
    "            likelihood_current = likelihood_proposal\n",
    "            acceptance_count += 1\n",
    "        \n",
    "        # Append the current beta to the chain\n",
    "        chain.append(beta_current.copy())\n",
    "        iter_count += 1\n",
    "        print(iter_count)\n",
    "    \n",
    "    chain = np.array(chain)\n",
    "    # Discard burn-in and compute the MCMC estimate as the mean of the samples\n",
    "    beta_mcmc = np.mean(chain[burn_in:], axis=0)\n",
    "    return chain, beta_mcmc, acceptance_prob_history, acceptance_count"
   ]
  },
  {
   "cell_type": "code",
   "execution_count": 80,
   "metadata": {},
   "outputs": [
    {
     "name": "stderr",
     "output_type": "stream",
     "text": [
      "C:\\Users\\Admin\\AppData\\Local\\Temp\\ipykernel_2196\\2261265667.py:41: RuntimeWarning: invalid value encountered in scalar divide\n",
      "  acceptance_prob = min(1, likelihood_proposal/likelihood_current)\n"
     ]
    },
    {
     "name": "stdout",
     "output_type": "stream",
     "text": [
      "1\n",
      "2\n"
     ]
    },
    {
     "ename": "KeyboardInterrupt",
     "evalue": "",
     "output_type": "error",
     "traceback": [
      "\u001b[1;31m---------------------------------------------------------------------------\u001b[0m",
      "\u001b[1;31mKeyboardInterrupt\u001b[0m                         Traceback (most recent call last)",
      "Cell \u001b[1;32mIn[80], line 1\u001b[0m\n\u001b[1;32m----> 1\u001b[0m chain, beta_mcmc, acceptance_probablity_list, acceptance_count \u001b[38;5;241m=\u001b[39m \u001b[43mMCMC\u001b[49m\u001b[43m(\u001b[49m\u001b[43mobservations\u001b[49m\u001b[43m \u001b[49m\u001b[38;5;241;43m=\u001b[39;49m\u001b[43m \u001b[49m\u001b[43mdelta\u001b[49m\u001b[43m,\u001b[49m\u001b[43m \u001b[49m\u001b[43mnumber_of_iter\u001b[49m\u001b[43m \u001b[49m\u001b[38;5;241;43m=\u001b[39;49m\u001b[43m \u001b[49m\u001b[38;5;241;43m5000\u001b[39;49m\u001b[43m,\u001b[49m\u001b[43m \u001b[49m\u001b[43mburn_in\u001b[49m\u001b[38;5;241;43m=\u001b[39;49m\u001b[38;5;241;43m1000\u001b[39;49m\u001b[43m)\u001b[49m\n\u001b[0;32m      2\u001b[0m \u001b[38;5;28mprint\u001b[39m(\u001b[38;5;124m\"\u001b[39m\u001b[38;5;124mTrue beta:\u001b[39m\u001b[38;5;124m\"\u001b[39m, beta_true )\n\u001b[0;32m      3\u001b[0m \u001b[38;5;28mprint\u001b[39m(\u001b[38;5;124m\"\u001b[39m\u001b[38;5;124mMCMC estimated beta:\u001b[39m\u001b[38;5;124m\"\u001b[39m, beta_mcmc)\n",
      "Cell \u001b[1;32mIn[79], line 36\u001b[0m, in \u001b[0;36mMCMC\u001b[1;34m(observations, number_of_iter, burn_in)\u001b[0m\n\u001b[0;32m     31\u001b[0m \u001b[38;5;28;01mfor\u001b[39;00m i \u001b[38;5;129;01min\u001b[39;00m \u001b[38;5;28mrange\u001b[39m(number_of_iter):\n\u001b[0;32m     32\u001b[0m     beta_proposal \u001b[38;5;241m=\u001b[39m np\u001b[38;5;241m.\u001b[39marray([\n\u001b[0;32m     33\u001b[0m         np\u001b[38;5;241m.\u001b[39mrandom\u001b[38;5;241m.\u001b[39muniform(\u001b[38;5;241m*\u001b[39mx_star_range),\n\u001b[0;32m     34\u001b[0m         np\u001b[38;5;241m.\u001b[39mrandom\u001b[38;5;241m.\u001b[39muniform(\u001b[38;5;241m*\u001b[39mr_range)\n\u001b[0;32m     35\u001b[0m     ])\n\u001b[1;32m---> 36\u001b[0m     mesh_proposal, c_sol_proposal \u001b[38;5;241m=\u001b[39m \u001b[43msl\u001b[49m\u001b[38;5;241;43m.\u001b[39;49m\u001b[43mrefinement_loop\u001b[49m\u001b[43m(\u001b[49m\u001b[38;5;241;43m0.00001\u001b[39;49m\u001b[43m,\u001b[49m\u001b[43m \u001b[49m\u001b[43mbeta\u001b[49m\u001b[43m \u001b[49m\u001b[38;5;241;43m=\u001b[39;49m\u001b[43m \u001b[49m\u001b[43mbeta_proposal\u001b[49m\u001b[43m)\u001b[49m\n\u001b[0;32m     37\u001b[0m     y_proposal \u001b[38;5;241m=\u001b[39m interpolation_for_u_h(c_sol_proposal, mesh_proposal)\n\u001b[0;32m     38\u001b[0m     likelihood_proposal \u001b[38;5;241m=\u001b[39m phi(observations, y_proposal)\n",
      "File \u001b[1;32mc:\\Users\\Admin\\PycharmProjects\\FYP\\.venv\\FYP\\Solver.py:229\u001b[0m, in \u001b[0;36mrefinement_loop\u001b[1;34m(epsilon, beta)\u001b[0m\n\u001b[0;32m    226\u001b[0m iteration_index \u001b[38;5;241m=\u001b[39m \u001b[38;5;241m0\u001b[39m\n\u001b[0;32m    227\u001b[0m \u001b[38;5;28;01mwhile\u001b[39;00m \u001b[38;5;28;01mTrue\u001b[39;00m:\n\u001b[0;32m    228\u001b[0m     \u001b[38;5;66;03m# Solve for c_sol on the current mesh\u001b[39;00m\n\u001b[1;32m--> 229\u001b[0m     c_sol, f_sol \u001b[38;5;241m=\u001b[39m \u001b[43msolve_scF_once\u001b[49m\u001b[43m(\u001b[49m\u001b[43mmesh\u001b[49m\u001b[38;5;241;43m=\u001b[39;49m\u001b[43mmesh\u001b[49m\u001b[43m,\u001b[49m\u001b[43m \u001b[49m\u001b[43mbeta\u001b[49m\u001b[43m \u001b[49m\u001b[38;5;241;43m=\u001b[39;49m\u001b[43m \u001b[49m\u001b[43mbeta\u001b[49m\u001b[43m)\u001b[49m\n\u001b[0;32m    231\u001b[0m     \u001b[38;5;66;03m# Convert solution to nodal representation\u001b[39;00m\n\u001b[0;32m    232\u001b[0m     nodal \u001b[38;5;241m=\u001b[39m assemble_nodal_values(c_sol)\n",
      "File \u001b[1;32mc:\\Users\\Admin\\PycharmProjects\\FYP\\.venv\\FYP\\Solver.py:200\u001b[0m, in \u001b[0;36msolve_scF_once\u001b[1;34m(mesh, beta)\u001b[0m\n\u001b[0;32m    197\u001b[0m a0_with_beta \u001b[38;5;241m=\u001b[39m \u001b[38;5;28;01mlambda\u001b[39;00m x: a0(x, beta)\n\u001b[0;32m    199\u001b[0m S0_sym \u001b[38;5;241m=\u001b[39m S0_ji(a0_with_beta, mesh, beta)         \u001b[38;5;66;03m# Possibly a Sympy matrix\u001b[39;00m\n\u001b[1;32m--> 200\u001b[0m fvect_sym \u001b[38;5;241m=\u001b[39m \u001b[43mbuild_force_vector\u001b[49m\u001b[43m(\u001b[49m\u001b[43mf\u001b[49m\u001b[43m,\u001b[49m\u001b[43m \u001b[49m\u001b[43mmesh\u001b[49m\u001b[43m,\u001b[49m\u001b[43m \u001b[49m\u001b[38;5;241;43m5\u001b[39;49m\u001b[43m,\u001b[49m\u001b[43m \u001b[49m\u001b[43mbeta\u001b[49m\u001b[43m)\u001b[49m  \u001b[38;5;66;03m# Possibly a Sympy matrix\u001b[39;00m\n\u001b[0;32m    202\u001b[0m \u001b[38;5;66;03m# Convert to NumPy float arrays:\u001b[39;00m\n\u001b[0;32m    203\u001b[0m S0 \u001b[38;5;241m=\u001b[39m np\u001b[38;5;241m.\u001b[39marray(S0_sym\u001b[38;5;241m.\u001b[39mtolist(), dtype\u001b[38;5;241m=\u001b[39mnp\u001b[38;5;241m.\u001b[39mfloat64)\n",
      "File \u001b[1;32mc:\\Users\\Admin\\PycharmProjects\\FYP\\.venv\\FYP\\Solver.py:343\u001b[0m, in \u001b[0;36mbuild_force_vector\u001b[1;34m(f, mesh, n2, beta)\u001b[0m\n\u001b[0;32m    341\u001b[0m         \u001b[38;5;28;01mdef\u001b[39;00m \u001b[38;5;21mintegrand_right\u001b[39m(x):\n\u001b[0;32m    342\u001b[0m             \u001b[38;5;28;01mreturn\u001b[39;00m f(x, beta) \u001b[38;5;241m*\u001b[39m phi_i(i, x, mesh)\n\u001b[1;32m--> 343\u001b[0m         total \u001b[38;5;241m+\u001b[39m\u001b[38;5;241m=\u001b[39m \u001b[43mpiecewise_GL\u001b[49m\u001b[43m(\u001b[49m\u001b[43mintegrand_right\u001b[49m\u001b[43m,\u001b[49m\u001b[43m \u001b[49m\u001b[43mx_left\u001b[49m\u001b[43m,\u001b[49m\u001b[43m \u001b[49m\u001b[43mx_right\u001b[49m\u001b[43m,\u001b[49m\n\u001b[0;32m    344\u001b[0m \u001b[43m                              \u001b[49m\u001b[43mdiscont_points\u001b[49m\u001b[38;5;241;43m=\u001b[39;49m\u001b[43mget_discont_points\u001b[49m\u001b[43m(\u001b[49m\u001b[43mx_left\u001b[49m\u001b[43m,\u001b[49m\u001b[43m \u001b[49m\u001b[43mx_right\u001b[49m\u001b[43m,\u001b[49m\u001b[43m \u001b[49m\u001b[43mbeta\u001b[49m\u001b[43m)\u001b[49m\u001b[43m)\u001b[49m\n\u001b[0;32m    346\u001b[0m     F[i, \u001b[38;5;241m0\u001b[39m] \u001b[38;5;241m=\u001b[39m total\n\u001b[0;32m    347\u001b[0m \u001b[38;5;28;01mreturn\u001b[39;00m F\n",
      "File \u001b[1;32mc:\\Users\\Admin\\PycharmProjects\\FYP\\.venv\\FYP\\Solver.py:79\u001b[0m, in \u001b[0;36mpiecewise_GL\u001b[1;34m(integrand, x_left, x_right, discont_points)\u001b[0m\n\u001b[0;32m     77\u001b[0m \u001b[38;5;66;03m# If no discontinuity is provided, do a single integration.\u001b[39;00m\n\u001b[0;32m     78\u001b[0m \u001b[38;5;28;01mif\u001b[39;00m discont_points \u001b[38;5;129;01mis\u001b[39;00m \u001b[38;5;28;01mNone\u001b[39;00m \u001b[38;5;129;01mor\u001b[39;00m \u001b[38;5;28mlen\u001b[39m(discont_points) \u001b[38;5;241m==\u001b[39m \u001b[38;5;241m0\u001b[39m:\n\u001b[1;32m---> 79\u001b[0m     \u001b[38;5;28;01mreturn\u001b[39;00m \u001b[43mGL\u001b[49m\u001b[43m(\u001b[49m\u001b[43mx_left\u001b[49m\u001b[38;5;241;43m=\u001b[39;49m\u001b[43mx_left\u001b[49m\u001b[43m,\u001b[49m\u001b[43m \u001b[49m\u001b[43mx_right\u001b[49m\u001b[38;5;241;43m=\u001b[39;49m\u001b[43mx_right\u001b[49m\u001b[43m,\u001b[49m\u001b[43m \u001b[49m\u001b[43mfunc\u001b[49m\u001b[38;5;241;43m=\u001b[39;49m\u001b[43mintegrand\u001b[49m\u001b[43m)\u001b[49m\n\u001b[0;32m     81\u001b[0m \u001b[38;5;66;03m# Ensure discont_points is a list; if it's a scalar, convert it.\u001b[39;00m\n\u001b[0;32m     82\u001b[0m \u001b[38;5;28;01mif\u001b[39;00m \u001b[38;5;129;01mnot\u001b[39;00m \u001b[38;5;28misinstance\u001b[39m(discont_points, (\u001b[38;5;28mlist\u001b[39m, \u001b[38;5;28mtuple\u001b[39m, np\u001b[38;5;241m.\u001b[39mndarray)):\n",
      "File \u001b[1;32mc:\\Users\\Admin\\PycharmProjects\\FYP\\.venv\\FYP\\Solver.py:54\u001b[0m, in \u001b[0;36mGL\u001b[1;34m(x_left, x_right, func)\u001b[0m\n\u001b[0;32m     52\u001b[0m \u001b[38;5;28;01mdef\u001b[39;00m \u001b[38;5;21mGL\u001b[39m(x_left, x_right, func):\n\u001b[0;32m     53\u001b[0m     \u001b[38;5;66;03m# Ensure xi and ci are NumPy arrays:\u001b[39;00m\n\u001b[1;32m---> 54\u001b[0m     xi, ci \u001b[38;5;241m=\u001b[39m \u001b[43mnp\u001b[49m\u001b[38;5;241;43m.\u001b[39;49m\u001b[43mpolynomial\u001b[49m\u001b[38;5;241;43m.\u001b[39;49m\u001b[43mlegendre\u001b[49m\u001b[38;5;241;43m.\u001b[39;49m\u001b[43mleggauss\u001b[49m\u001b[43m(\u001b[49m\u001b[43mn2\u001b[49m\u001b[43m)\u001b[49m\n\u001b[0;32m     55\u001b[0m     \u001b[38;5;66;03m# Map the nodes from [-1,1] to [x_left, x_right]\u001b[39;00m\n\u001b[0;32m     56\u001b[0m     x_mapped \u001b[38;5;241m=\u001b[39m \u001b[38;5;241m0.5\u001b[39m \u001b[38;5;241m*\u001b[39m ((x_right \u001b[38;5;241m-\u001b[39m x_left) \u001b[38;5;241m*\u001b[39m xi \u001b[38;5;241m+\u001b[39m (x_right \u001b[38;5;241m+\u001b[39m x_left))\n",
      "File \u001b[1;32mc:\\Users\\Admin\\PycharmProjects\\FYP\\.venv\\lib\\site-packages\\numpy\\polynomial\\legendre.py:1565\u001b[0m, in \u001b[0;36mleggauss\u001b[1;34m(deg)\u001b[0m\n\u001b[0;32m   1562\u001b[0m \u001b[38;5;66;03m# first approximation of roots. We use the fact that the companion\u001b[39;00m\n\u001b[0;32m   1563\u001b[0m \u001b[38;5;66;03m# matrix is symmetric in this case in order to obtain better zeros.\u001b[39;00m\n\u001b[0;32m   1564\u001b[0m c \u001b[38;5;241m=\u001b[39m np\u001b[38;5;241m.\u001b[39marray([\u001b[38;5;241m0\u001b[39m]\u001b[38;5;241m*\u001b[39mdeg \u001b[38;5;241m+\u001b[39m [\u001b[38;5;241m1\u001b[39m])\n\u001b[1;32m-> 1565\u001b[0m m \u001b[38;5;241m=\u001b[39m \u001b[43mlegcompanion\u001b[49m\u001b[43m(\u001b[49m\u001b[43mc\u001b[49m\u001b[43m)\u001b[49m\n\u001b[0;32m   1566\u001b[0m x \u001b[38;5;241m=\u001b[39m la\u001b[38;5;241m.\u001b[39meigvalsh(m)\n\u001b[0;32m   1568\u001b[0m \u001b[38;5;66;03m# improve roots by one application of Newton\u001b[39;00m\n",
      "File \u001b[1;32mc:\\Users\\Admin\\PycharmProjects\\FYP\\.venv\\lib\\site-packages\\numpy\\polynomial\\legendre.py:1452\u001b[0m, in \u001b[0;36mlegcompanion\u001b[1;34m(c)\u001b[0m\n\u001b[0;32m   1450\u001b[0m n \u001b[38;5;241m=\u001b[39m \u001b[38;5;28mlen\u001b[39m(c) \u001b[38;5;241m-\u001b[39m \u001b[38;5;241m1\u001b[39m\n\u001b[0;32m   1451\u001b[0m mat \u001b[38;5;241m=\u001b[39m np\u001b[38;5;241m.\u001b[39mzeros((n, n), dtype\u001b[38;5;241m=\u001b[39mc\u001b[38;5;241m.\u001b[39mdtype)\n\u001b[1;32m-> 1452\u001b[0m scl \u001b[38;5;241m=\u001b[39m \u001b[38;5;241m1.\u001b[39m\u001b[38;5;241m/\u001b[39mnp\u001b[38;5;241m.\u001b[39msqrt(\u001b[38;5;241m2\u001b[39m\u001b[38;5;241m*\u001b[39m\u001b[43mnp\u001b[49m\u001b[38;5;241;43m.\u001b[39;49m\u001b[43marange\u001b[49m\u001b[43m(\u001b[49m\u001b[43mn\u001b[49m\u001b[43m)\u001b[49m \u001b[38;5;241m+\u001b[39m \u001b[38;5;241m1\u001b[39m)\n\u001b[0;32m   1453\u001b[0m top \u001b[38;5;241m=\u001b[39m mat\u001b[38;5;241m.\u001b[39mreshape(\u001b[38;5;241m-\u001b[39m\u001b[38;5;241m1\u001b[39m)[\u001b[38;5;241m1\u001b[39m::n\u001b[38;5;241m+\u001b[39m\u001b[38;5;241m1\u001b[39m]\n\u001b[0;32m   1454\u001b[0m bot \u001b[38;5;241m=\u001b[39m mat\u001b[38;5;241m.\u001b[39mreshape(\u001b[38;5;241m-\u001b[39m\u001b[38;5;241m1\u001b[39m)[n::n\u001b[38;5;241m+\u001b[39m\u001b[38;5;241m1\u001b[39m]\n",
      "\u001b[1;31mKeyboardInterrupt\u001b[0m: "
     ]
    }
   ],
   "source": [
    "chain, beta_mcmc, acceptance_probablity_list, acceptance_count = MCMC(observations = delta, number_of_iter = 5000, burn_in=1000)\n",
    "print(\"True beta:\", beta_true )\n",
    "print(\"MCMC estimated beta:\", beta_mcmc)\n",
    "print(\"Acceptance Probability History:\", acceptance_probablity_list)\n",
    "print(\"Acceptance Count:\", acceptance_count)"
   ]
  }
 ],
 "metadata": {
  "kernelspec": {
   "display_name": ".venv",
   "language": "python",
   "name": "python3"
  },
  "language_info": {
   "codemirror_mode": {
    "name": "ipython",
    "version": 3
   },
   "file_extension": ".py",
   "mimetype": "text/x-python",
   "name": "python",
   "nbconvert_exporter": "python",
   "pygments_lexer": "ipython3",
   "version": "3.10.7"
  }
 },
 "nbformat": 4,
 "nbformat_minor": 2
}
