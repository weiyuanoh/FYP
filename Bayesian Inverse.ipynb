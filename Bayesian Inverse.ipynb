{
 "cells": [
  {
   "cell_type": "code",
   "execution_count": 1,
   "metadata": {},
   "outputs": [],
   "source": [
    "import gauleg as gl \n",
    "import sympy as sp \n",
    "import numpy as np \n",
    "import pandas as pd \n",
    "import math\n",
    "import matplotlib.pyplot as plt\n",
    "import Solver as sl \n",
    "from scipy.interpolate import interp1d\n",
    "\n",
    "%load_ext autoreload\n",
    "\n",
    "%autoreload 2\n",
    "rng = np.random.default_rng(seed=42)"
   ]
  },
  {
   "cell_type": "markdown",
   "metadata": {},
   "source": [
    "# Generating Delta Vector"
   ]
  },
  {
   "cell_type": "code",
   "execution_count": 2,
   "metadata": {},
   "outputs": [],
   "source": [
    "def interpolation_for_u_h(nodal, mesh):\n",
    "    \"\"\"\n",
    "    Takes in the solution of the forward solver at high resolution and returns the \n",
    "    corresponing values of u_h at a set xi that is predetermined \n",
    "\n",
    "    Returns: \n",
    "    Array of observation u_h that corresponds to each xi using interpolation if xi not \n",
    "    in final mesh. \n",
    "    \"\"\"\n",
    "    nodal = sl.assemble_nodal_values(nodal)\n",
    "    mesh = np.array(mesh)  # Replace with your mesh node coordinates\n",
    "    nodal = np.array(nodal).flatten()  # Replace with your computed u_h values   \n",
    "    x_min = 0.0\n",
    "    x_max = 1.0\n",
    "    num_points = 100  # Number of xi's\n",
    "    xi = np.linspace(x_min, x_max, num_points)\n",
    "\n",
    "    u_h_interp = interp1d(mesh, nodal, kind='linear', fill_value=\"extrapolate\")\n",
    "    \n",
    "    # Evaluate u_h at the observation points\n",
    "    u_h_at_xi = u_h_interp(xi)\n",
    "\n",
    "    return u_h_at_xi\n",
    "\n"
   ]
  },
  {
   "cell_type": "code",
   "execution_count": 9,
   "metadata": {},
   "outputs": [
    {
     "data": {
      "text/plain": [
       "array([-0.10600627, -0.09587289,  0.05285204,  0.17945516,  0.19082118,\n",
       "        0.19309401,  0.44183219,  0.41898783,  0.48853577,  0.38477126,\n",
       "        0.61574329,  0.64020868,  0.45819268,  0.7810412 ,  0.64481442,\n",
       "        0.71333139,  0.76543723,  0.68307452,  0.82589351,  1.00593877,\n",
       "        0.92158856,  1.10628169,  0.92252049,  0.96128832,  0.94787307,\n",
       "        0.90423508,  0.93793643,  1.04308238,  1.44104229,  1.17357111,\n",
       "        1.3037644 ,  1.16189238,  1.24948879,  1.39772785,  1.33145828,\n",
       "        1.5374494 ,  1.42034488,  1.4751425 ,  1.3854539 ,  1.42764606,\n",
       "        1.53977417,  1.36515757,  1.59581215,  1.38289805,  1.39352333,\n",
       "        1.88349095,  1.37615556,  1.53995378,  1.56880043,  1.54579679,\n",
       "        1.38444775,  1.46388122,  1.38644059,  1.32214736,  1.40895121,\n",
       "        1.44101266,  1.47855968,  1.58320045,  1.42180022,  1.37268399,\n",
       "        1.39739426,  1.38032867,  1.42898195,  1.41175083,  1.47088244,\n",
       "        1.50439257,  1.33333876,  1.26400211,  1.37623318,  1.31373494,\n",
       "        1.16479066,  1.35377599,  1.15827529,  1.00321423,  1.19422649,\n",
       "        1.02076564,  0.94555743,  1.03834407,  0.83751837,  0.8989185 ,\n",
       "        0.88237252,  0.84839877,  0.71126566,  0.66172652,  0.61073367,\n",
       "        0.56170649,  0.48765204,  0.53458968,  0.51432877,  0.42728433,\n",
       "        0.33142336,  0.5373743 ,  0.31523335,  0.21503145,  0.45979812,\n",
       "        0.23255318,  0.21167826,  0.00661725, -0.04702136,  0.10154972])"
      ]
     },
     "execution_count": 9,
     "metadata": {},
     "output_type": "execute_result"
    }
   ],
   "source": [
    "def add_noise(observations_at_xi, num_points, sigma = 0.1):\n",
    "    \"\"\"\n",
    "    Adds a normally distributed noise, theta\n",
    "    to observations from the forward solver.\n",
    "\n",
    "    Arguments:\n",
    "    observations_at_xi : observations at predetermined xi using interplotion. \n",
    "    num_points : how big your covariance matrix is \n",
    "\n",
    "    Returns:\n",
    "    Delta : Array of Noisy observations.\n",
    "    \n",
    "    \"\"\"\n",
    "    sigma = 0.1 # noise variance --> 0.01\n",
    "    Sigma = (sigma ** 2) * np.eye(num_points)\n",
    "    noise = np.random.multivariate_normal(np.zeros(num_points), Sigma)\n",
    "    delta = observations_at_xi + noise \n",
    "    return delta\n",
    "\n",
    "beta_true = np.array([0.5,1/6])\n",
    "mesh_true, c_sol_true = sl.refinement_loop(0.00001, beta_true)\n",
    "g_beta_true = interpolation_for_u_h(c_sol_true, mesh_true)\n",
    "delta = add_noise(g_beta_true, num_points=100)\n",
    "delta"
   ]
  },
  {
   "cell_type": "markdown",
   "metadata": {},
   "source": [
    "# Define Likelihood Function "
   ]
  },
  {
   "cell_type": "code",
   "execution_count": 11,
   "metadata": {},
   "outputs": [
    {
     "data": {
      "text/plain": [
       "np.float64(2.336862087138976e-26)"
      ]
     },
     "execution_count": 11,
     "metadata": {},
     "output_type": "execute_result"
    }
   ],
   "source": [
    "def phi(obseravations, predicted, sigma = 0.1) :\n",
    "    '''\n",
    "    For a set of predetermined points xi -- obtained via np.linspace,\n",
    "    this function defines the likelihood function \n",
    "\n",
    "    Arguments:\n",
    "    observations: Generated noisy observation using beta_true -- corresponds to y in literature\n",
    "    predicted: For a proposed beta_i, we compute the noisy observation using the forward solver \n",
    "    -- corresponds to g(beta_i) in literature\n",
    "\n",
    "    Returns: \n",
    "    Likelihood function that is proportional to the prior distribution\n",
    "    \n",
    "    '''\n",
    "    misfit = np.sum((obseravations - predicted) ** 2)\n",
    "    return np.exp(-np.sum(misfit**2) / (2 * sigma**2))\n",
    "\n",
    "# 2 cases, 1. denominator very close to 0 or both is 0. need to check if its one or both. \n",
    "\n",
    "phi(delta, g_beta_true, 0.1)"
   ]
  },
  {
   "cell_type": "markdown",
   "metadata": {},
   "source": [
    "# MCMC algorithm "
   ]
  },
  {
   "cell_type": "code",
   "execution_count": 16,
   "metadata": {},
   "outputs": [],
   "source": [
    "def MCMC(observations, number_of_iter, burn_in): \n",
    "    '''\n",
    "    Builds a Markov Chain \n",
    "\n",
    "    Key Steps:\n",
    "    1. Initialise a choice of Beta, beta_0 \n",
    "    2. Compute likelihood of beta_0, using delta and beta_0_predicted\n",
    "    3. Initialise the loop.\n",
    "        - we propose a new beta_i from x* ~ Uniform(0.15, 0.85) and r ~ Uniform(0, 0.15)\n",
    "        - compute y_i and g(beta_i)\n",
    "        - compute likelihood using {y_i and g(beta_i)}\n",
    "        - set alpha = min{1, likelihood }\n",
    "    '''\n",
    "    # range of uniform distribution \n",
    "    x_star_range = (0.15, 0.85)\n",
    "    r_range = (0, 0.15)\n",
    "\n",
    "    # intiailise markov chain \n",
    "    chain = [] \n",
    "    beta_init = np.array([0.5, 1/4])\n",
    "    beta_current = beta_init.copy()\n",
    "    iter_count = 0\n",
    "    acceptance_count = 0 \n",
    "    acceptance_prob_history = []\n",
    "\n",
    "    # initialise current observations and likelihood \n",
    "    mesh_current, c_sol_current = sl.refinement_loop(0.00001, beta = beta_current)\n",
    "    y_current = interpolation_for_u_h(c_sol_current, mesh_current)\n",
    "    likelihood_current = phi(observations, y_current)\n",
    "\n",
    "    for i in range(number_of_iter):\n",
    "        beta_proposal = np.array([\n",
    "            np.random.uniform(*x_star_range),\n",
    "            np.random.uniform(*r_range)\n",
    "        ])\n",
    "        mesh_proposal, c_sol_proposal = sl.refinement_loop(0.00001, beta = beta_proposal)\n",
    "        y_proposal = interpolation_for_u_h(c_sol_proposal, mesh_proposal)\n",
    "        likelihood_proposal = phi(observations, y_proposal)\n",
    "\n",
    "        # compute acceptance probability \n",
    "        acceptance_prob = min(1, likelihood_proposal/likelihood_current)\n",
    "        acceptance_prob_history.append(acceptance_prob)\n",
    "        print(acceptance_prob)\n",
    "        \n",
    "        # Accept or reject the proposal\n",
    "        if np.random.rand() < acceptance_prob:\n",
    "            beta_current = beta_proposal\n",
    "            likelihood_current = likelihood_proposal\n",
    "            acceptance_count += 1\n",
    "        \n",
    "        # Append the current beta to the chain\n",
    "        chain.append(beta_current.copy())\n",
    "        iter_count += 1\n",
    "        print(iter_count)\n",
    "    \n",
    "    chain = np.array(chain)\n",
    "    # # Discard burn-in and compute the MCMC estimate as the mean of the samples\n",
    "    beta_mcmc = np.mean(chain[burn_in:], axis=0)\n",
    "    return chain, beta_mcmc, acceptance_prob_history, acceptance_count"
   ]
  },
  {
   "cell_type": "code",
   "execution_count": 17,
   "metadata": {},
   "outputs": [
    {
     "name": "stdout",
     "output_type": "stream",
     "text": [
      "0.0\n",
      "1\n"
     ]
    },
    {
     "ename": "KeyboardInterrupt",
     "evalue": "",
     "output_type": "error",
     "traceback": [
      "\u001b[1;31m---------------------------------------------------------------------------\u001b[0m",
      "\u001b[1;31mKeyboardInterrupt\u001b[0m                         Traceback (most recent call last)",
      "Cell \u001b[1;32mIn[17], line 1\u001b[0m\n\u001b[1;32m----> 1\u001b[0m chain, beta_mcmc, acceptance_probablity_list, acceptance_count \u001b[38;5;241m=\u001b[39m \u001b[43mMCMC\u001b[49m\u001b[43m(\u001b[49m\u001b[43mobservations\u001b[49m\u001b[43m \u001b[49m\u001b[38;5;241;43m=\u001b[39;49m\u001b[43m \u001b[49m\u001b[43mdelta\u001b[49m\u001b[43m,\u001b[49m\u001b[43m \u001b[49m\u001b[43mnumber_of_iter\u001b[49m\u001b[43m \u001b[49m\u001b[38;5;241;43m=\u001b[39;49m\u001b[43m \u001b[49m\u001b[38;5;241;43m5000\u001b[39;49m\u001b[43m,\u001b[49m\u001b[43m \u001b[49m\u001b[43mburn_in\u001b[49m\u001b[38;5;241;43m=\u001b[39;49m\u001b[38;5;241;43m1000\u001b[39;49m\u001b[43m)\u001b[49m\n\u001b[0;32m      2\u001b[0m \u001b[38;5;28mprint\u001b[39m(\u001b[38;5;124m\"\u001b[39m\u001b[38;5;124mTrue beta:\u001b[39m\u001b[38;5;124m\"\u001b[39m, beta_true )\n\u001b[0;32m      3\u001b[0m \u001b[38;5;28mprint\u001b[39m(\u001b[38;5;124m\"\u001b[39m\u001b[38;5;124mMCMC estimated beta:\u001b[39m\u001b[38;5;124m\"\u001b[39m, beta_mcmc)\n",
      "Cell \u001b[1;32mIn[16], line 36\u001b[0m, in \u001b[0;36mMCMC\u001b[1;34m(observations, number_of_iter, burn_in)\u001b[0m\n\u001b[0;32m     31\u001b[0m \u001b[38;5;28;01mfor\u001b[39;00m i \u001b[38;5;129;01min\u001b[39;00m \u001b[38;5;28mrange\u001b[39m(number_of_iter):\n\u001b[0;32m     32\u001b[0m     beta_proposal \u001b[38;5;241m=\u001b[39m np\u001b[38;5;241m.\u001b[39marray([\n\u001b[0;32m     33\u001b[0m         np\u001b[38;5;241m.\u001b[39mrandom\u001b[38;5;241m.\u001b[39muniform(\u001b[38;5;241m*\u001b[39mx_star_range),\n\u001b[0;32m     34\u001b[0m         np\u001b[38;5;241m.\u001b[39mrandom\u001b[38;5;241m.\u001b[39muniform(\u001b[38;5;241m*\u001b[39mr_range)\n\u001b[0;32m     35\u001b[0m     ])\n\u001b[1;32m---> 36\u001b[0m     mesh_proposal, c_sol_proposal \u001b[38;5;241m=\u001b[39m \u001b[43msl\u001b[49m\u001b[38;5;241;43m.\u001b[39;49m\u001b[43mrefinement_loop\u001b[49m\u001b[43m(\u001b[49m\u001b[38;5;241;43m0.00001\u001b[39;49m\u001b[43m,\u001b[49m\u001b[43m \u001b[49m\u001b[43mbeta\u001b[49m\u001b[43m \u001b[49m\u001b[38;5;241;43m=\u001b[39;49m\u001b[43m \u001b[49m\u001b[43mbeta_proposal\u001b[49m\u001b[43m)\u001b[49m\n\u001b[0;32m     37\u001b[0m     y_proposal \u001b[38;5;241m=\u001b[39m interpolation_for_u_h(c_sol_proposal, mesh_proposal)\n\u001b[0;32m     38\u001b[0m     likelihood_proposal \u001b[38;5;241m=\u001b[39m phi(observations, y_proposal)\n",
      "File \u001b[1;32mc:\\Users\\Espietsp\\PycharmProjects\\FYP\\.venv\\FYP\\Solver.py:229\u001b[0m, in \u001b[0;36mrefinement_loop\u001b[1;34m(epsilon, beta)\u001b[0m\n\u001b[0;32m    226\u001b[0m iteration_index \u001b[38;5;241m=\u001b[39m \u001b[38;5;241m0\u001b[39m\n\u001b[0;32m    227\u001b[0m \u001b[38;5;28;01mwhile\u001b[39;00m \u001b[38;5;28;01mTrue\u001b[39;00m:\n\u001b[0;32m    228\u001b[0m     \u001b[38;5;66;03m# Solve for c_sol on the current mesh\u001b[39;00m\n\u001b[1;32m--> 229\u001b[0m     c_sol, f_sol \u001b[38;5;241m=\u001b[39m \u001b[43msolve_scF_once\u001b[49m\u001b[43m(\u001b[49m\u001b[43mmesh\u001b[49m\u001b[38;5;241;43m=\u001b[39;49m\u001b[43mmesh\u001b[49m\u001b[43m,\u001b[49m\u001b[43m \u001b[49m\u001b[43mbeta\u001b[49m\u001b[43m \u001b[49m\u001b[38;5;241;43m=\u001b[39;49m\u001b[43m \u001b[49m\u001b[43mbeta\u001b[49m\u001b[43m)\u001b[49m\n\u001b[0;32m    231\u001b[0m     \u001b[38;5;66;03m# Convert solution to nodal representation\u001b[39;00m\n\u001b[0;32m    232\u001b[0m     nodal \u001b[38;5;241m=\u001b[39m assemble_nodal_values(c_sol)\n",
      "File \u001b[1;32mc:\\Users\\Espietsp\\PycharmProjects\\FYP\\.venv\\FYP\\Solver.py:208\u001b[0m, in \u001b[0;36msolve_scF_once\u001b[1;34m(mesh, beta)\u001b[0m\n\u001b[0;32m    206\u001b[0m s_int_sym, f_int_sym \u001b[38;5;241m=\u001b[39m extract_interior(S0_sym, fvect_sym)\n\u001b[0;32m    207\u001b[0m \u001b[38;5;66;03m# Convert interior matrices:\u001b[39;00m\n\u001b[1;32m--> 208\u001b[0m s_int \u001b[38;5;241m=\u001b[39m \u001b[43mnp\u001b[49m\u001b[38;5;241;43m.\u001b[39;49m\u001b[43marray\u001b[49m\u001b[43m(\u001b[49m\u001b[43ms_int_sym\u001b[49m\u001b[38;5;241;43m.\u001b[39;49m\u001b[43mtolist\u001b[49m\u001b[43m(\u001b[49m\u001b[43m)\u001b[49m\u001b[43m,\u001b[49m\u001b[43m \u001b[49m\u001b[43mdtype\u001b[49m\u001b[38;5;241;43m=\u001b[39;49m\u001b[43mnp\u001b[49m\u001b[38;5;241;43m.\u001b[39;49m\u001b[43mfloat64\u001b[49m\u001b[43m)\u001b[49m\n\u001b[0;32m    209\u001b[0m f_int \u001b[38;5;241m=\u001b[39m np\u001b[38;5;241m.\u001b[39marray(f_int_sym\u001b[38;5;241m.\u001b[39mtolist(), dtype\u001b[38;5;241m=\u001b[39mnp\u001b[38;5;241m.\u001b[39mfloat64)\n\u001b[0;32m    211\u001b[0m c_sol \u001b[38;5;241m=\u001b[39m c(s_int, f_int)  \u001b[38;5;66;03m# c() now works on numeric arrays\u001b[39;00m\n",
      "File \u001b[1;32mc:\\Users\\Espietsp\\PycharmProjects\\FYP\\.venv\\lib\\site-packages\\sympy\\core\\numbers.py:405\u001b[0m, in \u001b[0;36mNumber.__float__\u001b[1;34m(self)\u001b[0m\n\u001b[0;32m    404\u001b[0m \u001b[38;5;28;01mdef\u001b[39;00m \u001b[38;5;21m__float__\u001b[39m(\u001b[38;5;28mself\u001b[39m):\n\u001b[1;32m--> 405\u001b[0m     \u001b[38;5;28;01mreturn\u001b[39;00m mlib\u001b[38;5;241m.\u001b[39mto_float(\u001b[38;5;28;43mself\u001b[39;49m\u001b[38;5;241;43m.\u001b[39;49m\u001b[43m_as_mpf_val\u001b[49m\u001b[43m(\u001b[49m\u001b[38;5;241;43m53\u001b[39;49m\u001b[43m)\u001b[49m)\n",
      "File \u001b[1;32mc:\\Users\\Espietsp\\PycharmProjects\\FYP\\.venv\\lib\\site-packages\\sympy\\core\\numbers.py:957\u001b[0m, in \u001b[0;36mFloat._as_mpf_val\u001b[1;34m(self, prec)\u001b[0m\n\u001b[0;32m    953\u001b[0m \u001b[38;5;129m@property\u001b[39m\n\u001b[0;32m    954\u001b[0m \u001b[38;5;28;01mdef\u001b[39;00m \u001b[38;5;21mnum\u001b[39m(\u001b[38;5;28mself\u001b[39m):\n\u001b[0;32m    955\u001b[0m     \u001b[38;5;28;01mreturn\u001b[39;00m mpmath\u001b[38;5;241m.\u001b[39mmpf(\u001b[38;5;28mself\u001b[39m\u001b[38;5;241m.\u001b[39m_mpf_)\n\u001b[1;32m--> 957\u001b[0m \u001b[38;5;28;01mdef\u001b[39;00m \u001b[38;5;21m_as_mpf_val\u001b[39m(\u001b[38;5;28mself\u001b[39m, prec):\n\u001b[0;32m    958\u001b[0m     rv \u001b[38;5;241m=\u001b[39m mpf_norm(\u001b[38;5;28mself\u001b[39m\u001b[38;5;241m.\u001b[39m_mpf_, prec)\n\u001b[0;32m    959\u001b[0m     \u001b[38;5;28;01mif\u001b[39;00m rv \u001b[38;5;241m!=\u001b[39m \u001b[38;5;28mself\u001b[39m\u001b[38;5;241m.\u001b[39m_mpf_ \u001b[38;5;129;01mand\u001b[39;00m \u001b[38;5;28mself\u001b[39m\u001b[38;5;241m.\u001b[39m_prec \u001b[38;5;241m==\u001b[39m prec:\n",
      "\u001b[1;31mKeyboardInterrupt\u001b[0m: "
     ]
    }
   ],
   "source": [
    "chain, beta_mcmc, acceptance_probablity_list, acceptance_count = MCMC(observations = delta, number_of_iter = 5000, burn_in=1000)\n",
    "print(\"True beta:\", beta_true )\n",
    "print(\"MCMC estimated beta:\", beta_mcmc)\n",
    "print(\"Acceptance Probability History:\", acceptance_probablity_list)\n",
    "print(\"Acceptance Count:\", acceptance_count)"
   ]
  }
 ],
 "metadata": {
  "kernelspec": {
   "display_name": ".venv",
   "language": "python",
   "name": "python3"
  },
  "language_info": {
   "codemirror_mode": {
    "name": "ipython",
    "version": 3
   },
   "file_extension": ".py",
   "mimetype": "text/x-python",
   "name": "python",
   "nbconvert_exporter": "python",
   "pygments_lexer": "ipython3",
   "version": "3.10.7"
  }
 },
 "nbformat": 4,
 "nbformat_minor": 2
}
