{
 "cells": [
  {
   "cell_type": "code",
   "execution_count": 1,
   "metadata": {},
   "outputs": [],
   "source": [
    "%load_ext autoreload\n",
    "\n",
    "%autoreload 2\n",
    "\n",
    "import gauleg as gl \n",
    "import sympy as sp \n",
    "import numpy as np \n",
    "import pandas as pd \n",
    "import math"
   ]
  },
  {
   "cell_type": "markdown",
   "metadata": {},
   "source": [
    "## Finding Lm Ln Polynomials \n"
   ]
  },
  {
   "cell_type": "code",
   "execution_count": 3,
   "metadata": {},
   "outputs": [
    {
     "data": {
      "text/latex": [
       "$\\displaystyle \\left( y \\mapsto \\frac{5 y \\left(\\frac{3 y^{2}}{2} - \\frac{1}{2}\\right)}{3} - \\frac{2 y}{3} \\right)$"
      ],
      "text/plain": [
       "Lambda(y, 5*y*(3*y**2/2 - 1/2)/3 - 2*y/3)"
      ]
     },
     "execution_count": 3,
     "metadata": {},
     "output_type": "execute_result"
    }
   ],
   "source": [
    "def legendre_polynomial(n):\n",
    "    y = sp.symbols('y')\n",
    "    if n == 0:\n",
    "        return sp.Lambda(y, 1)\n",
    "    elif n == 1:\n",
    "        return sp.Lambda(y, y)\n",
    "    else:\n",
    "        P_n_minus_1 = legendre_polynomial(n-1)\n",
    "        P_n_minus_2 = legendre_polynomial(n-2)\n",
    "        return sp.Lambda(y, ((2*n - 1) * y * P_n_minus_1(y) - (n - 1) * P_n_minus_2(y)) / n)\n",
    "\n",
    "# Example usage:\n",
    "n = 3\n",
    "Ln = legendre_polynomial(n)\n",
    "Ln\n"
   ]
  },
  {
   "cell_type": "markdown",
   "metadata": {},
   "source": [
    "## Computing Anm using GL Quadrature --> finding A "
   ]
  },
  {
   "cell_type": "code",
   "execution_count": 33,
   "metadata": {},
   "outputs": [
    {
     "data": {
      "text/latex": [
       "$\\displaystyle \\left[\\begin{matrix}0 & 0.666666666666667 & 0 & -1.94289029309402 \\cdot 10^{-16}\\\\0.666666666666667 & 0 & 0.266666666666666 & 0\\\\0 & 0.266666666666666 & 0 & 0.171428571428571\\end{matrix}\\right]$"
      ],
      "text/plain": [
       "Matrix([\n",
       "[                0, 0.666666666666667,                 0, -1.94289029309402e-16],\n",
       "[0.666666666666667,                 0, 0.266666666666666,                     0],\n",
       "[                0, 0.266666666666666,                 0,     0.171428571428571]])"
      ]
     },
     "execution_count": 33,
     "metadata": {},
     "output_type": "execute_result"
    }
   ],
   "source": [
    "n = [0,1,2]\n",
    "m = [0,1,2,3]\n",
    "\n",
    "def Anm(n, m):\n",
    "    y = sp.symbols('y')\n",
    "    Ln = legendre_polynomial(n)\n",
    "    Lm = legendre_polynomial(m)\n",
    "    return y * Ln(y) * Lm(y)\n",
    "\n",
    "def Anm_gauleg(xi, ci, b , a, n2, n, m):\n",
    "    sum = 0 \n",
    "    Anm_expr = Anm(n,m)\n",
    "    for i in range(n2):\n",
    "        y_value = (0.5*(((b-a)*xi[i])+(b+a)))\n",
    "        prod = ci[i]* Anm_expr.subs(sp.symbols('y'), y_value)\n",
    "        sum = sum + prod \n",
    "    return sum \n",
    "\n",
    "def A_matrix(n,m):\n",
    "    A_matrix = sp.zeros(len(n),len(m))\n",
    "    n2 = math.floor((len(n)+len(m))/2) + 1\n",
    "    xi = gl.gauleg(n2)[0] # satisfying dop of GL for p+1 is 2p + 1\n",
    "    ci = gl.gauleg(n2)[1]\n",
    "    for ni in n:\n",
    "        for mi in m:\n",
    "            A_matrix[ni ,mi] = Anm_gauleg(xi= xi, ci = ci, b = 1, a = -1, n2 = n2, n = ni, m = mi)\n",
    "    return A_matrix\n",
    "\n",
    "A = A_matrix(n,m)\n",
    "A\n",
    "\n"
   ]
  },
  {
   "cell_type": "markdown",
   "metadata": {},
   "source": [
    "## Define A(x,y) "
   ]
  },
  {
   "cell_type": "code",
   "execution_count": 15,
   "metadata": {},
   "outputs": [
    {
     "name": "stdout",
     "output_type": "stream",
     "text": [
      "sin(x)\n"
     ]
    }
   ],
   "source": [
    "def a(x, y):\n",
    "    x = sp.symbols('x')\n",
    "    y = sp.symbols('y')\n",
    "    return 5 * x + 1 + y * sp.sin(x)\n",
    "\n",
    "def a0(x):\n",
    "    x = sp.symbols('x')\n",
    "    return 5 * x + 1 \n",
    "\n",
    "def a1(x):\n",
    "    x = sp.symbols('x')\n",
    "    return sp.sin(x)\n",
    "\n",
    "print(a1(x))"
   ]
  },
  {
   "cell_type": "markdown",
   "metadata": {},
   "source": [
    "## Define (S1) matrix and (S0) matrix\n"
   ]
  },
  {
   "cell_type": "code",
   "execution_count": 27,
   "metadata": {},
   "outputs": [
    {
     "data": {
      "text/latex": [
       "$\\displaystyle \\left[\\begin{matrix}1.95867900975404 & -1.46127775712435 & 0\\\\-1.46127775712435 & 3.79557684538918 & -2.33429908826483\\\\0 & -2.33429908826483 & 5.39648409635573\\end{matrix}\\right]$"
      ],
      "text/plain": [
       "Matrix([\n",
       "[ 1.95867900975404, -1.46127775712435,                 0],\n",
       "[-1.46127775712435,  3.79557684538918, -2.33429908826483],\n",
       "[                0, -2.33429908826483,  5.39648409635573]])"
      ]
     },
     "execution_count": 27,
     "metadata": {},
     "output_type": "execute_result"
    }
   ],
   "source": [
    "def GL(xi, ci, y, x, n2, func):\n",
    "\tsum = 0 \n",
    "\tfor i in range(n2):\n",
    "\t\tx_value = 0.5*(((y-x)*xi[i])+(y+x))\n",
    "\t\tprod = ci[i]*func.subs(sp.symbols('x'), x_value)\n",
    "\t\tsum = sum + prod \n",
    "\treturn (y-x)/2 * (sum)\n",
    "\n",
    "\n",
    "def phiij(numofnodes, i, j, l, xlist, func):\n",
    "\tfinalsum = 0\n",
    "\tfor k in range(numofnodes-1):\n",
    "\n",
    "\t\tx = xlist[k]\n",
    "\t\ty = xlist[k+1]\n",
    "\t \n",
    "\t\tif k == i :\n",
    "\t\t\td_phi_i = 2**l \n",
    "\t\telif k == i + 1 :\n",
    "\t\t\td_phi_i = -2**l \n",
    "\t\telse: \n",
    "\t\t\td_phi_i = 0 \n",
    " \n",
    "\t\tif k == j : \n",
    "\t\t\td_phi_j = 2**l \n",
    "\t\telif k == j + 1 :\n",
    "\t\t\td_phi_j = -2**l \n",
    "\t\telse:\n",
    "\t\t\td_phi_j = 0 \n",
    "\n",
    "\t\tn2 = 5 \n",
    "\t\txi = gl.gauleg(n2)[0]\n",
    "\t\tci = gl.gauleg(n2)[1]\n",
    "\t\tonegl = GL(xi = xi, ci = ci, y = y, x = x, n2 = 5, func = func) * d_phi_i *d_phi_j\n",
    "\t\tfinalsum = finalsum + onegl\n",
    "\n",
    "\treturn finalsum\n",
    "\n",
    "def S1(listi, listj, func):\n",
    "    S1 = sp.zeros(len(listi), len(listj))\n",
    "    target = func\n",
    "    for i in listi :\n",
    "        for j in listj:\n",
    "            S1[i,j] = phiij(numofnodes=2**l +1, i = i, j = j, l = l, xlist = gl.listi(a= 0,b =1, h = 2 **(-l), n1 = 2 **l + 1), func = target)\n",
    "    return S1\n",
    "\n",
    "\n",
    "l = 2\n",
    "ijlist = list(range(2**l-1))\n",
    "S1(listi = ijlist, listj=ijlist, func= a1(0))\n"
   ]
  },
  {
   "cell_type": "code",
   "execution_count": 30,
   "metadata": {},
   "outputs": [
    {
     "data": {
      "text/latex": [
       "$\\displaystyle \\left[\\begin{matrix}18.0 & -11.5 & 0\\\\-11.5 & 28.0 & -16.5\\\\0 & -16.5 & 38.0\\end{matrix}\\right]$"
      ],
      "text/plain": [
       "Matrix([\n",
       "[ 18.0, -11.5,     0],\n",
       "[-11.5,  28.0, -16.5],\n",
       "[    0, -16.5,  38.0]])"
      ]
     },
     "execution_count": 30,
     "metadata": {},
     "output_type": "execute_result"
    }
   ],
   "source": [
    "# compute S0 \n",
    "\n",
    "def S0(listi, listj, func):\n",
    "    S0 = sp.zeros(len(listi), len(listj))\n",
    "    target = func\n",
    "    for i in listi:\n",
    "        for j in listj:\n",
    "            S0[i,j] = phiij(numofnodes=2**l +1, i = i, j = j, l = l, xlist = gl.listi(a= 0,b =1, h = 2 **(-l), n1 = 2 **l + 1), func = target)\n",
    "\n",
    "    return S0 \n",
    "\n",
    "S0(listi=ijlist, listj=ijlist, func = a0(0))"
   ]
  },
  {
   "cell_type": "markdown",
   "metadata": {},
   "source": [
    "## Define Kroneker Notation \n"
   ]
  },
  {
   "cell_type": "code",
   "execution_count": 38,
   "metadata": {},
   "outputs": [
    {
     "data": {
      "text/latex": [
       "$\\displaystyle \\left[\\begin{matrix}1 & 0 & 0 & 0\\\\0 & 1 & 0 & 0\\\\0 & 0 & 1 & 0\\end{matrix}\\right]$"
      ],
      "text/plain": [
       "Matrix([\n",
       "[1, 0, 0, 0],\n",
       "[0, 1, 0, 0],\n",
       "[0, 0, 1, 0]])"
      ]
     },
     "execution_count": 38,
     "metadata": {},
     "output_type": "execute_result"
    }
   ],
   "source": [
    "# n, m are integers, probably need to loop it for every possible n, m \n",
    "\n",
    "def delta_mn(m,n):\n",
    "    if n == m:\n",
    "        return 1 \n",
    "    else:\n",
    "        return 0 \n",
    "\n",
    "def delta(n,m):\n",
    "    delta = sp.zeros(len(n), len(m))\n",
    "    for ni in n:\n",
    "        for mi in m: \n",
    "            delta[ni,mi] = delta_mn(ni,mi)\n",
    "\n",
    "    return delta \n",
    "\n",
    "delta(n,m)"
   ]
  },
  {
   "cell_type": "markdown",
   "metadata": {},
   "source": [
    "## Kron Matrix A and S1 "
   ]
  },
  {
   "cell_type": "code",
   "execution_count": 36,
   "metadata": {},
   "outputs": [
    {
     "data": {
      "text/latex": [
       "$\\displaystyle \\left[\\begin{array}{cccccccccccc}0 & 0 & 0 & 1.30578600650269 & -0.974185171416235 & 0 & 0 & 0 & 0 & -3.80549843533813 \\cdot 10^{-16} & 2.83910236983111 \\cdot 10^{-16} & 0\\\\0 & 0 & 0 & -0.974185171416235 & 2.53038456359279 & -1.55619939217655 & 0 & 0 & 0 & 2.83910236983111 \\cdot 10^{-16} & -7.37438940959908 \\cdot 10^{-16} & 4.53528703976797 \\cdot 10^{-16}\\\\0 & 0 & 0 & 0 & -1.55619939217655 & 3.59765606423715 & 0 & 0 & 0 & 0 & 4.53528703976797 \\cdot 10^{-16} & -1.04847765676458 \\cdot 10^{-15}\\\\1.30578600650269 & -0.974185171416235 & 0 & 0 & 0 & 0 & 0.522314402601076 & -0.389674068566494 & 0 & 0 & 0 & 0\\\\-0.974185171416235 & 2.53038456359279 & -1.55619939217655 & 0 & 0 & 0 & -0.389674068566494 & 1.01215382543711 & -0.622479756870621 & 0 & 0 & 0\\\\0 & -1.55619939217655 & 3.59765606423715 & 0 & 0 & 0 & 0 & -0.622479756870621 & 1.43906242569486 & 0 & 0 & 0\\\\0 & 0 & 0 & 0.522314402601076 & -0.389674068566494 & 0 & 0 & 0 & 0 & 0.335773544529263 & -0.250504758364175 & 0\\\\0 & 0 & 0 & -0.389674068566494 & 1.01215382543711 & -0.622479756870621 & 0 & 0 & 0 & -0.250504758364175 & 0.650670316352431 & -0.400165557988256\\\\0 & 0 & 0 & 0 & -0.622479756870621 & 1.43906242569486 & 0 & 0 & 0 & 0 & -0.400165557988256 & 0.925111559375267\\end{array}\\right]$"
      ],
      "text/plain": [
       "Matrix([\n",
       "[                 0,                  0,                 0,   1.30578600650269, -0.974185171416235,                  0,                  0,                  0,                  0, -3.80549843533813e-16,  2.83910236983111e-16,                     0],\n",
       "[                 0,                  0,                 0, -0.974185171416235,   2.53038456359279,  -1.55619939217655,                  0,                  0,                  0,  2.83910236983111e-16, -7.37438940959908e-16,  4.53528703976797e-16],\n",
       "[                 0,                  0,                 0,                  0,  -1.55619939217655,   3.59765606423715,                  0,                  0,                  0,                     0,  4.53528703976797e-16, -1.04847765676458e-15],\n",
       "[  1.30578600650269, -0.974185171416235,                 0,                  0,                  0,                  0,  0.522314402601076, -0.389674068566494,                  0,                     0,                     0,                     0],\n",
       "[-0.974185171416235,   2.53038456359279, -1.55619939217655,                  0,                  0,                  0, -0.389674068566494,   1.01215382543711, -0.622479756870621,                     0,                     0,                     0],\n",
       "[                 0,  -1.55619939217655,  3.59765606423715,                  0,                  0,                  0,                  0, -0.622479756870621,   1.43906242569486,                     0,                     0,                     0],\n",
       "[                 0,                  0,                 0,  0.522314402601076, -0.389674068566494,                  0,                  0,                  0,                  0,     0.335773544529263,    -0.250504758364175,                     0],\n",
       "[                 0,                  0,                 0, -0.389674068566494,   1.01215382543711, -0.622479756870621,                  0,                  0,                  0,    -0.250504758364175,     0.650670316352431,    -0.400165557988256],\n",
       "[                 0,                  0,                 0,                  0, -0.622479756870621,   1.43906242569486,                  0,                  0,                  0,                     0,    -0.400165557988256,     0.925111559375267]])"
      ]
     },
     "execution_count": 36,
     "metadata": {},
     "output_type": "execute_result"
    }
   ],
   "source": [
    "def A_S1(matrixA, matrixS1):\n",
    "    A_S1 = sp.kronecker_product(matrixA, matrixS1)\n",
    "    return A_S1\n",
    "\n",
    "A_S1(matrixA= A_matrix(n= n, m= m), matrixS1= S1(listi=ijlist, listj=ijlist, func = a1(0)))\n"
   ]
  },
  {
   "cell_type": "markdown",
   "metadata": {},
   "source": [
    "## Define S0 * delta_mn\n"
   ]
  },
  {
   "cell_type": "code",
   "execution_count": 40,
   "metadata": {},
   "outputs": [
    {
     "data": {
      "text/latex": [
       "$\\displaystyle \\left[\\begin{matrix}18.0 & -11.5 & 0 & 0\\\\-11.5 & 28.0 & -16.5 & 0\\\\0 & -16.5 & 38.0 & 0\\end{matrix}\\right]$"
      ],
      "text/plain": [
       "Matrix([\n",
       "[ 18.0, -11.5,     0, 0],\n",
       "[-11.5,  28.0, -16.5, 0],\n",
       "[    0, -16.5,  38.0, 0]])"
      ]
     },
     "execution_count": 40,
     "metadata": {},
     "output_type": "execute_result"
    }
   ],
   "source": [
    "def S0_delta(matrixS0, matrixdelta):\n",
    "    return matrixS0 * matrixdelta\n",
    "\n",
    "S0_delta(matrixS0=S0(listi=ijlist, listj=ijlist, func = a0(0)), matrixdelta=delta(n,m))"
   ]
  },
  {
   "cell_type": "markdown",
   "metadata": {},
   "source": [
    "## Define Fi and F "
   ]
  }
 ],
 "metadata": {
  "kernelspec": {
   "display_name": ".venv",
   "language": "python",
   "name": "python3"
  },
  "language_info": {
   "codemirror_mode": {
    "name": "ipython",
    "version": 3
   },
   "file_extension": ".py",
   "mimetype": "text/x-python",
   "name": "python",
   "nbconvert_exporter": "python",
   "pygments_lexer": "ipython3",
   "version": "3.10.7"
  }
 },
 "nbformat": 4,
 "nbformat_minor": 2
}
