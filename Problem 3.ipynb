{
 "cells": [
  {
   "cell_type": "code",
   "execution_count": 4,
   "metadata": {},
   "outputs": [
    {
     "name": "stdout",
     "output_type": "stream",
     "text": [
      "The autoreload extension is already loaded. To reload it, use:\n",
      "  %reload_ext autoreload\n"
     ]
    }
   ],
   "source": [
    "%load_ext autoreload\n",
    "\n",
    "%autoreload 2\n",
    "\n",
    "import gauleg as gl \n",
    "import sympy as sp \n",
    "import numpy as np \n",
    "import pandas as pd \n",
    "import math"
   ]
  },
  {
   "cell_type": "markdown",
   "metadata": {},
   "source": [
    "## Finding Lm Ln Polynomials \n"
   ]
  },
  {
   "cell_type": "code",
   "execution_count": 5,
   "metadata": {},
   "outputs": [
    {
     "data": {
      "text/latex": [
       "$\\displaystyle \\left( y \\mapsto \\frac{5 y \\left(\\frac{3 y^{2}}{2} - \\frac{1}{2}\\right)}{3} - \\frac{2 y}{3} \\right)$"
      ],
      "text/plain": [
       "Lambda(y, 5*y*(3*y**2/2 - 1/2)/3 - 2*y/3)"
      ]
     },
     "execution_count": 5,
     "metadata": {},
     "output_type": "execute_result"
    }
   ],
   "source": [
    "def legendre_polynomial(n):\n",
    "    y = sp.symbols('y')\n",
    "    if n == 0:\n",
    "        return sp.Lambda(y, 1)\n",
    "    elif n == 1:\n",
    "        return sp.Lambda(y, y)\n",
    "    else:\n",
    "        P_n_minus_1 = legendre_polynomial(n-1)\n",
    "        P_n_minus_2 = legendre_polynomial(n-2)\n",
    "        return sp.Lambda(y, ((2*n - 1) * y * P_n_minus_1(y) - (n - 1) * P_n_minus_2(y)) / n)\n",
    "\n",
    "# Example usage:\n",
    "n = 3\n",
    "Ln = legendre_polynomial(n)\n",
    "Ln\n"
   ]
  },
  {
   "cell_type": "markdown",
   "metadata": {},
   "source": [
    "## Computing Anm using GL Quadrature --> finding A "
   ]
  },
  {
   "cell_type": "code",
   "execution_count": 23,
   "metadata": {},
   "outputs": [
    {
     "data": {
      "text/latex": [
       "$\\displaystyle \\left[\\begin{matrix}0 & 0.666666666666667 & 0 & -1.38777878078145 \\cdot 10^{-16}\\\\0.666666666666667 & -2.77555756156289 \\cdot 10^{-17} & 0.266666666666667 & 0\\\\0 & 0.266666666666667 & 0 & 0.171428571428571\\\\-1.38777878078145 \\cdot 10^{-16} & 0 & 0.171428571428571 & 0\\end{matrix}\\right]$"
      ],
      "text/plain": [
       "Matrix([\n",
       "[                    0,     0.666666666666667,                 0, -1.38777878078145e-16],\n",
       "[    0.666666666666667, -2.77555756156289e-17, 0.266666666666667,                     0],\n",
       "[                    0,     0.266666666666667,                 0,     0.171428571428571],\n",
       "[-1.38777878078145e-16,                     0, 0.171428571428571,                     0]])"
      ]
     },
     "execution_count": 23,
     "metadata": {},
     "output_type": "execute_result"
    }
   ],
   "source": [
    "n = [0,1,2,3]\n",
    "m = [0,1,2,3]\n",
    "\n",
    "def Anm(n, m):\n",
    "    y = sp.symbols('y')\n",
    "    Ln = legendre_polynomial(n)\n",
    "    Lm = legendre_polynomial(m)\n",
    "    return y * Ln(y) * Lm(y)\n",
    "\n",
    "def Anm_gauleg(xi, ci, b , a, n2, n, m):\n",
    "    sum = 0 \n",
    "    Anm_expr = Anm(n,m)\n",
    "    for i in range(n2):\n",
    "        y_value = (0.5*(((b-a)*xi[i])+(b+a)))\n",
    "        prod = ci[i]* Anm_expr.subs(sp.symbols('y'), y_value)\n",
    "        sum = sum + prod \n",
    "    return sum \n",
    "\n",
    "def A_matrix(n,m):\n",
    "    A_matrix = sp.zeros(len(n),len(m))\n",
    "    n2 = math.floor((len(n)+len(m))/2) + 1\n",
    "    xi = gl.gauleg(n2)[0] # satisfying dop of GL for p+1 is 2p + 1\n",
    "    ci = gl.gauleg(n2)[1]\n",
    "    for ni in n:\n",
    "        for mi in m:\n",
    "            A_matrix[ni ,mi] = Anm_gauleg(xi= xi, ci = ci, b = 1, a = -1, n2 = n2, n = ni, m = mi)\n",
    "    return A_matrix\n",
    "\n",
    "A = A_matrix(n,m)\n",
    "A\n",
    "\n"
   ]
  },
  {
   "cell_type": "markdown",
   "metadata": {},
   "source": [
    "## Define A(x,y) "
   ]
  },
  {
   "cell_type": "code",
   "execution_count": 24,
   "metadata": {},
   "outputs": [],
   "source": [
    "def a(x, y):\n",
    "    x = sp.symbols('x')\n",
    "    y = sp.symbols('y')\n",
    "    return 5 * x + 1 + y * sp.sin(x)\n",
    "\n",
    "def a0(x):\n",
    "    x = sp.symbols('x')\n",
    "    return 5 * x + 1 \n",
    "\n",
    "def a1(x):\n",
    "    x = sp.symbols('x')\n",
    "    return sp.sin(x)\n",
    "\n"
   ]
  },
  {
   "cell_type": "markdown",
   "metadata": {},
   "source": [
    "## Define (S1) matrix and (S0) matrix\n"
   ]
  },
  {
   "cell_type": "code",
   "execution_count": 25,
   "metadata": {},
   "outputs": [
    {
     "data": {
      "text/latex": [
       "$\\displaystyle \\left[\\begin{matrix}1.95867900975404 & -1.46127775712435 & 0\\\\-1.46127775712435 & 3.79557684538918 & -2.33429908826483\\\\0 & -2.33429908826483 & 5.39648409635573\\end{matrix}\\right]$"
      ],
      "text/plain": [
       "Matrix([\n",
       "[ 1.95867900975404, -1.46127775712435,                 0],\n",
       "[-1.46127775712435,  3.79557684538918, -2.33429908826483],\n",
       "[                0, -2.33429908826483,  5.39648409635573]])"
      ]
     },
     "execution_count": 25,
     "metadata": {},
     "output_type": "execute_result"
    }
   ],
   "source": [
    "def GL(xi, ci, y, x, n2, func):\n",
    "\tsum = 0 \n",
    "\tfor i in range(n2):\n",
    "\t\tx_value = 0.5*(((y-x)*xi[i])+(y+x))\n",
    "\t\tprod = ci[i]*func.subs(sp.symbols('x'), x_value)\n",
    "\t\tsum = sum + prod \n",
    "\treturn (y-x)/2 * (sum)\n",
    "\n",
    "\n",
    "def phiij(numofnodes, i, j, l, xlist, func):\n",
    "\tfinalsum = 0\n",
    "\tfor k in range(numofnodes-1):\n",
    "\n",
    "\t\tx = xlist[k]\n",
    "\t\ty = xlist[k+1]\n",
    "\t \n",
    "\t\tif k == i :\n",
    "\t\t\td_phi_i = 2**l \n",
    "\t\telif k == i + 1 :\n",
    "\t\t\td_phi_i = -2**l \n",
    "\t\telse: \n",
    "\t\t\td_phi_i = 0 \n",
    " \n",
    "\t\tif k == j : \n",
    "\t\t\td_phi_j = 2**l \n",
    "\t\telif k == j + 1 :\n",
    "\t\t\td_phi_j = -2**l \n",
    "\t\telse:\n",
    "\t\t\td_phi_j = 0 \n",
    "\n",
    "\t\tn2 = 5 \n",
    "\t\txi = gl.gauleg(n2)[0]\n",
    "\t\tci = gl.gauleg(n2)[1]\n",
    "\t\tonegl = GL(xi = xi, ci = ci, y = y, x = x, n2 = 5, func = func) * d_phi_i *d_phi_j\n",
    "\t\tfinalsum = finalsum + onegl\n",
    "\n",
    "\treturn finalsum\n",
    "\n",
    "def S1(listi, listj, func):\n",
    "    S1 = sp.zeros(len(listi), len(listj))\n",
    "    target = func\n",
    "    for i in listi :\n",
    "        for j in listj:\n",
    "            S1[i,j] = phiij(numofnodes=2**l +1, i = i, j = j, l = l, xlist = gl.listi(a= 0,b =1, h = 2 **(-l), n1 = 2 **l + 1), func = target)\n",
    "    return S1\n",
    "\n",
    "\n",
    "l = 2\n",
    "ijlist = list(range(2**l-1))\n",
    "S1(listi = ijlist, listj=ijlist, func= a1(0))\n"
   ]
  },
  {
   "cell_type": "code",
   "execution_count": 26,
   "metadata": {},
   "outputs": [
    {
     "data": {
      "text/latex": [
       "$\\displaystyle \\left[\\begin{matrix}18.0 & -11.5 & 0\\\\-11.5 & 28.0 & -16.5\\\\0 & -16.5 & 38.0\\end{matrix}\\right]$"
      ],
      "text/plain": [
       "Matrix([\n",
       "[ 18.0, -11.5,     0],\n",
       "[-11.5,  28.0, -16.5],\n",
       "[    0, -16.5,  38.0]])"
      ]
     },
     "execution_count": 26,
     "metadata": {},
     "output_type": "execute_result"
    }
   ],
   "source": [
    "# compute S0 \n",
    "\n",
    "def S0(listi, listj, func):\n",
    "    S0 = sp.zeros(len(listi), len(listj))\n",
    "    target = func\n",
    "    for i in listi:\n",
    "        for j in listj:\n",
    "            S0[i,j] = phiij(numofnodes=2**l +1, i = i, j = j, l = l, xlist = gl.listi(a= 0,b =1, h = 2 **(-l), n1 = 2 **l + 1), func = target)\n",
    "\n",
    "    return S0 \n",
    "\n",
    "S0(listi=ijlist, listj=ijlist, func = a0(0))"
   ]
  },
  {
   "cell_type": "markdown",
   "metadata": {},
   "source": [
    "## Define Kroneker Notation \n"
   ]
  },
  {
   "cell_type": "code",
   "execution_count": 27,
   "metadata": {},
   "outputs": [
    {
     "data": {
      "text/latex": [
       "$\\displaystyle \\left[\\begin{matrix}1 & 0 & 0 & 0\\\\0 & 1 & 0 & 0\\\\0 & 0 & 1 & 0\\\\0 & 0 & 0 & 1\\end{matrix}\\right]$"
      ],
      "text/plain": [
       "Matrix([\n",
       "[1, 0, 0, 0],\n",
       "[0, 1, 0, 0],\n",
       "[0, 0, 1, 0],\n",
       "[0, 0, 0, 1]])"
      ]
     },
     "execution_count": 27,
     "metadata": {},
     "output_type": "execute_result"
    }
   ],
   "source": [
    "# n, m are integers, probably need to loop it for every possible n, m \n",
    "\n",
    "def delta_mn(m,n):\n",
    "    if n == m:\n",
    "        return 1 \n",
    "    else:\n",
    "        return 0 \n",
    "\n",
    "def delta(n,m):\n",
    "    delta = sp.zeros(len(n), len(m))\n",
    "    for ni in n:\n",
    "        for mi in m: \n",
    "            delta[ni,mi] = delta_mn(ni,mi)\n",
    "\n",
    "    return delta \n",
    "\n",
    "delta(n,m)"
   ]
  },
  {
   "cell_type": "markdown",
   "metadata": {},
   "source": [
    "## Kron Matrix A and S1 "
   ]
  },
  {
   "cell_type": "code",
   "execution_count": 28,
   "metadata": {},
   "outputs": [
    {
     "data": {
      "text/latex": [
       "$\\displaystyle \\left[\\begin{array}{cccccccccccc}0 & 0 & 0 & 1.30578600650269 & -0.974185171416235 & 0 & 0 & 0 & 0 & -2.71821316809867 \\cdot 10^{-16} & 2.02793026416508 \\cdot 10^{-16} & 0\\\\0 & 0 & 0 & -0.974185171416235 & 2.53038456359279 & -1.55619939217655 & 0 & 0 & 0 & 2.02793026416508 \\cdot 10^{-16} & -5.26742100685648 \\cdot 10^{-16} & 3.2394907426914 \\cdot 10^{-16}\\\\0 & 0 & 0 & 0 & -1.55619939217655 & 3.59765606423715 & 0 & 0 & 0 & 0 & 3.2394907426914 \\cdot 10^{-16} & -7.48912611974701 \\cdot 10^{-16}\\\\1.30578600650269 & -0.974185171416235 & 0 & -5.43642633619733 \\cdot 10^{-17} & 4.05586052833016 \\cdot 10^{-17} & 0 & 0.522314402601076 & -0.389674068566494 & 0 & 0 & 0 & 0\\\\-0.974185171416235 & 2.53038456359279 & -1.55619939217655 & 4.05586052833016 \\cdot 10^{-17} & -1.0534842013713 \\cdot 10^{-16} & 6.47898148538281 \\cdot 10^{-17} & -0.389674068566494 & 1.01215382543711 & -0.622479756870621 & 0 & 0 & 0\\\\0 & -1.55619939217655 & 3.59765606423715 & 0 & 6.47898148538281 \\cdot 10^{-17} & -1.4978252239494 \\cdot 10^{-16} & 0 & -0.622479756870621 & 1.43906242569486 & 0 & 0 & 0\\\\0 & 0 & 0 & 0.522314402601076 & -0.389674068566494 & 0 & 0 & 0 & 0 & 0.335773544529263 & -0.250504758364175 & 0\\\\0 & 0 & 0 & -0.389674068566494 & 1.01215382543711 & -0.622479756870621 & 0 & 0 & 0 & -0.250504758364175 & 0.650670316352431 & -0.400165557988256\\\\0 & 0 & 0 & 0 & -0.622479756870621 & 1.43906242569486 & 0 & 0 & 0 & 0 & -0.400165557988256 & 0.925111559375267\\\\-2.71821316809867 \\cdot 10^{-16} & 2.02793026416508 \\cdot 10^{-16} & 0 & 0 & 0 & 0 & 0.335773544529263 & -0.250504758364175 & 0 & 0 & 0 & 0\\\\2.02793026416508 \\cdot 10^{-16} & -5.26742100685648 \\cdot 10^{-16} & 3.2394907426914 \\cdot 10^{-16} & 0 & 0 & 0 & -0.250504758364175 & 0.650670316352431 & -0.400165557988256 & 0 & 0 & 0\\\\0 & 3.2394907426914 \\cdot 10^{-16} & -7.48912611974701 \\cdot 10^{-16} & 0 & 0 & 0 & 0 & -0.400165557988256 & 0.925111559375267 & 0 & 0 & 0\\end{array}\\right]$"
      ],
      "text/plain": [
       "Matrix([\n",
       "[                    0,                     0,                     0,      1.30578600650269,   -0.974185171416235,                    0,                  0,                  0,                  0, -2.71821316809867e-16,  2.02793026416508e-16,                     0],\n",
       "[                    0,                     0,                     0,    -0.974185171416235,     2.53038456359279,    -1.55619939217655,                  0,                  0,                  0,  2.02793026416508e-16, -5.26742100685648e-16,   3.2394907426914e-16],\n",
       "[                    0,                     0,                     0,                     0,    -1.55619939217655,     3.59765606423715,                  0,                  0,                  0,                     0,   3.2394907426914e-16, -7.48912611974701e-16],\n",
       "[     1.30578600650269,    -0.974185171416235,                     0, -5.43642633619733e-17, 4.05586052833016e-17,                    0,  0.522314402601076, -0.389674068566494,                  0,                     0,                     0,                     0],\n",
       "[   -0.974185171416235,      2.53038456359279,     -1.55619939217655,  4.05586052833016e-17, -1.0534842013713e-16, 6.47898148538281e-17, -0.389674068566494,   1.01215382543711, -0.622479756870621,                     0,                     0,                     0],\n",
       "[                    0,     -1.55619939217655,      3.59765606423715,                     0, 6.47898148538281e-17, -1.4978252239494e-16,                  0, -0.622479756870621,   1.43906242569486,                     0,                     0,                     0],\n",
       "[                    0,                     0,                     0,     0.522314402601076,   -0.389674068566494,                    0,                  0,                  0,                  0,     0.335773544529263,    -0.250504758364175,                     0],\n",
       "[                    0,                     0,                     0,    -0.389674068566494,     1.01215382543711,   -0.622479756870621,                  0,                  0,                  0,    -0.250504758364175,     0.650670316352431,    -0.400165557988256],\n",
       "[                    0,                     0,                     0,                     0,   -0.622479756870621,     1.43906242569486,                  0,                  0,                  0,                     0,    -0.400165557988256,     0.925111559375267],\n",
       "[-2.71821316809867e-16,  2.02793026416508e-16,                     0,                     0,                    0,                    0,  0.335773544529263, -0.250504758364175,                  0,                     0,                     0,                     0],\n",
       "[ 2.02793026416508e-16, -5.26742100685648e-16,   3.2394907426914e-16,                     0,                    0,                    0, -0.250504758364175,  0.650670316352431, -0.400165557988256,                     0,                     0,                     0],\n",
       "[                    0,   3.2394907426914e-16, -7.48912611974701e-16,                     0,                    0,                    0,                  0, -0.400165557988256,  0.925111559375267,                     0,                     0,                     0]])"
      ]
     },
     "execution_count": 28,
     "metadata": {},
     "output_type": "execute_result"
    }
   ],
   "source": [
    "def A_S1(matrixA, matrixS1):\n",
    "    A_S1 = sp.kronecker_product(matrixA, matrixS1)\n",
    "    return A_S1\n",
    "\n",
    "A_S1(matrixA= A_matrix(n= n, m= m), matrixS1= S1(listi=ijlist, listj=ijlist, func = a1(0)))\n"
   ]
  },
  {
   "cell_type": "markdown",
   "metadata": {},
   "source": [
    "## Define S0 * delta_mn\n"
   ]
  },
  {
   "cell_type": "code",
   "execution_count": 29,
   "metadata": {},
   "outputs": [
    {
     "data": {
      "text/latex": [
       "$\\displaystyle \\left[\\begin{array}{cccccccccccc}18.0 & 0 & 0 & 0 & -11.5 & 0 & 0 & 0 & 0 & 0 & 0 & 0\\\\0 & 18.0 & 0 & 0 & 0 & -11.5 & 0 & 0 & 0 & 0 & 0 & 0\\\\0 & 0 & 18.0 & 0 & 0 & 0 & -11.5 & 0 & 0 & 0 & 0 & 0\\\\0 & 0 & 0 & 18.0 & 0 & 0 & 0 & -11.5 & 0 & 0 & 0 & 0\\\\-11.5 & 0 & 0 & 0 & 28.0 & 0 & 0 & 0 & -16.5 & 0 & 0 & 0\\\\0 & -11.5 & 0 & 0 & 0 & 28.0 & 0 & 0 & 0 & -16.5 & 0 & 0\\\\0 & 0 & -11.5 & 0 & 0 & 0 & 28.0 & 0 & 0 & 0 & -16.5 & 0\\\\0 & 0 & 0 & -11.5 & 0 & 0 & 0 & 28.0 & 0 & 0 & 0 & -16.5\\\\0 & 0 & 0 & 0 & -16.5 & 0 & 0 & 0 & 38.0 & 0 & 0 & 0\\\\0 & 0 & 0 & 0 & 0 & -16.5 & 0 & 0 & 0 & 38.0 & 0 & 0\\\\0 & 0 & 0 & 0 & 0 & 0 & -16.5 & 0 & 0 & 0 & 38.0 & 0\\\\0 & 0 & 0 & 0 & 0 & 0 & 0 & -16.5 & 0 & 0 & 0 & 38.0\\end{array}\\right]$"
      ],
      "text/plain": [
       "Matrix([\n",
       "[ 18.0,     0,     0,     0, -11.5,     0,     0,     0,     0,     0,     0,     0],\n",
       "[    0,  18.0,     0,     0,     0, -11.5,     0,     0,     0,     0,     0,     0],\n",
       "[    0,     0,  18.0,     0,     0,     0, -11.5,     0,     0,     0,     0,     0],\n",
       "[    0,     0,     0,  18.0,     0,     0,     0, -11.5,     0,     0,     0,     0],\n",
       "[-11.5,     0,     0,     0,  28.0,     0,     0,     0, -16.5,     0,     0,     0],\n",
       "[    0, -11.5,     0,     0,     0,  28.0,     0,     0,     0, -16.5,     0,     0],\n",
       "[    0,     0, -11.5,     0,     0,     0,  28.0,     0,     0,     0, -16.5,     0],\n",
       "[    0,     0,     0, -11.5,     0,     0,     0,  28.0,     0,     0,     0, -16.5],\n",
       "[    0,     0,     0,     0, -16.5,     0,     0,     0,  38.0,     0,     0,     0],\n",
       "[    0,     0,     0,     0,     0, -16.5,     0,     0,     0,  38.0,     0,     0],\n",
       "[    0,     0,     0,     0,     0,     0, -16.5,     0,     0,     0,  38.0,     0],\n",
       "[    0,     0,     0,     0,     0,     0,     0, -16.5,     0,     0,     0,  38.0]])"
      ]
     },
     "execution_count": 29,
     "metadata": {},
     "output_type": "execute_result"
    }
   ],
   "source": [
    "def S0_delta(matrixS0, matrixdelta):\n",
    "    return sp.kronecker_product(matrixS0 , matrixdelta) \n",
    "\n",
    "S0_delta(matrixS0=S0(listi=ijlist, listj=ijlist, func = a0(0)), matrixdelta=delta(n,m))"
   ]
  },
  {
   "cell_type": "markdown",
   "metadata": {},
   "source": [
    "## Define S(in)(jm)\n"
   ]
  },
  {
   "cell_type": "code",
   "execution_count": 30,
   "metadata": {},
   "outputs": [
    {
     "data": {
      "text/latex": [
       "$\\displaystyle \\left[\\begin{array}{cccccccccccc}18.0 & 0 & 0 & 1.30578600650269 & -12.4741851714162 & 0 & 0 & 0 & 0 & -2.71821316809867 \\cdot 10^{-16} & 2.02793026416508 \\cdot 10^{-16} & 0\\\\0 & 18.0 & 0 & -0.974185171416235 & 2.53038456359279 & -13.0561993921766 & 0 & 0 & 0 & 2.02793026416508 \\cdot 10^{-16} & -5.26742100685648 \\cdot 10^{-16} & 3.2394907426914 \\cdot 10^{-16}\\\\0 & 0 & 18.0 & 0 & -1.55619939217655 & 3.59765606423715 & -11.5 & 0 & 0 & 0 & 3.2394907426914 \\cdot 10^{-16} & -7.48912611974701 \\cdot 10^{-16}\\\\1.30578600650269 & -0.974185171416235 & 0 & 18.0 & 4.05586052833016 \\cdot 10^{-17} & 0 & 0.522314402601076 & -11.8896740685665 & 0 & 0 & 0 & 0\\\\-12.4741851714162 & 2.53038456359279 & -1.55619939217655 & 4.05586052833016 \\cdot 10^{-17} & 28.0 & 6.47898148538281 \\cdot 10^{-17} & -0.389674068566494 & 1.01215382543711 & -17.1224797568706 & 0 & 0 & 0\\\\0 & -13.0561993921766 & 3.59765606423715 & 0 & 6.47898148538281 \\cdot 10^{-17} & 28.0 & 0 & -0.622479756870621 & 1.43906242569486 & -16.5 & 0 & 0\\\\0 & 0 & -11.5 & 0.522314402601076 & -0.389674068566494 & 0 & 28.0 & 0 & 0 & 0.335773544529263 & -16.7505047583642 & 0\\\\0 & 0 & 0 & -11.8896740685665 & 1.01215382543711 & -0.622479756870621 & 0 & 28.0 & 0 & -0.250504758364175 & 0.650670316352431 & -16.9001655579883\\\\0 & 0 & 0 & 0 & -17.1224797568706 & 1.43906242569486 & 0 & 0 & 38.0 & 0 & -0.400165557988256 & 0.925111559375267\\\\-2.71821316809867 \\cdot 10^{-16} & 2.02793026416508 \\cdot 10^{-16} & 0 & 0 & 0 & -16.5 & 0.335773544529263 & -0.250504758364175 & 0 & 38.0 & 0 & 0\\\\2.02793026416508 \\cdot 10^{-16} & -5.26742100685648 \\cdot 10^{-16} & 3.2394907426914 \\cdot 10^{-16} & 0 & 0 & 0 & -16.7505047583642 & 0.650670316352431 & -0.400165557988256 & 0 & 38.0 & 0\\\\0 & 3.2394907426914 \\cdot 10^{-16} & -7.48912611974701 \\cdot 10^{-16} & 0 & 0 & 0 & 0 & -16.9001655579883 & 0.925111559375267 & 0 & 0 & 38.0\\end{array}\\right]$"
      ],
      "text/plain": [
       "Matrix([\n",
       "[                 18.0,                     0,                     0,     1.30578600650269,    -12.4741851714162,                    0,                  0,                  0,                  0, -2.71821316809867e-16,  2.02793026416508e-16,                     0],\n",
       "[                    0,                  18.0,                     0,   -0.974185171416235,     2.53038456359279,    -13.0561993921766,                  0,                  0,                  0,  2.02793026416508e-16, -5.26742100685648e-16,   3.2394907426914e-16],\n",
       "[                    0,                     0,                  18.0,                    0,    -1.55619939217655,     3.59765606423715,              -11.5,                  0,                  0,                     0,   3.2394907426914e-16, -7.48912611974701e-16],\n",
       "[     1.30578600650269,    -0.974185171416235,                     0,                 18.0, 4.05586052833016e-17,                    0,  0.522314402601076,  -11.8896740685665,                  0,                     0,                     0,                     0],\n",
       "[    -12.4741851714162,      2.53038456359279,     -1.55619939217655, 4.05586052833016e-17,                 28.0, 6.47898148538281e-17, -0.389674068566494,   1.01215382543711,  -17.1224797568706,                     0,                     0,                     0],\n",
       "[                    0,     -13.0561993921766,      3.59765606423715,                    0, 6.47898148538281e-17,                 28.0,                  0, -0.622479756870621,   1.43906242569486,                 -16.5,                     0,                     0],\n",
       "[                    0,                     0,                 -11.5,    0.522314402601076,   -0.389674068566494,                    0,               28.0,                  0,                  0,     0.335773544529263,     -16.7505047583642,                     0],\n",
       "[                    0,                     0,                     0,    -11.8896740685665,     1.01215382543711,   -0.622479756870621,                  0,               28.0,                  0,    -0.250504758364175,     0.650670316352431,     -16.9001655579883],\n",
       "[                    0,                     0,                     0,                    0,    -17.1224797568706,     1.43906242569486,                  0,                  0,               38.0,                     0,    -0.400165557988256,     0.925111559375267],\n",
       "[-2.71821316809867e-16,  2.02793026416508e-16,                     0,                    0,                    0,                -16.5,  0.335773544529263, -0.250504758364175,                  0,                  38.0,                     0,                     0],\n",
       "[ 2.02793026416508e-16, -5.26742100685648e-16,   3.2394907426914e-16,                    0,                    0,                    0,  -16.7505047583642,  0.650670316352431, -0.400165557988256,                     0,                  38.0,                     0],\n",
       "[                    0,   3.2394907426914e-16, -7.48912611974701e-16,                    0,                    0,                    0,                  0,  -16.9001655579883,  0.925111559375267,                     0,                     0,                  38.0]])"
      ]
     },
     "execution_count": 30,
     "metadata": {},
     "output_type": "execute_result"
    }
   ],
   "source": [
    "def S_in_jm(matrixS1_Amn, matrixS0_delta):\n",
    "    return matrixS0_delta + matrixS1_Amn\n",
    "\n",
    "S_in_jm(matrixS1_Amn= A_S1(matrixA=A_matrix(n,m), matrixS1=S1(listi = ijlist, listj=ijlist, func= a1(0))), matrixS0_delta=S0_delta(matrixS0=S0(listi=ijlist, listj=ijlist, func = a0(0)), matrixdelta=delta(n,m)))"
   ]
  },
  {
   "cell_type": "markdown",
   "metadata": {},
   "source": [
    "## Define Fi and F "
   ]
  },
  {
   "cell_type": "code",
   "execution_count": 31,
   "metadata": {},
   "outputs": [
    {
     "data": {
      "text/latex": [
       "$\\displaystyle \\left[\\begin{matrix}-1.42649827894617\\\\0\\\\0\\\\0\\\\0\\\\0\\\\0\\\\0\\\\0\\\\0\\\\0\\\\0\\end{matrix}\\right]$"
      ],
      "text/plain": [
       "Matrix([\n",
       "[-1.42649827894617],\n",
       "[                0],\n",
       "[                0],\n",
       "[                0],\n",
       "[                0],\n",
       "[                0],\n",
       "[                0],\n",
       "[                0],\n",
       "[                0],\n",
       "[                0],\n",
       "[                0],\n",
       "[                0]])"
      ]
     },
     "execution_count": 31,
     "metadata": {},
     "output_type": "execute_result"
    }
   ],
   "source": [
    "def intergrand(numofnodes, i, l, xlist, f, ci, xi, n2):\n",
    "    def phi_j(numofnodes, i, l, k):\n",
    "        def phi_j_function(s):\n",
    "            if k == i:\n",
    "                return 2**l * (s - (i / 2**l))\n",
    "            elif k == i + 1:\n",
    "                return -(2**l * (s - ((i + 2) / 2**l)))\n",
    "            else:\n",
    "                return 0\n",
    "        return phi_j_function\n",
    "\n",
    "    finalsum = 0\n",
    "    for k in range(numofnodes-1):\n",
    "        phi_j_func = phi_j(numofnodes, i, l, k)\n",
    "        x = xlist[k]\n",
    "        y = xlist[k+1]\n",
    "        sum = 0\n",
    "        for j in range(n2):\n",
    "            s = 0.5 * ((y - x) * xi[j] + (y + x))\n",
    "            h = f(s) * phi_j_func(s)\n",
    "            prod = ci[j] * h\n",
    "            sum += prod\n",
    "        onegl = (y - x) / 2 * sum\n",
    "        finalsum += onegl\n",
    "\n",
    "    return finalsum\n",
    "\n",
    "def f(s): ## is f(s) supposed to be a function of y? --> u(x,y) and a(x,y) = f(x,y)\n",
    "    return -4 + math.cos(s) -2*s*math.cos(s) - 2* math.sin(s)\n",
    "\n",
    "def F(n, i):\n",
    "    F = sp.zeros((len(i)*len(n)), 1)\n",
    "    for ii in i :\n",
    "        for ni in n: \n",
    "            if ni == 0:\n",
    "                F[(ii*ni), 0] = intergrand(numofnodes=2**l +1, i = ii, l = l, xlist =gl.listi(a= 0,b =1, h = 2 **(-l), n1 = 2 **l + 1), f = f, ci = gl.gauleg(n2 = 5)[1], xi = gl.gauleg(n2=5)[0], n2 = 5)\n",
    "            else: \n",
    "                F[(ii*ni), 0] = 0 \n",
    "    return F\n",
    "\n",
    "F(n, i = ijlist)\n",
    "\n"
   ]
  },
  {
   "cell_type": "markdown",
   "metadata": {},
   "source": [
    "## Solving for C "
   ]
  },
  {
   "cell_type": "code",
   "execution_count": 33,
   "metadata": {},
   "outputs": [
    {
     "data": {
      "text/latex": [
       "$\\displaystyle \\left[\\begin{matrix}-0.155229880454112\\\\0.0432822820979214\\\\-0.0295191640565459\\\\0.0314645711040415\\\\-0.106343905782262\\\\0.0367134238032302\\\\-0.0203278573646252\\\\0.0261472923741593\\\\-0.0497251716179978\\\\0.0162933439639834\\\\-0.00993193262002458\\\\0.0128393395018985\\end{matrix}\\right]$"
      ],
      "text/plain": [
       "Matrix([\n",
       "[  -0.155229880454112],\n",
       "[  0.0432822820979214],\n",
       "[ -0.0295191640565459],\n",
       "[  0.0314645711040415],\n",
       "[  -0.106343905782262],\n",
       "[  0.0367134238032302],\n",
       "[ -0.0203278573646252],\n",
       "[  0.0261472923741593],\n",
       "[ -0.0497251716179978],\n",
       "[  0.0162933439639834],\n",
       "[-0.00993193262002458],\n",
       "[  0.0128393395018985]])"
      ]
     },
     "execution_count": 33,
     "metadata": {},
     "output_type": "execute_result"
    }
   ],
   "source": [
    "def C(matrixS, matrixF):\n",
    "    S_inv = matrixS.inv()\n",
    "    C = S_inv * matrixF\n",
    "    return C\n",
    "\n",
    "C( matrixS= S_in_jm(matrixS1_Amn= A_S1(matrixA=A_matrix(n,m), matrixS1=S1(listi = ijlist, listj=ijlist, func= a1(0))), matrixS0_delta=S0_delta(matrixS0=S0(listi=ijlist, listj=ijlist, func = a0(0)), matrixdelta=delta(n,m))), matrixF= F(n, i = ijlist) ) "
   ]
  },
  {
   "cell_type": "markdown",
   "metadata": {},
   "source": [
    "## Computing error "
   ]
  },
  {
   "cell_type": "code",
   "execution_count": 34,
   "metadata": {},
   "outputs": [
    {
     "data": {
      "text/latex": [
       "$\\displaystyle 0.221435157308811$"
      ],
      "text/plain": [
       "0.221435157308811"
      ]
     },
     "execution_count": 34,
     "metadata": {},
     "output_type": "execute_result"
    }
   ],
   "source": [
    "def approx_new(ijlist, c, F):\n",
    "    approx_new = 0 \n",
    "    for i in ijlist : \n",
    "        prod = c[i] * F[i]\n",
    "        approx_new = approx_new + prod\n",
    "    return approx_new\n",
    "\n",
    "approx_new(ijlist= ijlist, c = C( matrixS= S_in_jm(matrixS1_Amn= A_S1(matrixA=A_matrix(n,m), matrixS1=S1(listi = ijlist, listj=ijlist, func= a1(0))), matrixS0_delta=S0_delta(matrixS0=S0(listi=ijlist, listj=ijlist, func = a0(0)), matrixdelta=delta(n,m))), matrixF= F(n, i = ijlist) ) , F =F(n, i = ijlist) )"
   ]
  }
 ],
 "metadata": {
  "kernelspec": {
   "display_name": ".venv",
   "language": "python",
   "name": "python3"
  },
  "language_info": {
   "codemirror_mode": {
    "name": "ipython",
    "version": 3
   },
   "file_extension": ".py",
   "mimetype": "text/x-python",
   "name": "python",
   "nbconvert_exporter": "python",
   "pygments_lexer": "ipython3",
   "version": "3.10.7"
  }
 },
 "nbformat": 4,
 "nbformat_minor": 2
}
