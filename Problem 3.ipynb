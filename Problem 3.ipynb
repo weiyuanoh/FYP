{
 "cells": [
  {
   "cell_type": "code",
   "execution_count": 24,
   "metadata": {},
   "outputs": [
    {
     "name": "stdout",
     "output_type": "stream",
     "text": [
      "The autoreload extension is already loaded. To reload it, use:\n",
      "  %reload_ext autoreload\n"
     ]
    }
   ],
   "source": [
    "%load_ext autoreload\n",
    "\n",
    "%autoreload 2\n",
    "\n",
    "import gauleg as gl \n",
    "import sympy as sp \n",
    "import numpy as np \n",
    "import pandas as pd \n",
    "import math"
   ]
  },
  {
   "cell_type": "markdown",
   "metadata": {},
   "source": [
    "## Finding Lm Ln Polynomials \n"
   ]
  },
  {
   "cell_type": "code",
   "execution_count": 59,
   "metadata": {},
   "outputs": [
    {
     "data": {
      "text/latex": [
       "$\\displaystyle \\left( y \\mapsto \\frac{5 y \\left(\\frac{3 y^{2}}{2} - \\frac{1}{2}\\right)}{3} - \\frac{2 y}{3} \\right)$"
      ],
      "text/plain": [
       "Lambda(y, 5*y*(3*y**2/2 - 1/2)/3 - 2*y/3)"
      ]
     },
     "execution_count": 59,
     "metadata": {},
     "output_type": "execute_result"
    }
   ],
   "source": [
    "def legendre_polynomial(n):\n",
    "    if n == 0:\n",
    "        return sp.Lambda(y, 1)\n",
    "    elif n == 1:\n",
    "        return sp.Lambda(y, y)\n",
    "    else:\n",
    "        P_n_minus_1 = legendre_polynomial(n-1)\n",
    "        P_n_minus_2 = legendre_polynomial(n-2)\n",
    "        return sp.Lambda(y, ((2*n - 1) * y * P_n_minus_1(y) - (n - 1) * P_n_minus_2(y)) / n)\n",
    "\n",
    "# Example usage:\n",
    "n = 3\n",
    "Ln = legendre_polynomial(n)\n",
    "Ln\n"
   ]
  },
  {
   "cell_type": "markdown",
   "metadata": {},
   "source": [
    "## Computing Anm using GL Quadrature --> finding A "
   ]
  },
  {
   "cell_type": "code",
   "execution_count": 78,
   "metadata": {},
   "outputs": [
    {
     "data": {
      "text/latex": [
       "$\\displaystyle y \\left(\\frac{3 y^{2}}{2} - \\frac{1}{2}\\right)^{2}$"
      ],
      "text/plain": [
       "y*(3*y**2/2 - 1/2)**2"
      ]
     },
     "execution_count": 78,
     "metadata": {},
     "output_type": "execute_result"
    }
   ],
   "source": [
    "n = [0,1,2]\n",
    "m = [0,1,2,3]\n",
    "\n",
    "def Anm(n, m):\n",
    "    y = sp.symbols('y')\n",
    "    Ln = legendre_polynomial(n)\n",
    "    Lm = legendre_polynomial(m)\n",
    "    return y * Ln(y) * Lm(y)\n",
    "\n",
    "def Anm_gauleg(xi, ci, b , a, n2, n, m):\n",
    "    sum = 0 \n",
    "    Anm_expr = Anm(n,m)\n",
    "    for i in range(n2):\n",
    "        y_value = (0.5*(((b-a)*xi[i])+(b+a)))\n",
    "        prod = ci[i]* Anm_expr.subs(y, y_value)\n",
    "        sum = sum + prod \n",
    "    return sum \n",
    "\n",
    "def A_matrix(n,m):\n",
    "    A_matrix = sp.zeros(len(n),len(m))\n",
    "    n2 = math.floor((len(n)+len(m))/2) + 1\n",
    "    xi = gl.gauleg(n2)[0] # satisfying dop of GL for p+1 is 2p + 1\n",
    "    ci = gl.gauleg(n2)[1]\n",
    "    for ni in n:\n",
    "        for mi in m:\n",
    "            A_matrix[ni ,mi] = Anm_gauleg(xi= xi, ci = ci, b = 1, a = -1, n2 = n2, n = ni, m = mi)\n",
    "    return A_matrix\n",
    "\n",
    "anm = Anm(n = 2,m = 2)\n",
    "anm\n"
   ]
  },
  {
   "cell_type": "markdown",
   "metadata": {},
   "source": [
    "## Define A(x,y) "
   ]
  },
  {
   "cell_type": "code",
   "execution_count": 75,
   "metadata": {},
   "outputs": [],
   "source": [
    "def a(x, y):\n",
    "    x = sp.symbols('x')\n",
    "    y = sp.symbols('y')\n",
    "    return 5 * x + 1 + y * sp.sin(x)\n",
    "\n",
    "def a0(x):\n",
    "    x = sp.symbols('x')\n",
    "    return 5 * x + 1 \n",
    "\n",
    "def a1(x):\n",
    "    x = sp.symbols('x')\n",
    "    return sp.sin(x)\n"
   ]
  },
  {
   "cell_type": "markdown",
   "metadata": {},
   "source": [
    "## Define (S1) matrix and (S0) matrix\n"
   ]
  },
  {
   "cell_type": "code",
   "execution_count": 83,
   "metadata": {},
   "outputs": [
    {
     "data": {
      "text/latex": [
       "$\\displaystyle \\left[\\begin{matrix}17.958679009754 & -9.46127775712435 & 0\\\\-9.46127775712435 & 19.7955768453892 & -10.3342990882648\\\\0 & -10.3342990882648 & 21.3964840963557\\end{matrix}\\right]$"
      ],
      "text/plain": [
       "Matrix([\n",
       "[  17.958679009754, -9.46127775712435,                 0],\n",
       "[-9.46127775712435,  19.7955768453892, -10.3342990882648],\n",
       "[                0, -10.3342990882648,  21.3964840963557]])"
      ]
     },
     "execution_count": 83,
     "metadata": {},
     "output_type": "execute_result"
    }
   ],
   "source": [
    "def GL(xi, ci, y, x, n2, func):\n",
    "\tsum = 0 \n",
    "\tfor i in range(n2):\n",
    "\t\tprod = ci[i]*func(0.5*(((y-x)*xi[i])+(y+x)))\n",
    "\t\tsum = sum + prod \n",
    "\treturn (y-x)/2 * (sum)\n",
    "\n",
    "\n",
    "def phiij(numofnodes, i, j, l, xlist):\n",
    "\tfinalsum = 0\n",
    "\tfor k in range(numofnodes-1):\n",
    "\n",
    "\t\tx = xlist[k]\n",
    "\t\ty = xlist[k+1]\n",
    "\t \n",
    "\t\tif k == i :\n",
    "\t\t\td_phi_i = 2**l \n",
    "\t\telif k == i + 1 :\n",
    "\t\t\td_phi_i = -2**l \n",
    "\t\telse: \n",
    "\t\t\td_phi_i = 0 \n",
    " \n",
    "\t\tif k == j : \n",
    "\t\t\td_phi_j = 2**l \n",
    "\t\telif k == j + 1 :\n",
    "\t\t\td_phi_j = -2**l \n",
    "\t\telse:\n",
    "\t\t\td_phi_j = 0 \n",
    "\n",
    "\t\tn2 = 5 \n",
    "\t\txi = gl.gauleg(n2)[0]\n",
    "\t\tci = gl.gauleg(n2)[1]\n",
    "\t\tonegl = GL(xi = xi, ci = ci, y = y, x = x, n2 = 5, func = a1) * d_phi_i *d_phi_j\n",
    "\t\tfinalsum = finalsum + onegl\n",
    "\n",
    "\treturn finalsum\n",
    "\n",
    "def S1(listi, listj):\n",
    "    S1 = sp.zeros(len(listi), len(listj))\n",
    "    l = 2\n",
    "    for i in listi :\n",
    "        for j in listj:\n",
    "            S1[i,j] = gl.phiij(numofnodes=2**l +1, i = i, j = j, xlist = gl.listi(a= 0,b =1, h = 2 **(-l), n1 = 2 **l + 1), l = l)\n",
    "    return S1\n",
    "\n",
    "S1(listi = [0,1,2], listj=[0,1,2])\n"
   ]
  },
  {
   "cell_type": "code",
   "execution_count": null,
   "metadata": {},
   "outputs": [],
   "source": []
  }
 ],
 "metadata": {
  "kernelspec": {
   "display_name": ".venv",
   "language": "python",
   "name": "python3"
  },
  "language_info": {
   "codemirror_mode": {
    "name": "ipython",
    "version": 3
   },
   "file_extension": ".py",
   "mimetype": "text/x-python",
   "name": "python",
   "nbconvert_exporter": "python",
   "pygments_lexer": "ipython3",
   "version": "3.10.7"
  }
 },
 "nbformat": 4,
 "nbformat_minor": 2
}
