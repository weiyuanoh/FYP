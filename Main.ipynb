{
 "cells": [
  {
   "cell_type": "code",
   "execution_count": 2,
   "metadata": {},
   "outputs": [],
   "source": [
    "%load_ext autoreload\n",
    "\n",
    "%autoreload 2\n",
    "\n",
    "import gauleg as gl \n",
    "import numpy as np "
   ]
  },
  {
   "cell_type": "code",
   "execution_count": 3,
   "metadata": {},
   "outputs": [
    {
     "name": "stdout",
     "output_type": "stream",
     "text": [
      "[0.0, 0.25, 0.5, 0.75, 1.0]\n",
      "2.2474039592545227\n",
      "[[0. 0. 0.]\n",
      " [0. 0. 0.]\n",
      " [0. 0. 0.]]\n"
     ]
    }
   ],
   "source": [
    "# initial variables \n",
    "\n",
    "a = 0 \n",
    "b = 1 \n",
    "l = 2 # for a 4 slot problem \n",
    "h = 2 **(-l) # distance between xi, xi+1 is 1 * 2**-l \n",
    "n1 = 2**l + 1 # number of nodes \n",
    "\n",
    "n2 = 5 # number of roots in each GL \n",
    "ijlist = list(range(2**l-1))\n",
    "\n",
    "dim = 2**l -1 # number of phi functions i have for l \n",
    "\n",
    "### sanity check ###\n",
    "\"\"\"\n",
    "if l = 2 i expect to have 4 slots and 3 functions and 5 points \n",
    "2**l = 2**2 = 4 --> [a = x0,x1,x2,x3,x4 = b]\n",
    "dim of matrix = 3 = 2**2 -1 \n",
    "gradient = 1 / 2**-l \n",
    "n1 = 5  --> number of points \n",
    "\"\"\"\n",
    "\n",
    "\n",
    "x_list = gl.listi(a,b,h,n1)\n",
    "print(x_list)\n",
    "\n",
    "\n",
    "a = gl.a(0.25)\n",
    "print(a)\n",
    "\n",
    "matrix = np.zeros((dim, dim))\n",
    "print(matrix)\n",
    "\n",
    "\n",
    "\n",
    "\n"
   ]
  },
  {
   "cell_type": "code",
   "execution_count": 4,
   "metadata": {},
   "outputs": [
    {
     "name": "stdout",
     "output_type": "stream",
     "text": [
      "([-0.906179845938664, -0.5384693101056831, 0.0, 0.5384693101056831, 0.906179845938664], [0.236926885056189, 0.47862867049936647, 0.5688888888888889, 0.47862867049936647, 0.236926885056189])\n",
      "[-0.906179845938664, -0.5384693101056831, 0.0, 0.5384693101056831, 0.906179845938664]\n"
     ]
    }
   ],
   "source": [
    "results = gl.gauleg(n2 = 5)\n",
    "print(results)\n",
    "print(results[0])\n"
   ]
  },
  {
   "cell_type": "code",
   "execution_count": 5,
   "metadata": {},
   "outputs": [
    {
     "data": {
      "text/plain": [
       "0.5310875782893552"
      ]
     },
     "execution_count": 5,
     "metadata": {},
     "output_type": "execute_result"
    }
   ],
   "source": [
    "gl.GL(xi = results[0], ci = results[1], y = 0.25, x= 0, n2 = 5 )\n"
   ]
  },
  {
   "cell_type": "code",
   "execution_count": 6,
   "metadata": {},
   "outputs": [
    {
     "data": {
      "text/plain": [
       "-9.461277757124352"
      ]
     },
     "execution_count": 6,
     "metadata": {},
     "output_type": "execute_result"
    }
   ],
   "source": [
    "gl.phiij(numofnodes=5, i=0, j =1 , l = l , xlist=x_list)"
   ]
  },
  {
   "cell_type": "code",
   "execution_count": 7,
   "metadata": {},
   "outputs": [
    {
     "data": {
      "text/plain": [
       "array([[ 17.95867901,  -9.46127776,   0.        ],\n",
       "       [ -9.46127776,  19.79557685, -10.33429909],\n",
       "       [  0.        , -10.33429909,  21.3964841 ]])"
      ]
     },
     "execution_count": 7,
     "metadata": {},
     "output_type": "execute_result"
    }
   ],
   "source": [
    "gl.matrix(ijlist=ijlist, matrix=matrix, n1=n1, l=l, xlist=x_list )"
   ]
  },
  {
   "cell_type": "code",
   "execution_count": 8,
   "metadata": {},
   "outputs": [
    {
     "data": {
      "text/plain": [
       "np.float64(-10.334299088264828)"
      ]
     },
     "execution_count": 8,
     "metadata": {},
     "output_type": "execute_result"
    }
   ],
   "source": [
    "matrix[1][2]"
   ]
  },
  {
   "cell_type": "code",
   "execution_count": 13,
   "metadata": {},
   "outputs": [],
   "source": [
    "a = 0 \n",
    "b = 1 \n",
    "l = 2 # for a 32 slot problem \n",
    "h = 2 **(-l) # distance between xi, xi+1 is 1 * 2**-l \n",
    "n1 = 2**l + 1 # number of nodes \n",
    "\n",
    "n2 = 5 # number of roots in each GL \n",
    "ijlist = list(range(2**l-1))\n",
    "dim = 2**l -1 # number of phi functions i have for l \n",
    "x_list = gl.listi(a,b,h,n1)\n",
    "matrix = np.zeros((dim, dim))\n"
   ]
  },
  {
   "cell_type": "code",
   "execution_count": 14,
   "metadata": {},
   "outputs": [
    {
     "data": {
      "text/plain": [
       "array([[ 17.95867901,  -9.46127776,   0.        ],\n",
       "       [ -9.46127776,  19.79557685, -10.33429909],\n",
       "       [  0.        , -10.33429909,  21.3964841 ]])"
      ]
     },
     "execution_count": 14,
     "metadata": {},
     "output_type": "execute_result"
    }
   ],
   "source": [
    "gl.matrix(ijlist=ijlist, matrix=matrix, n1=n1, l=l, xlist=x_list )"
   ]
  },
  {
   "cell_type": "code",
   "execution_count": 15,
   "metadata": {},
   "outputs": [
    {
     "name": "stdout",
     "output_type": "stream",
     "text": [
      "1.11 ms ± 35.1 μs per loop (mean ± std. dev. of 7 runs, 1,000 loops each)\n"
     ]
    }
   ],
   "source": [
    "%timeit gl.matrix(ijlist=ijlist, matrix=matrix, n1=n1, l=l, xlist=x_list )"
   ]
  },
  {
   "cell_type": "code",
   "execution_count": 16,
   "metadata": {},
   "outputs": [
    {
     "data": {
      "text/plain": [
       "array([[0.],\n",
       "       [0.],\n",
       "       [0.]])"
      ]
     },
     "execution_count": 16,
     "metadata": {},
     "output_type": "execute_result"
    }
   ],
   "source": [
    "F = np.zeros((dim,1))\n",
    "F"
   ]
  },
  {
   "cell_type": "code",
   "execution_count": null,
   "metadata": {},
   "outputs": [],
   "source": []
  }
 ],
 "metadata": {
  "kernelspec": {
   "display_name": ".venv",
   "language": "python",
   "name": "python3"
  },
  "language_info": {
   "codemirror_mode": {
    "name": "ipython",
    "version": 3
   },
   "file_extension": ".py",
   "mimetype": "text/x-python",
   "name": "python",
   "nbconvert_exporter": "python",
   "pygments_lexer": "ipython3",
   "version": "3.10.7"
  }
 },
 "nbformat": 4,
 "nbformat_minor": 2
}
