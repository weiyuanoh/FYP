{
 "cells": [
  {
   "cell_type": "code",
   "execution_count": 37,
   "metadata": {},
   "outputs": [
    {
     "name": "stdout",
     "output_type": "stream",
     "text": [
      "The autoreload extension is already loaded. To reload it, use:\n",
      "  %reload_ext autoreload\n"
     ]
    }
   ],
   "source": [
    "%load_ext autoreload\n",
    "\n",
    "%autoreload 2\n",
    "\n",
    "import gauleg as gl \n",
    "import numpy as np "
   ]
  },
  {
   "cell_type": "code",
   "execution_count": 38,
   "metadata": {},
   "outputs": [
    {
     "name": "stdout",
     "output_type": "stream",
     "text": [
      "[0.0, 0.25, 0.5, 0.75, 1.0]\n",
      "2.2474039592545227\n",
      "[[0. 0. 0.]\n",
      " [0. 0. 0.]\n",
      " [0. 0. 0.]]\n"
     ]
    }
   ],
   "source": [
    "# initial variables \n",
    "\n",
    "a = 0 \n",
    "b = 1 \n",
    "l = 2 # for a 4 slot problem \n",
    "h = 2 **(-l) # distance between xi, xi+1 is 1 * 2**-l \n",
    "n1 = 5 # number of nodes \n",
    "\n",
    "n2 = 5 # number of roots in each GL \n",
    "ijlist = [1,2,3]\n",
    "\n",
    "d_phi_i = [0, 1/(2**-l) , (-1/(2**-l))] # only 2 possibilities for d_phi_i \n",
    "d_phi_j = [0, 1/(2**-l) , (-1/(2**-l))]\n",
    "dim = 2**l -1 # number of phi functions i have for l \n",
    "\n",
    "### sanity check ###\n",
    "\"\"\"\n",
    "if l = 2 i expect to have 4 slots and 3 functions and 5 points \n",
    "2**l = 2**2 = 4 --> [a = x0,x1,x2,x3,x4 = b]\n",
    "dim of matrix = 3 = 2**2 -1 \n",
    "gradient = 1 / 2**-l \n",
    "n = 5  --> number of points \n",
    "\"\"\"\n",
    "\n",
    "\n",
    "x_list = gl.listi(a,b,h,n)\n",
    "print(x_list)\n",
    "\n",
    "\n",
    "a = gl.a(0.25)\n",
    "print(a)\n",
    "\n",
    "matrix = np.zeros((dim, dim))\n",
    "print(matrix)\n",
    "\n",
    "\n",
    "\n",
    "\n"
   ]
  },
  {
   "cell_type": "code",
   "execution_count": 75,
   "metadata": {},
   "outputs": [
    {
     "name": "stdout",
     "output_type": "stream",
     "text": [
      "([-0.906179845938664, -0.5384693101056831, 0.0, 0.5384693101056831, 0.906179845938664], [0.236926885056189, 0.47862867049936647, 0.5688888888888889, 0.47862867049936647, 0.236926885056189])\n",
      "[-0.906179845938664, -0.5384693101056831, 0.0, 0.5384693101056831, 0.906179845938664]\n"
     ]
    }
   ],
   "source": [
    "results = gl.gauleg(n2 = 5)\n",
    "print(results)\n",
    "print(results[0])\n"
   ]
  },
  {
   "cell_type": "code",
   "execution_count": 77,
   "metadata": {},
   "outputs": [
    {
     "data": {
      "text/plain": [
       "0.5310875782893552"
      ]
     },
     "execution_count": 77,
     "metadata": {},
     "output_type": "execute_result"
    }
   ],
   "source": [
    "gl.GL(xi = results[0], ci = results[1], y = 0.25, x= 0, n2 = 5 )\n"
   ]
  }
 ],
 "metadata": {
  "kernelspec": {
   "display_name": ".venv",
   "language": "python",
   "name": "python3"
  },
  "language_info": {
   "codemirror_mode": {
    "name": "ipython",
    "version": 3
   },
   "file_extension": ".py",
   "mimetype": "text/x-python",
   "name": "python",
   "nbconvert_exporter": "python",
   "pygments_lexer": "ipython3",
   "version": "3.10.7"
  }
 },
 "nbformat": 4,
 "nbformat_minor": 2
}
