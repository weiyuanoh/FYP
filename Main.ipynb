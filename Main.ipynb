{
 "cells": [
  {
   "cell_type": "code",
   "execution_count": 51,
   "metadata": {},
   "outputs": [
    {
     "name": "stdout",
     "output_type": "stream",
     "text": [
      "The autoreload extension is already loaded. To reload it, use:\n",
      "  %reload_ext autoreload\n"
     ]
    }
   ],
   "source": [
    "%load_ext autoreload\n",
    "\n",
    "%autoreload 2\n",
    "\n",
    "import gauleg as gl \n",
    "import sympy as sp \n",
    "import numpy as np "
   ]
  },
  {
   "cell_type": "code",
   "execution_count": 72,
   "metadata": {},
   "outputs": [
    {
     "name": "stdout",
     "output_type": "stream",
     "text": [
      "[0.0, 0.25, 0.5, 0.75, 1.0]\n",
      "2.2474039592545227\n",
      "Matrix([[0, 0, 0], [0, 0, 0], [0, 0, 0]])\n"
     ]
    }
   ],
   "source": [
    "# initial variables \n",
    "\n",
    "a = 0 \n",
    "b = 1 \n",
    "l = 2 # for a 4 slot problem \n",
    "h = 2 **(-l) # distance between xi, xi+1 is 1 * 2**-l \n",
    "n1 = 2**l + 1 # number of nodes \n",
    "\n",
    "n2 = 5 # number of roots in each GL \n",
    "ijlist = list(range(2**l-1))\n",
    "\n",
    "dim = 2**l -1 # number of phi functions i have for l \n",
    "\n",
    "### sanity check ###\n",
    "\"\"\"\n",
    "if l = 2 i expect to have 4 slots and 3 functions and 5 points \n",
    "2**l = 2**2 = 4 --> [a = x0,x1,x2,x3,x4 = b]\n",
    "dim of matrix = 3 = 2**2 -1 \n",
    "gradient = 1 / 2**-l \n",
    "n1 = 5  --> number of points \n",
    "\"\"\"\n",
    "\n",
    "\n",
    "x_list = gl.listi(a,b,h,n1)\n",
    "print(x_list)\n",
    "\n",
    "\n",
    "a = gl.a(0.25)\n",
    "print(a)\n",
    "\n",
    "matrix = sp.zeros(dim, dim)\n",
    "print(matrix)\n",
    "\n",
    "\n",
    "\n",
    "\n"
   ]
  },
  {
   "cell_type": "code",
   "execution_count": 73,
   "metadata": {},
   "outputs": [
    {
     "name": "stdout",
     "output_type": "stream",
     "text": [
      "([-0.906179845938664, -0.5384693101056831, 0.0, 0.5384693101056831, 0.906179845938664], [0.236926885056189, 0.47862867049936647, 0.5688888888888889, 0.47862867049936647, 0.236926885056189])\n",
      "[-0.906179845938664, -0.5384693101056831, 0.0, 0.5384693101056831, 0.906179845938664]\n"
     ]
    }
   ],
   "source": [
    "results = gl.gauleg(n2 = 5)\n",
    "print(results)\n",
    "print(results[0])\n"
   ]
  },
  {
   "cell_type": "code",
   "execution_count": 74,
   "metadata": {},
   "outputs": [
    {
     "data": {
      "text/plain": [
       "0.5310875782893552"
      ]
     },
     "execution_count": 74,
     "metadata": {},
     "output_type": "execute_result"
    }
   ],
   "source": [
    "gl.GL(xi = results[0], ci = results[1], y = 0.25, x= 0, n2 = 5, func= gl.a )\n"
   ]
  },
  {
   "cell_type": "code",
   "execution_count": 75,
   "metadata": {},
   "outputs": [
    {
     "data": {
      "text/plain": [
       "-9.461277757124352"
      ]
     },
     "execution_count": 75,
     "metadata": {},
     "output_type": "execute_result"
    }
   ],
   "source": [
    "gl.phiij(numofnodes=5, i=0, j =1 , l = l , xlist=x_list)"
   ]
  },
  {
   "cell_type": "code",
   "execution_count": 76,
   "metadata": {},
   "outputs": [
    {
     "data": {
      "text/latex": [
       "$\\displaystyle \\left[\\begin{matrix}17.958679009754 & -9.46127775712435 & 0\\\\-9.46127775712435 & 19.7955768453892 & -10.3342990882648\\\\0 & -10.3342990882648 & 21.3964840963557\\end{matrix}\\right]$"
      ],
      "text/plain": [
       "Matrix([\n",
       "[  17.958679009754, -9.46127775712435,                 0],\n",
       "[-9.46127775712435,  19.7955768453892, -10.3342990882648],\n",
       "[                0, -10.3342990882648,  21.3964840963557]])"
      ]
     },
     "execution_count": 76,
     "metadata": {},
     "output_type": "execute_result"
    }
   ],
   "source": [
    "matrix = gl.matrix(ijlist=ijlist, matrix=matrix, n1=n1, l=l, xlist=x_list )\n",
    "matrix"
   ]
  },
  {
   "cell_type": "code",
   "execution_count": 11,
   "metadata": {},
   "outputs": [
    {
     "name": "stdout",
     "output_type": "stream",
     "text": [
      "1.08 ms ± 26.7 μs per loop (mean ± std. dev. of 7 runs, 1,000 loops each)\n"
     ]
    }
   ],
   "source": [
    "%timeit gl.matrix(ijlist=ijlist, matrix=matrix, n1=n1, l=l, xlist=x_list )"
   ]
  },
  {
   "cell_type": "code",
   "execution_count": 77,
   "metadata": {},
   "outputs": [
    {
     "data": {
      "text/latex": [
       "$\\displaystyle \\left[\\begin{matrix}0\\\\0\\\\0\\end{matrix}\\right]$"
      ],
      "text/plain": [
       "Matrix([\n",
       "[0],\n",
       "[0],\n",
       "[0]])"
      ]
     },
     "execution_count": 77,
     "metadata": {},
     "output_type": "execute_result"
    }
   ],
   "source": [
    "F_empty = sp.zeros(dim,1)\n",
    "F_empty"
   ]
  },
  {
   "cell_type": "code",
   "execution_count": 78,
   "metadata": {},
   "outputs": [
    {
     "data": {
      "text/latex": [
       "$\\displaystyle \\left[\\begin{matrix}1.00129127391868\\\\1.23598024222926\\\\1.42649827894617\\end{matrix}\\right]$"
      ],
      "text/plain": [
       "Matrix([\n",
       "[1.00129127391868],\n",
       "[1.23598024222926],\n",
       "[1.42649827894617]])"
      ]
     },
     "execution_count": 78,
     "metadata": {},
     "output_type": "execute_result"
    }
   ],
   "source": [
    "def intergrand(numofnodes, i, l, xlist, f, ci, xi, n2):\n",
    "    def phi_j(numofnodes, i, l, k):\n",
    "        def phi_j_function(s):\n",
    "            if k == i:\n",
    "                return 2**l * (s - (i / 2**l))\n",
    "            elif k == i + 1:\n",
    "                return -(2**l * (s - ((i + 2) / 2**l)))\n",
    "            else:\n",
    "                return 0\n",
    "        return phi_j_function\n",
    "\n",
    "    finalsum = 0\n",
    "    for k in range(numofnodes-1):\n",
    "        phi_j_func = phi_j(numofnodes, i, l, k)\n",
    "        x = xlist[k]\n",
    "        y = xlist[k+1]\n",
    "        sum = 0\n",
    "        for j in range(n2):\n",
    "            s = 0.5 * ((y - x) * xi[j] + (y + x))\n",
    "            h = f(s) * phi_j_func(s)\n",
    "            prod = ci[j] * h\n",
    "            sum += prod\n",
    "        onegl = (y - x) / 2 * sum\n",
    "        finalsum += onegl\n",
    "\n",
    "    return finalsum\n",
    "\n",
    "\n",
    "xi = gl.gauleg(n2)[0]\n",
    "ci = gl.gauleg(n2)[1]\n",
    "for i in ijlist:\n",
    "    Fj = intergrand(numofnodes=n1, i = i, l = l, xlist=x_list, f= gl.f, ci=ci, xi = xi, n2 = n2)\n",
    "    F_empty[i,0] = Fj \n",
    "\n",
    "F_empty"
   ]
  },
  {
   "cell_type": "code",
   "execution_count": 82,
   "metadata": {},
   "outputs": [
    {
     "data": {
      "text/latex": [
       "$\\displaystyle 0.249752016058062$"
      ],
      "text/plain": [
       "0.249752016058062"
      ]
     },
     "execution_count": 82,
     "metadata": {},
     "output_type": "execute_result"
    }
   ],
   "source": [
    "a_inv = matrix.inv()\n",
    "c = a_inv * F_empty\n",
    "c[1]\n"
   ]
  },
  {
   "cell_type": "code",
   "execution_count": null,
   "metadata": {},
   "outputs": [],
   "source": [
    "sum = 0\n",
    "for i in ijlist:\n",
    "    ci_phi = ci[i] * "
   ]
  }
 ],
 "metadata": {
  "kernelspec": {
   "display_name": ".venv",
   "language": "python",
   "name": "python3"
  },
  "language_info": {
   "codemirror_mode": {
    "name": "ipython",
    "version": 3
   },
   "file_extension": ".py",
   "mimetype": "text/x-python",
   "name": "python",
   "nbconvert_exporter": "python",
   "pygments_lexer": "ipython3",
   "version": "3.10.7"
  }
 },
 "nbformat": 4,
 "nbformat_minor": 2
}
