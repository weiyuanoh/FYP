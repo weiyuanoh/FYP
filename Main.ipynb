{
 "cells": [
  {
   "cell_type": "code",
   "execution_count": 1,
   "metadata": {},
   "outputs": [],
   "source": [
    "%load_ext autoreload\n",
    "\n",
    "%autoreload 2\n",
    "\n",
    "import gauleg as gl \n",
    "import sympy as sp \n",
    "import numpy as np \n",
    "import pandas as pd \n",
    "import matplotlib\n",
    "import matplotlib.pyplot as plt\n",
    "import math"
   ]
  },
  {
   "cell_type": "code",
   "execution_count": 4,
   "metadata": {},
   "outputs": [
    {
     "name": "stdout",
     "output_type": "stream",
     "text": [
      "[0.0, 0.25, 0.5, 0.75, 1.0]\n",
      "0.24740395925452294\n",
      "Matrix([[0, 0, 0], [0, 0, 0], [0, 0, 0]])\n"
     ]
    }
   ],
   "source": [
    "# initial variables \n",
    "\n",
    "a = 0 \n",
    "b = 1 \n",
    "l = 2 # for a 4 slot problem \n",
    "h = 2 **(-l) # distance between xi, xi+1 is 1 * 2**-l \n",
    "n1 = 2**l + 1 # number of nodes \n",
    "\n",
    "n2 = 5 # number of roots in each GL \n",
    "ijlist = list(range(2**l-1))\n",
    "\n",
    "dim = 2**l -1 # number of phi functions i have for l \n",
    "\n",
    "### sanity check ###\n",
    "\"\"\"\n",
    "if l = 2 i expect to have 4 slots and 3 functions and 5 points \n",
    "2**l = 2**2 = 4 --> [a = x0,x1,x2,x3,x4 = b]\n",
    "dim of matrix = 3 = 2**2 -1 \n",
    "gradient = 1 / 2**-l \n",
    "n1 = 5  --> number of points \n",
    "\"\"\"\n",
    "\n",
    "\n",
    "x_list = gl.listi(a,b,h,n1)\n",
    "print(x_list)\n",
    "\n",
    "\n",
    "a = gl.a(0.25)\n",
    "print(a)\n",
    "\n",
    "matrix = sp.zeros(dim, dim)\n",
    "print(matrix)\n",
    "\n",
    "\n",
    "\n",
    "\n"
   ]
  },
  {
   "cell_type": "code",
   "execution_count": 6,
   "metadata": {},
   "outputs": [
    {
     "data": {
      "text/plain": [
       "-11.5"
      ]
     },
     "execution_count": 6,
     "metadata": {},
     "output_type": "execute_result"
    }
   ],
   "source": [
    "gl.phiij(numofnodes=5, i=0, j =1 , l = l , xlist=x_list)"
   ]
  },
  {
   "cell_type": "code",
   "execution_count": 7,
   "metadata": {},
   "outputs": [
    {
     "data": {
      "text/latex": [
       "$\\displaystyle \\left[\\begin{matrix}18.0 & -11.5 & 0\\\\-11.5 & 28.0 & -16.5\\\\0 & -16.5 & 38.0\\end{matrix}\\right]$"
      ],
      "text/plain": [
       "Matrix([\n",
       "[ 18.0, -11.5,     0],\n",
       "[-11.5,  28.0, -16.5],\n",
       "[    0, -16.5,  38.0]])"
      ]
     },
     "execution_count": 7,
     "metadata": {},
     "output_type": "execute_result"
    }
   ],
   "source": [
    "matrix = gl.matrix(ijlist=ijlist, matrix=matrix, n1=n1, l=l, xlist=x_list )\n",
    "matrix"
   ]
  },
  {
   "cell_type": "code",
   "execution_count": 5,
   "metadata": {},
   "outputs": [],
   "source": [
    "F_empty = sp.zeros(dim,1)\n"
   ]
  },
  {
   "cell_type": "code",
   "execution_count": 7,
   "metadata": {},
   "outputs": [
    {
     "data": {
      "text/latex": [
       "$\\displaystyle \\left[\\begin{matrix}0.0976721422851887\\\\0.101614613565613\\\\0.105572297711837\\\\0.109537528133901\\\\0.113502642028908\\\\0.117459991565299\\\\0.121401955037992\\\\0.125320947979908\\\\0.129209434215442\\\\0.133059936841517\\\\0.136865049121984\\\\0.140617445281192\\\\0.144309891182735\\\\0.147935254879495\\\\0.151486517021269\\\\0.154956781106477\\\\0.15833928356459\\\\0.161627403656198\\\\0.164814673177802\\\\0.167894785958719\\\\0.170861607137686\\\\0.173709182207101\\\\0.176431745813045\\\\0.179023730299608\\\\0.181479773986317\\\\0.183794729167808\\\\0.185963669825235\\\\0.187981899039264\\\\0.189844956094871\\\\0.191548623268546\\\\0.193088932288906\\end{matrix}\\right]$"
      ],
      "text/plain": [
       "Matrix([\n",
       "[0.0976721422851887],\n",
       "[ 0.101614613565613],\n",
       "[ 0.105572297711837],\n",
       "[ 0.109537528133901],\n",
       "[ 0.113502642028908],\n",
       "[ 0.117459991565299],\n",
       "[ 0.121401955037992],\n",
       "[ 0.125320947979908],\n",
       "[ 0.129209434215442],\n",
       "[ 0.133059936841517],\n",
       "[ 0.136865049121984],\n",
       "[ 0.140617445281192],\n",
       "[ 0.144309891182735],\n",
       "[ 0.147935254879495],\n",
       "[ 0.151486517021269],\n",
       "[ 0.154956781106477],\n",
       "[  0.15833928356459],\n",
       "[ 0.161627403656198],\n",
       "[ 0.164814673177802],\n",
       "[ 0.167894785958719],\n",
       "[ 0.170861607137686],\n",
       "[ 0.173709182207101],\n",
       "[ 0.176431745813045],\n",
       "[ 0.179023730299608],\n",
       "[ 0.181479773986317],\n",
       "[ 0.183794729167808],\n",
       "[ 0.185963669825235],\n",
       "[ 0.187981899039264],\n",
       "[ 0.189844956094871],\n",
       "[ 0.191548623268546],\n",
       "[ 0.193088932288906]])"
      ]
     },
     "execution_count": 7,
     "metadata": {},
     "output_type": "execute_result"
    }
   ],
   "source": [
    "def intergrand(numofnodes, i, l, xlist, f, ci, xi, n2):\n",
    "    def phi_j(numofnodes, i, l, k):\n",
    "        def phi_j_function(s):\n",
    "            if k == i:\n",
    "                return 2**l * (s - (i / 2**l))\n",
    "            elif k == i + 1:\n",
    "                return -(2**l * (s - ((i + 2) / 2**l)))\n",
    "            else:\n",
    "                return 0\n",
    "        return phi_j_function\n",
    "\n",
    "    finalsum = 0\n",
    "    for k in range(numofnodes-1):\n",
    "        phi_j_func = phi_j(numofnodes, i, l, k)\n",
    "        x = xlist[k]\n",
    "        y = xlist[k+1]\n",
    "        sum = 0\n",
    "        for j in range(n2):\n",
    "            s = 0.5 * ((y - x) * xi[j] + (y + x))\n",
    "            h = f(s) * phi_j_func(s)\n",
    "            prod = ci[j] * h\n",
    "            sum += prod\n",
    "        onegl = (y - x) / 2 * sum\n",
    "        finalsum += onegl\n",
    "\n",
    "    return finalsum\n",
    "\n",
    "def finding_F(F_empty):\n",
    "    xi = gl.gauleg(n2)[0]\n",
    "    ci = gl.gauleg(n2)[1]\n",
    "    for i in ijlist:\n",
    "        Fj = intergrand(numofnodes=n1, i = i, l = l, xlist=x_list, f= gl.f, ci=ci, xi = xi, n2 = n2)\n",
    "        F_empty[i,0] = Fj \n",
    "    return F_empty\n",
    "\n",
    "F = finding_F(F_empty=F_empty)\n",
    "F"
   ]
  },
  {
   "cell_type": "code",
   "execution_count": 13,
   "metadata": {},
   "outputs": [],
   "source": [
    "def inv(matrix, F):  \n",
    "    a_inv = matrix.inv()\n",
    "    c = a_inv * F\n",
    "    return c\n",
    "\n"
   ]
  },
  {
   "cell_type": "code",
   "execution_count": 14,
   "metadata": {},
   "outputs": [
    {
     "data": {
      "text/latex": [
       "$\\displaystyle 0.813866069205034$"
      ],
      "text/plain": [
       "0.813866069205034"
      ]
     },
     "execution_count": 14,
     "metadata": {},
     "output_type": "execute_result"
    }
   ],
   "source": [
    "def approx_new(ijlist, c, F):\n",
    "    approx_new = 0 \n",
    "    for i in ijlist : \n",
    "        prod = c[i] * F[i]\n",
    "        approx_new = approx_new + prod\n",
    "    return approx_new\n",
    "approx_new(ijlist=ijlist, c = inv(matrix= matrix, F = F), F=F)\n"
   ]
  },
  {
   "cell_type": "code",
   "execution_count": 16,
   "metadata": {},
   "outputs": [
    {
     "ename": "IndexError",
     "evalue": "Index out of range: a[0]",
     "output_type": "error",
     "traceback": [
      "\u001b[1;31m---------------------------------------------------------------------------\u001b[0m",
      "\u001b[1;31mIndexError\u001b[0m                                Traceback (most recent call last)",
      "Cell \u001b[1;32mIn[16], line 25\u001b[0m\n\u001b[0;32m     23\u001b[0m     df_errors \u001b[38;5;241m=\u001b[39m pd\u001b[38;5;241m.\u001b[39mDataFrame(errors)\n\u001b[0;32m     24\u001b[0m     \u001b[38;5;28;01mreturn\u001b[39;00m df_errors\n\u001b[1;32m---> 25\u001b[0m dataframe \u001b[38;5;241m=\u001b[39m \u001b[43merror_l\u001b[49m\u001b[43m(\u001b[49m\u001b[43m)\u001b[49m\n",
      "Cell \u001b[1;32mIn[16], line 13\u001b[0m, in \u001b[0;36merror_l\u001b[1;34m()\u001b[0m\n\u001b[0;32m     11\u001b[0m matrixA\u001b[38;5;241m=\u001b[39m sp\u001b[38;5;241m.\u001b[39mzeros(dim, dim)\n\u001b[0;32m     12\u001b[0m A \u001b[38;5;241m=\u001b[39m gl\u001b[38;5;241m.\u001b[39mmatrix(ijlist\u001b[38;5;241m=\u001b[39mijlist, matrix\u001b[38;5;241m=\u001b[39mmatrixA, n1\u001b[38;5;241m=\u001b[39mn1, l\u001b[38;5;241m=\u001b[39ml, xlist\u001b[38;5;241m=\u001b[39mx_list)\n\u001b[1;32m---> 13\u001b[0m F \u001b[38;5;241m=\u001b[39m \u001b[43mfinding_F\u001b[49m\u001b[43m(\u001b[49m\u001b[43mF_empty\u001b[49m\u001b[38;5;241;43m=\u001b[39;49m\u001b[43mmatrixF\u001b[49m\u001b[43m)\u001b[49m\n\u001b[0;32m     14\u001b[0m c \u001b[38;5;241m=\u001b[39m inv(matrix\u001b[38;5;241m=\u001b[39mA, F\u001b[38;5;241m=\u001b[39mF)\n\u001b[0;32m     15\u001b[0m approximation \u001b[38;5;241m=\u001b[39m approx_new(ijlist\u001b[38;5;241m=\u001b[39mijlist, c\u001b[38;5;241m=\u001b[39mc, F\u001b[38;5;241m=\u001b[39mF)\n",
      "Cell \u001b[1;32mIn[7], line 33\u001b[0m, in \u001b[0;36mfinding_F\u001b[1;34m(F_empty)\u001b[0m\n\u001b[0;32m     31\u001b[0m \u001b[38;5;28;01mfor\u001b[39;00m i \u001b[38;5;129;01min\u001b[39;00m ijlist:\n\u001b[0;32m     32\u001b[0m     Fj \u001b[38;5;241m=\u001b[39m intergrand(numofnodes\u001b[38;5;241m=\u001b[39mn1, i \u001b[38;5;241m=\u001b[39m i, l \u001b[38;5;241m=\u001b[39m l, xlist\u001b[38;5;241m=\u001b[39mx_list, f\u001b[38;5;241m=\u001b[39m gl\u001b[38;5;241m.\u001b[39mf, ci\u001b[38;5;241m=\u001b[39mci, xi \u001b[38;5;241m=\u001b[39m xi, n2 \u001b[38;5;241m=\u001b[39m n2)\n\u001b[1;32m---> 33\u001b[0m     \u001b[43mF_empty\u001b[49m\u001b[43m[\u001b[49m\u001b[43mi\u001b[49m\u001b[43m,\u001b[49m\u001b[38;5;241;43m0\u001b[39;49m\u001b[43m]\u001b[49m \u001b[38;5;241m=\u001b[39m Fj \n\u001b[0;32m     34\u001b[0m \u001b[38;5;28;01mreturn\u001b[39;00m F_empty\n",
      "File \u001b[1;32mc:\\Users\\Espietsp\\PycharmProjects\\FYP\\.venv\\lib\\site-packages\\sympy\\matrices\\repmatrix.py:629\u001b[0m, in \u001b[0;36mMutableRepMatrix.__setitem__\u001b[1;34m(self, key, value)\u001b[0m\n\u001b[0;32m    589\u001b[0m \u001b[38;5;28;01mdef\u001b[39;00m \u001b[38;5;21m__setitem__\u001b[39m(\u001b[38;5;28mself\u001b[39m, key, value):\n\u001b[0;32m    590\u001b[0m \u001b[38;5;250m    \u001b[39m\u001b[38;5;124;03m\"\"\"\u001b[39;00m\n\u001b[0;32m    591\u001b[0m \n\u001b[0;32m    592\u001b[0m \u001b[38;5;124;03m    Examples\u001b[39;00m\n\u001b[1;32m   (...)\u001b[0m\n\u001b[0;32m    627\u001b[0m \u001b[38;5;124;03m    [2, 2, 4, 2]])\u001b[39;00m\n\u001b[0;32m    628\u001b[0m \u001b[38;5;124;03m    \"\"\"\u001b[39;00m\n\u001b[1;32m--> 629\u001b[0m     rv \u001b[38;5;241m=\u001b[39m \u001b[38;5;28;43mself\u001b[39;49m\u001b[38;5;241;43m.\u001b[39;49m\u001b[43m_setitem\u001b[49m\u001b[43m(\u001b[49m\u001b[43mkey\u001b[49m\u001b[43m,\u001b[49m\u001b[43m \u001b[49m\u001b[43mvalue\u001b[49m\u001b[43m)\u001b[49m\n\u001b[0;32m    630\u001b[0m     \u001b[38;5;28;01mif\u001b[39;00m rv \u001b[38;5;129;01mis\u001b[39;00m \u001b[38;5;129;01mnot\u001b[39;00m \u001b[38;5;28;01mNone\u001b[39;00m:\n\u001b[0;32m    631\u001b[0m         i, j, value \u001b[38;5;241m=\u001b[39m rv\n",
      "File \u001b[1;32mc:\\Users\\Espietsp\\PycharmProjects\\FYP\\.venv\\lib\\site-packages\\sympy\\matrices\\matrixbase.py:4063\u001b[0m, in \u001b[0;36mMatrixBase._setitem\u001b[1;34m(self, key, value)\u001b[0m\n\u001b[0;32m   4060\u001b[0m \u001b[38;5;28;01mfrom\u001b[39;00m \u001b[38;5;21;01m.\u001b[39;00m\u001b[38;5;21;01mdense\u001b[39;00m \u001b[38;5;28;01mimport\u001b[39;00m Matrix\n\u001b[0;32m   4062\u001b[0m is_slice \u001b[38;5;241m=\u001b[39m \u001b[38;5;28misinstance\u001b[39m(key, \u001b[38;5;28mslice\u001b[39m)\n\u001b[1;32m-> 4063\u001b[0m i, j \u001b[38;5;241m=\u001b[39m key \u001b[38;5;241m=\u001b[39m \u001b[38;5;28;43mself\u001b[39;49m\u001b[38;5;241;43m.\u001b[39;49m\u001b[43mkey2ij\u001b[49m\u001b[43m(\u001b[49m\u001b[43mkey\u001b[49m\u001b[43m)\u001b[49m\n\u001b[0;32m   4064\u001b[0m is_mat \u001b[38;5;241m=\u001b[39m \u001b[38;5;28misinstance\u001b[39m(value, MatrixBase)\n\u001b[0;32m   4065\u001b[0m \u001b[38;5;28;01mif\u001b[39;00m \u001b[38;5;28misinstance\u001b[39m(i, \u001b[38;5;28mslice\u001b[39m) \u001b[38;5;129;01mor\u001b[39;00m \u001b[38;5;28misinstance\u001b[39m(j, \u001b[38;5;28mslice\u001b[39m):\n",
      "File \u001b[1;32mc:\\Users\\Espietsp\\PycharmProjects\\FYP\\.venv\\lib\\site-packages\\sympy\\matrices\\matrixbase.py:4852\u001b[0m, in \u001b[0;36mMatrixBase.key2ij\u001b[1;34m(self, key)\u001b[0m\n\u001b[0;32m   4850\u001b[0m     \u001b[38;5;28;01mif\u001b[39;00m \u001b[38;5;129;01mnot\u001b[39;00m \u001b[38;5;28mlen\u001b[39m(key) \u001b[38;5;241m==\u001b[39m \u001b[38;5;241m2\u001b[39m:\n\u001b[0;32m   4851\u001b[0m         \u001b[38;5;28;01mraise\u001b[39;00m \u001b[38;5;167;01mTypeError\u001b[39;00m(\u001b[38;5;124m'\u001b[39m\u001b[38;5;124mkey must be a sequence of length 2\u001b[39m\u001b[38;5;124m'\u001b[39m)\n\u001b[1;32m-> 4852\u001b[0m     \u001b[38;5;28;01mreturn\u001b[39;00m [a2idx(i, n) \u001b[38;5;28;01mif\u001b[39;00m \u001b[38;5;129;01mnot\u001b[39;00m \u001b[38;5;28misinstance\u001b[39m(i, \u001b[38;5;28mslice\u001b[39m) \u001b[38;5;28;01melse\u001b[39;00m i\n\u001b[0;32m   4853\u001b[0m             \u001b[38;5;28;01mfor\u001b[39;00m i, n \u001b[38;5;129;01min\u001b[39;00m \u001b[38;5;28mzip\u001b[39m(key, \u001b[38;5;28mself\u001b[39m\u001b[38;5;241m.\u001b[39mshape)]\n\u001b[0;32m   4854\u001b[0m \u001b[38;5;28;01melif\u001b[39;00m \u001b[38;5;28misinstance\u001b[39m(key, \u001b[38;5;28mslice\u001b[39m):\n\u001b[0;32m   4855\u001b[0m     \u001b[38;5;28;01mreturn\u001b[39;00m key\u001b[38;5;241m.\u001b[39mindices(\u001b[38;5;28mlen\u001b[39m(\u001b[38;5;28mself\u001b[39m))[:\u001b[38;5;241m2\u001b[39m]\n",
      "File \u001b[1;32mc:\\Users\\Espietsp\\PycharmProjects\\FYP\\.venv\\lib\\site-packages\\sympy\\matrices\\matrixbase.py:4852\u001b[0m, in \u001b[0;36m<listcomp>\u001b[1;34m(.0)\u001b[0m\n\u001b[0;32m   4850\u001b[0m     \u001b[38;5;28;01mif\u001b[39;00m \u001b[38;5;129;01mnot\u001b[39;00m \u001b[38;5;28mlen\u001b[39m(key) \u001b[38;5;241m==\u001b[39m \u001b[38;5;241m2\u001b[39m:\n\u001b[0;32m   4851\u001b[0m         \u001b[38;5;28;01mraise\u001b[39;00m \u001b[38;5;167;01mTypeError\u001b[39;00m(\u001b[38;5;124m'\u001b[39m\u001b[38;5;124mkey must be a sequence of length 2\u001b[39m\u001b[38;5;124m'\u001b[39m)\n\u001b[1;32m-> 4852\u001b[0m     \u001b[38;5;28;01mreturn\u001b[39;00m [\u001b[43ma2idx\u001b[49m\u001b[43m(\u001b[49m\u001b[43mi\u001b[49m\u001b[43m,\u001b[49m\u001b[43m \u001b[49m\u001b[43mn\u001b[49m\u001b[43m)\u001b[49m \u001b[38;5;28;01mif\u001b[39;00m \u001b[38;5;129;01mnot\u001b[39;00m \u001b[38;5;28misinstance\u001b[39m(i, \u001b[38;5;28mslice\u001b[39m) \u001b[38;5;28;01melse\u001b[39;00m i\n\u001b[0;32m   4853\u001b[0m             \u001b[38;5;28;01mfor\u001b[39;00m i, n \u001b[38;5;129;01min\u001b[39;00m \u001b[38;5;28mzip\u001b[39m(key, \u001b[38;5;28mself\u001b[39m\u001b[38;5;241m.\u001b[39mshape)]\n\u001b[0;32m   4854\u001b[0m \u001b[38;5;28;01melif\u001b[39;00m \u001b[38;5;28misinstance\u001b[39m(key, \u001b[38;5;28mslice\u001b[39m):\n\u001b[0;32m   4855\u001b[0m     \u001b[38;5;28;01mreturn\u001b[39;00m key\u001b[38;5;241m.\u001b[39mindices(\u001b[38;5;28mlen\u001b[39m(\u001b[38;5;28mself\u001b[39m))[:\u001b[38;5;241m2\u001b[39m]\n",
      "File \u001b[1;32mc:\\Users\\Espietsp\\PycharmProjects\\FYP\\.venv\\lib\\site-packages\\sympy\\matrices\\matrixbase.py:5392\u001b[0m, in \u001b[0;36ma2idx\u001b[1;34m(j, n)\u001b[0m\n\u001b[0;32m   5390\u001b[0m         j \u001b[38;5;241m+\u001b[39m\u001b[38;5;241m=\u001b[39m n\n\u001b[0;32m   5391\u001b[0m     \u001b[38;5;28;01mif\u001b[39;00m \u001b[38;5;129;01mnot\u001b[39;00m (j \u001b[38;5;241m>\u001b[39m\u001b[38;5;241m=\u001b[39m \u001b[38;5;241m0\u001b[39m \u001b[38;5;129;01mand\u001b[39;00m j \u001b[38;5;241m<\u001b[39m n):\n\u001b[1;32m-> 5392\u001b[0m         \u001b[38;5;28;01mraise\u001b[39;00m \u001b[38;5;167;01mIndexError\u001b[39;00m(\u001b[38;5;124m\"\u001b[39m\u001b[38;5;124mIndex out of range: a[\u001b[39m\u001b[38;5;132;01m%s\u001b[39;00m\u001b[38;5;124m]\u001b[39m\u001b[38;5;124m\"\u001b[39m \u001b[38;5;241m%\u001b[39m (j,))\n\u001b[0;32m   5393\u001b[0m \u001b[38;5;28;01mreturn\u001b[39;00m \u001b[38;5;28mint\u001b[39m(j)\n",
      "\u001b[1;31mIndexError\u001b[0m: Index out of range: a[0]"
     ]
    }
   ],
   "source": [
    "def error_l():\n",
    "    errors = []\n",
    "    actual = 0.8146667469752307\n",
    "    l_list = list(range(11))\n",
    "    for l in l_list:\n",
    "        n1 = 2**l + 1\n",
    "        ijlist = list(range(2**l - 1))\n",
    "        x_list = gl.listi(a, b, h, n1)\n",
    "        dim = 2**l -1\n",
    "        matrixF = sp.zeros(dim, 1)\n",
    "        matrixA= sp.zeros(dim, dim)\n",
    "        A = gl.matrix(ijlist=ijlist, matrix=matrixA, n1=n1, l=l, xlist=x_list)\n",
    "        F = finding_F(F_empty=matrixF)\n",
    "        c = inv(matrix=A, F=F)\n",
    "        approximation = approx_new(ijlist=ijlist, c=c, F=F)\n",
    "        \n",
    "        error = actual - approximation\n",
    "        abserr = abs(error)\n",
    "        logerror = math.log(abserr)\n",
    "        errors.append({'l': l, 'log error': logerror, 'error': error})\n",
    "\n",
    "    # Convert the list of errors to a DataFrame\n",
    "    df_errors = pd.DataFrame(errors)\n",
    "    return df_errors\n",
    "dataframe = error_l()\n",
    "\n",
    "    \n",
    "\n"
   ]
  },
  {
   "cell_type": "code",
   "execution_count": 97,
   "metadata": {},
   "outputs": [
    {
     "data": {
      "text/html": [
       "<div>\n",
       "<style scoped>\n",
       "    .dataframe tbody tr th:only-of-type {\n",
       "        vertical-align: middle;\n",
       "    }\n",
       "\n",
       "    .dataframe tbody tr th {\n",
       "        vertical-align: top;\n",
       "    }\n",
       "\n",
       "    .dataframe thead th {\n",
       "        text-align: right;\n",
       "    }\n",
       "</style>\n",
       "<table border=\"1\" class=\"dataframe\">\n",
       "  <thead>\n",
       "    <tr style=\"text-align: right;\">\n",
       "      <th></th>\n",
       "      <th>l</th>\n",
       "      <th>log error</th>\n",
       "      <th>error</th>\n",
       "    </tr>\n",
       "  </thead>\n",
       "  <tbody>\n",
       "    <tr>\n",
       "      <th>0</th>\n",
       "      <td>0</td>\n",
       "      <td>8.614178</td>\n",
       "      <td>-5509.21592814754</td>\n",
       "    </tr>\n",
       "    <tr>\n",
       "      <th>1</th>\n",
       "      <td>1</td>\n",
       "      <td>7.227440</td>\n",
       "      <td>-1376.69298197665</td>\n",
       "    </tr>\n",
       "    <tr>\n",
       "      <th>2</th>\n",
       "      <td>2</td>\n",
       "      <td>5.839368</td>\n",
       "      <td>-343.562245433932</td>\n",
       "    </tr>\n",
       "    <tr>\n",
       "      <th>3</th>\n",
       "      <td>3</td>\n",
       "      <td>4.445935</td>\n",
       "      <td>-85.2795612982516</td>\n",
       "    </tr>\n",
       "    <tr>\n",
       "      <th>4</th>\n",
       "      <td>4</td>\n",
       "      <td>3.030563</td>\n",
       "      <td>-20.7088902643315</td>\n",
       "    </tr>\n",
       "    <tr>\n",
       "      <th>5</th>\n",
       "      <td>5</td>\n",
       "      <td>1.518686</td>\n",
       "      <td>-4.56622250585145</td>\n",
       "    </tr>\n",
       "    <tr>\n",
       "      <th>6</th>\n",
       "      <td>6</td>\n",
       "      <td>-0.633831</td>\n",
       "      <td>-0.530555566231439</td>\n",
       "    </tr>\n",
       "    <tr>\n",
       "      <th>7</th>\n",
       "      <td>7</td>\n",
       "      <td>-0.737389</td>\n",
       "      <td>0.478361168673563</td>\n",
       "    </tr>\n",
       "    <tr>\n",
       "      <th>8</th>\n",
       "      <td>8</td>\n",
       "      <td>-0.313902</td>\n",
       "      <td>0.730590352399814</td>\n",
       "    </tr>\n",
       "    <tr>\n",
       "      <th>9</th>\n",
       "      <td>9</td>\n",
       "      <td>-0.231116</td>\n",
       "      <td>0.793647648331376</td>\n",
       "    </tr>\n",
       "    <tr>\n",
       "      <th>10</th>\n",
       "      <td>10</td>\n",
       "      <td>-0.211447</td>\n",
       "      <td>0.809411972314267</td>\n",
       "    </tr>\n",
       "  </tbody>\n",
       "</table>\n",
       "</div>"
      ],
      "text/plain": [
       "     l  log error               error\n",
       "0    0   8.614178   -5509.21592814754\n",
       "1    1   7.227440   -1376.69298197665\n",
       "2    2   5.839368   -343.562245433932\n",
       "3    3   4.445935   -85.2795612982516\n",
       "4    4   3.030563   -20.7088902643315\n",
       "5    5   1.518686   -4.56622250585145\n",
       "6    6  -0.633831  -0.530555566231439\n",
       "7    7  -0.737389   0.478361168673563\n",
       "8    8  -0.313902   0.730590352399814\n",
       "9    9  -0.231116   0.793647648331376\n",
       "10  10  -0.211447   0.809411972314267"
      ]
     },
     "execution_count": 97,
     "metadata": {},
     "output_type": "execute_result"
    }
   ],
   "source": [
    "dataframe"
   ]
  },
  {
   "cell_type": "code",
   "execution_count": 91,
   "metadata": {},
   "outputs": [
    {
     "data": {
      "image/png": "[encoded data removed]",
      "text/plain": [
       "<Figure size 1600x1200 with 1 Axes>"
      ]
     },
     "metadata": {},
     "output_type": "display_data"
    }
   ],
   "source": [
    "plt.figure(figsize=(16, 12))\n",
    "plt.plot(dataframe['l'], dataframe['log error'], marker='o', linestyle='-')\n",
    "plt.xlabel('l')\n",
    "plt.ylabel('log error')\n",
    "plt.title('Plot of log error against l')\n",
    "plt.grid(True)\n",
    "plt.show()\n"
   ]
  },
  {
   "cell_type": "code",
   "execution_count": null,
   "metadata": {},
   "outputs": [],
   "source": []
  }
 ],
 "metadata": {
  "kernelspec": {
   "display_name": ".venv",
   "language": "python",
   "name": "python3"
  },
  "language_info": {
   "codemirror_mode": {
    "name": "ipython",
    "version": 3
   },
   "file_extension": ".py",
   "mimetype": "text/x-python",
   "name": "python",
   "nbconvert_exporter": "python",
   "pygments_lexer": "ipython3",
   "version": "3.10.7"
  }
 },
 "nbformat": 4,
 "nbformat_minor": 2
}
