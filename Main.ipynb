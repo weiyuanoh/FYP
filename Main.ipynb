{
 "cells": [
  {
   "cell_type": "code",
   "execution_count": 2,
   "metadata": {},
   "outputs": [
    {
     "name": "stdout",
     "output_type": "stream",
     "text": [
      "The autoreload extension is already loaded. To reload it, use:\n",
      "  %reload_ext autoreload\n"
     ]
    }
   ],
   "source": [
    "%load_ext autoreload\n",
    "\n",
    "%autoreload 2\n",
    "\n",
    "import gauleg as gl \n",
    "import numpy as np "
   ]
  },
  {
   "cell_type": "code",
   "execution_count": 5,
   "metadata": {},
   "outputs": [
    {
     "name": "stdout",
     "output_type": "stream",
     "text": [
      "[0.0, 0.25, 0.5, 0.75, 1.0]\n",
      "2.2474039592545227\n",
      "[[0. 0. 0.]\n",
      " [0. 0. 0.]\n",
      " [0. 0. 0.]]\n"
     ]
    }
   ],
   "source": [
    "# initial variables \n",
    "\n",
    "a = 0 \n",
    "b = 1 \n",
    "l = 2 # for a 4 slot problem \n",
    "h = 2 **(-l) # distance between xi, xi+1 is 1 * 2**-l \n",
    "n1 = 5 # number of nodes \n",
    "\n",
    "n2 = 5 # number of roots in each GL \n",
    "ijlist = [1,2,3]\n",
    "\n",
    "d_phi_i = [0, 1/(2**-l) , (-1/(2**-l))] # only 2 possibilities for d_phi_i \n",
    "d_phi_j = [0, 1/(2**-l) , (-1/(2**-l))]\n",
    "dim = 2**l -1 # number of phi functions i have for l \n",
    "\n",
    "### sanity check ###\n",
    "\"\"\"\n",
    "if l = 2 i expect to have 4 slots and 3 functions and 5 points \n",
    "2**l = 2**2 = 4 --> [a = x0,x1,x2,x3,x4 = b]\n",
    "dim of matrix = 3 = 2**2 -1 \n",
    "gradient = 1 / 2**-l \n",
    "n1 = 5  --> number of points \n",
    "\"\"\"\n",
    "\n",
    "\n",
    "x_list = gl.listi(a,b,h,n1)\n",
    "print(x_list)\n",
    "\n",
    "\n",
    "a = gl.a(0.25)\n",
    "print(a)\n",
    "\n",
    "matrix = np.zeros((dim, dim))\n",
    "print(matrix)\n",
    "\n",
    "\n",
    "\n",
    "\n"
   ]
  },
  {
   "cell_type": "code",
   "execution_count": 6,
   "metadata": {},
   "outputs": [
    {
     "name": "stdout",
     "output_type": "stream",
     "text": [
      "([-0.906179845938664, -0.5384693101056831, 0.0, 0.5384693101056831, 0.906179845938664], [0.236926885056189, 0.47862867049936647, 0.5688888888888889, 0.47862867049936647, 0.236926885056189])\n",
      "[-0.906179845938664, -0.5384693101056831, 0.0, 0.5384693101056831, 0.906179845938664]\n"
     ]
    }
   ],
   "source": [
    "results = gl.gauleg(n2 = 5)\n",
    "print(results)\n",
    "print(results[0])\n"
   ]
  },
  {
   "cell_type": "code",
   "execution_count": 7,
   "metadata": {},
   "outputs": [
    {
     "data": {
      "text/plain": [
       "0.5310875782893552"
      ]
     },
     "execution_count": 7,
     "metadata": {},
     "output_type": "execute_result"
    }
   ],
   "source": [
    "gl.GL(xi = results[0], ci = results[1], y = 0.25, x= 0, n2 = 5 )\n"
   ]
  },
  {
   "cell_type": "code",
   "execution_count": 16,
   "metadata": {},
   "outputs": [
    {
     "data": {
      "text/plain": [
       "-9.461277757124352"
      ]
     },
     "execution_count": 16,
     "metadata": {},
     "output_type": "execute_result"
    }
   ],
   "source": [
    "gl.phiij(numofnodes=5, i=1, j =2 , l = l , xlist=x_list)"
   ]
  },
  {
   "cell_type": "code",
   "execution_count": 18,
   "metadata": {},
   "outputs": [
    {
     "ename": "IndexError",
     "evalue": "index 3 is out of bounds for axis 0 with size 3",
     "output_type": "error",
     "traceback": [
      "\u001b[1;31m---------------------------------------------------------------------------\u001b[0m",
      "\u001b[1;31mIndexError\u001b[0m                                Traceback (most recent call last)",
      "Cell \u001b[1;32mIn[18], line 1\u001b[0m\n\u001b[1;32m----> 1\u001b[0m \u001b[43mgl\u001b[49m\u001b[38;5;241;43m.\u001b[39;49m\u001b[43mmatrix\u001b[49m\u001b[43m(\u001b[49m\u001b[43mijlist\u001b[49m\u001b[38;5;241;43m=\u001b[39;49m\u001b[43mijlist\u001b[49m\u001b[43m,\u001b[49m\u001b[43m \u001b[49m\u001b[43mmatrix\u001b[49m\u001b[38;5;241;43m=\u001b[39;49m\u001b[43mmatrix\u001b[49m\u001b[43m,\u001b[49m\u001b[43m \u001b[49m\u001b[43mn1\u001b[49m\u001b[38;5;241;43m=\u001b[39;49m\u001b[43mn1\u001b[49m\u001b[43m,\u001b[49m\u001b[43m \u001b[49m\u001b[43ml\u001b[49m\u001b[38;5;241;43m=\u001b[39;49m\u001b[43ml\u001b[49m\u001b[43m,\u001b[49m\u001b[43m \u001b[49m\u001b[43mxlist\u001b[49m\u001b[38;5;241;43m=\u001b[39;49m\u001b[43mx_list\u001b[49m\u001b[43m \u001b[49m\u001b[43m)\u001b[49m\n",
      "File \u001b[1;32mc:\\Users\\Admin\\OneDrive - Nanyang Technological University\\NTU\\MAEO Y4S1\\FYP\\FYP\\gauleg.py:90\u001b[0m, in \u001b[0;36mmatrix\u001b[1;34m(ijlist, matrix, n1, l, xlist)\u001b[0m\n\u001b[0;32m     88\u001b[0m \t\u001b[38;5;28;01mfor\u001b[39;00m j \u001b[38;5;129;01min\u001b[39;00m ijlist:\n\u001b[0;32m     89\u001b[0m \t\taij \u001b[38;5;241m=\u001b[39m phiij(numofnodes\u001b[38;5;241m=\u001b[39mn1, i\u001b[38;5;241m=\u001b[39mi, j \u001b[38;5;241m=\u001b[39mj, l \u001b[38;5;241m=\u001b[39m l, xlist\u001b[38;5;241m=\u001b[39mxlist)\n\u001b[1;32m---> 90\u001b[0m \t\t\u001b[43mmatrix\u001b[49m\u001b[43m[\u001b[49m\u001b[43mi\u001b[49m\u001b[43m]\u001b[49m\u001b[43m[\u001b[49m\u001b[43mj\u001b[49m\u001b[43m]\u001b[49m \u001b[38;5;241m=\u001b[39m aij \n\u001b[0;32m     92\u001b[0m \u001b[38;5;28;01mreturn\u001b[39;00m matrix\n",
      "\u001b[1;31mIndexError\u001b[0m: index 3 is out of bounds for axis 0 with size 3"
     ]
    }
   ],
   "source": [
    "gl.matrix(ijlist=ijlist, matrix=matrix, n1=n1, l=l, xlist=x_list )"
   ]
  },
  {
   "cell_type": "code",
   "execution_count": 20,
   "metadata": {},
   "outputs": [
    {
     "data": {
      "text/plain": [
       "np.float64(-9.461277757124352)"
      ]
     },
     "execution_count": 20,
     "metadata": {},
     "output_type": "execute_result"
    }
   ],
   "source": [
    "matrix[1][2]"
   ]
  }
 ],
 "metadata": {
  "kernelspec": {
   "display_name": ".venv",
   "language": "python",
   "name": "python3"
  },
  "language_info": {
   "codemirror_mode": {
    "name": "ipython",
    "version": 3
   },
   "file_extension": ".py",
   "mimetype": "text/x-python",
   "name": "python",
   "nbconvert_exporter": "python",
   "pygments_lexer": "ipython3",
   "version": "3.10.7"
  }
 },
 "nbformat": 4,
 "nbformat_minor": 2
}
