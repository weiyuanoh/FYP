{
 "cells": [
  {
   "cell_type": "code",
   "execution_count": 35,
   "metadata": {},
   "outputs": [
    {
     "name": "stdout",
     "output_type": "stream",
     "text": [
      "The autoreload extension is already loaded. To reload it, use:\n",
      "  %reload_ext autoreload\n"
     ]
    }
   ],
   "source": [
    "%load_ext autoreload\n",
    "\n",
    "%autoreload 2\n",
    "\n",
    "import gauleg as gl \n",
    "import sympy as sp \n",
    "import numpy as np \n",
    "import pandas as pd \n",
    "import math"
   ]
  },
  {
   "cell_type": "markdown",
   "metadata": {},
   "source": [
    "# Solving Linear System\n"
   ]
  },
  {
   "cell_type": "markdown",
   "metadata": {},
   "source": [
    "## Finding Lm Ln Polynomials \n"
   ]
  },
  {
   "cell_type": "code",
   "execution_count": 36,
   "metadata": {},
   "outputs": [
    {
     "data": {
      "text/latex": [
       "$\\displaystyle \\left( y \\mapsto 1 \\right)$"
      ],
      "text/plain": [
       "Lambda(y, 1)"
      ]
     },
     "execution_count": 36,
     "metadata": {},
     "output_type": "execute_result"
    }
   ],
   "source": [
    "def legendre_polynomial(n):\n",
    "    y = sp.symbols('y')\n",
    "    if n == 0:\n",
    "        return sp.Lambda(y, 1)\n",
    "    elif n == 1:\n",
    "        return sp.Lambda(y, y)\n",
    "    else:\n",
    "        P_n_minus_1 = legendre_polynomial(n-1)\n",
    "        P_n_minus_2 = legendre_polynomial(n-2)\n",
    "        return sp.Lambda(y, ((2*n - 1) * y * P_n_minus_1(y) - (n - 1) * P_n_minus_2(y)) / n)\n",
    "\n",
    "# Example usage:\n",
    "n = 0\n",
    "Ln = legendre_polynomial(n)\n",
    "Ln\n"
   ]
  },
  {
   "cell_type": "markdown",
   "metadata": {},
   "source": [
    "## Computing Anm using GL Quadrature --> finding A "
   ]
  },
  {
   "cell_type": "code",
   "execution_count": 37,
   "metadata": {},
   "outputs": [
    {
     "data": {
      "text/latex": [
       "$\\displaystyle \\left[\\begin{matrix}0 & 0\\\\0 & 0\\end{matrix}\\right]$"
      ],
      "text/plain": [
       "Matrix([\n",
       "[0, 0],\n",
       "[0, 0]])"
      ]
     },
     "execution_count": 37,
     "metadata": {},
     "output_type": "execute_result"
    }
   ],
   "source": [
    "n = [0,1]\n",
    "m = [0,1]\n",
    "\n",
    "def Anm(n, m):\n",
    "    y = sp.symbols('y')\n",
    "    Ln = legendre_polynomial(n)\n",
    "    Lm = legendre_polynomial(m)\n",
    "    return 0 * Ln(y) * Lm(y)\n",
    "    #    return y * Ln(y) * Lm(y) for a non deterministic case\n",
    "\n",
    "def Anm_gauleg(xi, ci, b , a, n2, n, m):\n",
    "    sum = 0 \n",
    "    Anm_expr = Anm(n,m)\n",
    "    for i in range(n2):\n",
    "        y_value = (0.5*(((b-a)*xi[i])+(b+a)))\n",
    "        prod = ci[i]* Anm_expr.subs(sp.symbols('y'), y_value)\n",
    "        sum = sum + prod \n",
    "    return sum \n",
    "\n",
    "def A_matrix(n,m):\n",
    "    A_matrix = sp.zeros(len(n),len(m))\n",
    "    n2 = math.floor((len(n)+len(m))/2) + 1\n",
    "    xi = gl.gauleg(n2)[0] # satisfying dop of GL for p+1 is 2p + 1\n",
    "    ci = gl.gauleg(n2)[1]\n",
    "    for ni in n:\n",
    "        for mi in m:\n",
    "            A_matrix[ni ,mi] = Anm_gauleg(xi= xi, ci = ci, b = 1, a = -1, n2 = n2, n = ni, m = mi)\n",
    "\n",
    "    return A_matrix\n",
    "\n",
    "A = A_matrix(n,m)\n",
    "A\n",
    "\n"
   ]
  },
  {
   "cell_type": "markdown",
   "metadata": {},
   "source": [
    "## Define A(x,y) "
   ]
  },
  {
   "cell_type": "code",
   "execution_count": 38,
   "metadata": {},
   "outputs": [],
   "source": [
    "\n",
    "\n",
    "def a(x, y):\n",
    "    return 2 + math.sin(x)\n",
    "\n",
    "\n",
    "# def a0(x):\n",
    "#     return 2 + math.sin(x)\n",
    "\n",
    "def a0(x):\n",
    "    if 0 <= x < 1/3: \n",
    "        return 1.0 \n",
    "    elif 1/3 <= x <= 1:\n",
    "        return 2.0\n",
    "\n",
    "# def a0(x):\n",
    "#     if 0 <= x < 0.5:\n",
    "#         return 1\n",
    "#     elif 0.5 <= x <= 1:\n",
    "#         return 2\n",
    "\n",
    "# def a0(x): \n",
    "#     if 0<= x < 0.75:\n",
    "#         return 1 \n",
    "#     elif 0.75<= x <= 1:\n",
    "#         return 2\n",
    "\n",
    "def a1(x):\n",
    "    return 0 *x\n",
    "\n"
   ]
  },
  {
   "cell_type": "markdown",
   "metadata": {},
   "source": [
    "## Define (S1) matrix and (S0) matrix\n",
    "\n",
    "Error Indexing \n",
    "\n",
    "nodal index = (0,1,2,3,...,n) \n",
    "\n",
    "element index =(0,1,...,n-1) \n",
    "\n",
    "finite element function index =  nodal index = (0,1,2,3...) since phi_i(x_i) = 1 for all i\n",
    "\n",
    "eg: nodal index = (0,1,2)\n",
    "\n",
    "element index = (0,1)\n",
    "\n",
    "element i = (x_i, x_i+1)"
   ]
  },
  {
   "cell_type": "code",
   "execution_count": 39,
   "metadata": {},
   "outputs": [
    {
     "data": {
      "text/latex": [
       "$\\displaystyle \\left[\\begin{matrix}0\\end{matrix}\\right]$"
      ],
      "text/plain": [
       "Matrix([[0]])"
      ]
     },
     "execution_count": 39,
     "metadata": {},
     "output_type": "execute_result"
    }
   ],
   "source": [
    "def GL(xi, ci, x_right, x_left, n2, func):\n",
    "\tsum = 0 \n",
    "\tfor i in range(n2):\n",
    "\t\tprod = ci[i]*func(0.5*(((x_right-x_left)*xi[i])+(x_right+x_left)))\n",
    "\t\tsum = sum + prod \n",
    "\treturn (x_right-x_left)/2 * (sum)\n",
    "\n",
    "def piecewise_GL(integrand, x_left, x_right, n2):\n",
    "    \"\"\"\n",
    "    Integrate 'integrand(x)' from x_left to x_right using Gauss-Legendre,\n",
    "    but if [x_left, x_right] crosses x=1/3, split it into two parts:\n",
    "      [x_left, 1/3]  and  [1/3, x_right]\n",
    "    and sum the results.\n",
    "    \"\"\"\n",
    "    discontinuity = 1/3\n",
    "    xi, ci = gl.gauleg(n2) \n",
    "    # If the entire interval is on one side of 1/3, do one normal G-L integral\n",
    "    if x_right <= discontinuity or x_left >= discontinuity:\n",
    "        return GL(xi =  xi, ci = ci, x_left=x_left, x_right=x_right, func=integrand, n2=n2)\n",
    "\n",
    "    # Otherwise, we split at x=1/3\n",
    "    # part1 = integral from x_left..1/3\n",
    "    part1 = GL(xi =  xi, ci = ci, x_left=x_left, x_right=discontinuity, func=integrand, n2=n2)\n",
    "    # part2 = integral from 1/3..x_right\n",
    "    part2 = GL(xi =  xi, ci = ci, x_left=discontinuity, x_right=x_right, func=integrand, n2=n2)\n",
    "\n",
    "    return part1 + part2\n",
    "\n",
    "def dphi_i_on_element(i, k, xlist):\n",
    "    \"\"\"\n",
    "    Return the (constant) slope of the i-th shape function on the k-th subinterval\n",
    "    [ x_k, x_{k+1} ] in a 1D mesh with nodes x_0 < ... < x_N.\n",
    "    \"\"\"\n",
    "    if i == k:\n",
    "        # node i is the left endpoint of the subinterval => slope from 1 at x_k down to 0 at x_{k+1}\n",
    "        dx = xlist[k+1] - xlist[k]\n",
    "        return -1.0 / dx\n",
    "    elif i == k+1:\n",
    "        # node i is the right endpoint => slope from 0 at x_k up to 1 at x_{k+1}\n",
    "        dx = xlist[k+1] - xlist[k]\n",
    "        return +1.0 / dx\n",
    "    else:\n",
    "        return 0.0\n",
    "\n",
    "\n",
    "def phiij(numofnodes, i, j, xlist, func):\n",
    "    finalsum = 0\n",
    "    for k in range(numofnodes-1):\n",
    "        x_left = xlist[k]\n",
    "        x_right = xlist[k+1]\n",
    "\n",
    "        # Derivatives of shape functions phi_i, phi_j on element k\n",
    "        d_phi_i = dphi_i_on_element(i, k, xlist)\n",
    "        d_phi_j = dphi_i_on_element(j, k, xlist)\n",
    "        def local_integrand(x_val):\n",
    "            return func(x_val) * (d_phi_i * d_phi_j)\n",
    "\n",
    "        # Now call piecewise_GL with local_integrand\n",
    "        val = piecewise_GL(local_integrand, x_left, x_right, n2=5)\n",
    "        finalsum += val\n",
    "    return finalsum\n",
    "\n",
    "def S1(func, mesh):\n",
    "    I = list(range(1, len(mesh)-1))\n",
    "    S1 = sp.zeros(len(I), len(I))\n",
    "    target = func\n",
    "    for local_i, g_i in enumerate(I):\n",
    "            for local_j, g_j in enumerate(I):\n",
    "                # 4) Evaluate your shape-function integral\n",
    "                S1[local_i, local_j] = phiij(\n",
    "                    numofnodes=len(mesh), \n",
    "                    i=g_i, \n",
    "                    j=g_j,\n",
    "                    xlist=mesh,\n",
    "                    func=func\n",
    "                )\n",
    "\n",
    "    return S1\n",
    "initial_mesh = [0, 0.5, 1]\n",
    "S1(func = a1, mesh = initial_mesh)\n"
   ]
  },
  {
   "cell_type": "code",
   "execution_count": 40,
   "metadata": {},
   "outputs": [
    {
     "data": {
      "text/latex": [
       "$\\displaystyle \\left[\\begin{matrix}6.66666666666667\\end{matrix}\\right]$"
      ],
      "text/plain": [
       "Matrix([[6.66666666666667]])"
      ]
     },
     "execution_count": 40,
     "metadata": {},
     "output_type": "execute_result"
    }
   ],
   "source": [
    "# compute S0 \n",
    "\n",
    "def S0(func, mesh):\n",
    "    I=list(range(1,len(mesh)-1))\n",
    "    S0 = sp.zeros(len(I), len(I))\n",
    "    target = func\n",
    "    for local_i, g_i in enumerate(I):\n",
    "            for local_j, g_j in enumerate(I):\n",
    "                # 4) Evaluate your shape-function integral\n",
    "                S0[local_i, local_j] = phiij(\n",
    "                    numofnodes=len(mesh), \n",
    "                    i=g_i, \n",
    "                    j=g_j,\n",
    "                    xlist=mesh,\n",
    "                    func= target\n",
    "                )\n",
    "\n",
    "    return S0\n",
    "\n",
    "S0(func= a0, mesh= initial_mesh)\n"
   ]
  },
  {
   "cell_type": "code",
   "execution_count": 41,
   "metadata": {},
   "outputs": [
    {
     "data": {
      "text/plain": [
       "6.666666666666667"
      ]
     },
     "execution_count": 41,
     "metadata": {},
     "output_type": "execute_result"
    }
   ],
   "source": [
    "phiij(numofnodes=3, i = 1, j = 1, xlist = initial_mesh, func = a0)"
   ]
  },
  {
   "cell_type": "markdown",
   "metadata": {},
   "source": [
    "## Define Kroneker Notation \n"
   ]
  },
  {
   "cell_type": "code",
   "execution_count": 42,
   "metadata": {},
   "outputs": [
    {
     "data": {
      "text/latex": [
       "$\\displaystyle \\left[\\begin{matrix}1 & 0\\\\0 & 1\\end{matrix}\\right]$"
      ],
      "text/plain": [
       "Matrix([\n",
       "[1, 0],\n",
       "[0, 1]])"
      ]
     },
     "execution_count": 42,
     "metadata": {},
     "output_type": "execute_result"
    }
   ],
   "source": [
    "# n, m are integers, probably need to loop it for every possible n, m \n",
    "\n",
    "def delta_mn(m,n):\n",
    "    if n == m:\n",
    "        return 1 \n",
    "    else:\n",
    "        return 0 \n",
    "\n",
    "def delta(n,m):\n",
    "    delta = sp.zeros(len(n), len(m))\n",
    "    for ni in n:\n",
    "        for mi in m: \n",
    "            delta[ni,mi] = delta_mn(ni,mi)\n",
    "\n",
    "    return delta \n",
    "\n",
    "delta(n,m)"
   ]
  },
  {
   "cell_type": "markdown",
   "metadata": {},
   "source": [
    "## Kron Matrix A and S1 "
   ]
  },
  {
   "cell_type": "code",
   "execution_count": 43,
   "metadata": {},
   "outputs": [
    {
     "data": {
      "text/latex": [
       "$\\displaystyle \\left[\\begin{matrix}0 & 0\\\\0 & 0\\end{matrix}\\right]$"
      ],
      "text/plain": [
       "Matrix([\n",
       "[0, 0],\n",
       "[0, 0]])"
      ]
     },
     "execution_count": 43,
     "metadata": {},
     "output_type": "execute_result"
    }
   ],
   "source": [
    "def A_S1(matrixA, matrixS1):\n",
    "    A_S1 = sp.kronecker_product(matrixA, matrixS1)\n",
    "    return A_S1\n",
    "\n",
    "A_S1(matrixA= A_matrix(n= n, m= m), matrixS1= S1(func = a1, mesh = initial_mesh))\n"
   ]
  },
  {
   "cell_type": "markdown",
   "metadata": {},
   "source": [
    "## Define S0 * delta_mn\n"
   ]
  },
  {
   "cell_type": "code",
   "execution_count": 44,
   "metadata": {},
   "outputs": [
    {
     "data": {
      "text/latex": [
       "$\\displaystyle \\left[\\begin{matrix}6.66666666666667 & 0\\\\0 & 6.66666666666667\\end{matrix}\\right]$"
      ],
      "text/plain": [
       "Matrix([\n",
       "[6.66666666666667,                0],\n",
       "[               0, 6.66666666666667]])"
      ]
     },
     "execution_count": 44,
     "metadata": {},
     "output_type": "execute_result"
    }
   ],
   "source": [
    "def S0_delta(matrixS0, matrixdelta):\n",
    "    return sp.kronecker_product(matrixS0 , matrixdelta) \n",
    "\n",
    "S0_delta(matrixS0=S0(func = a0, mesh = initial_mesh), matrixdelta=delta(n,m))"
   ]
  },
  {
   "cell_type": "markdown",
   "metadata": {},
   "source": [
    "## Define S(in)(jm)\n"
   ]
  },
  {
   "cell_type": "code",
   "execution_count": 45,
   "metadata": {},
   "outputs": [
    {
     "data": {
      "text/latex": [
       "$\\displaystyle \\left[\\begin{matrix}6.66666666666667 & 0\\\\0 & 6.66666666666667\\end{matrix}\\right]$"
      ],
      "text/plain": [
       "Matrix([\n",
       "[6.66666666666667,                0],\n",
       "[               0, 6.66666666666667]])"
      ]
     },
     "execution_count": 45,
     "metadata": {},
     "output_type": "execute_result"
    }
   ],
   "source": [
    "def S_in_jm(matrixS1_Amn, matrixS0_delta):\n",
    "    return matrixS0_delta + matrixS1_Amn\n",
    "\n",
    "S_in_jm(matrixS1_Amn= A_S1(matrixA=A_matrix(n,m), matrixS1=S1(func= a1, mesh = initial_mesh)),\n",
    "         matrixS0_delta=S0_delta(matrixS0=S0(func = a0, mesh = initial_mesh), matrixdelta=delta(n,m)))"
   ]
  },
  {
   "cell_type": "markdown",
   "metadata": {},
   "source": [
    "## Define Fi and F "
   ]
  },
  {
   "cell_type": "code",
   "execution_count": null,
   "metadata": {},
   "outputs": [
    {
     "data": {
      "text/latex": [
       "$\\displaystyle \\left[\\begin{matrix}1.79699519343877\\end{matrix}\\right]$"
      ],
      "text/plain": [
       "Matrix([[1.79699519343877]])"
      ]
     },
     "execution_count": 46,
     "metadata": {},
     "output_type": "execute_result"
    }
   ],
   "source": [
    "def phi(i, s, xlist):\n",
    "    \"\"\"\n",
    "    Evaluate the piecewise-linear hat function phi_i at point s,\n",
    "    given the node array xlist = [x_0, x_1, ..., x_N].\n",
    "    \"\"\"\n",
    "    # Find which interval [x_k,x_{k+1}] contains s\n",
    "    # If s < x_0 or s > x_N, phi_i(s)=0 outside domain\n",
    "    if s < xlist[0] or s > xlist[-1]:\n",
    "        return 0.0\n",
    "\n",
    "    # Find k: x_k <= s < x_{k+1}\n",
    "    k_found = None\n",
    "    for k in range(len(xlist)-1):\n",
    "        if xlist[k] <= s < xlist[k+1]:\n",
    "            k_found = k\n",
    "            break\n",
    "    # handle s == xlist[-1]\n",
    "    if s == xlist[-1]:\n",
    "        k_found = len(xlist)-2\n",
    "\n",
    "    # Cases:\n",
    "    # 1) If i not in {k,k+1}, phi_i(s)=0 in that subinterval\n",
    "    if i != k and i != k+1:\n",
    "        return 0.0\n",
    "\n",
    "    # 2) If i == k, then phi_i goes from 1 at x_k to 0 at x_{k+1}\n",
    "    if i == k:\n",
    "        dx = xlist[k+1] - xlist[k]\n",
    "        # linear from phi_i(x_k)=1 to phi_i(x_{k+1})=0\n",
    "        # slope = -1/dx\n",
    "        return 1.0 - (s - xlist[k]) / dx\n",
    "\n",
    "    # 3) If i == k+1, then phi_i goes from 0 at x_k to 1 at x_{k+1}\n",
    "    elif i == k+1:\n",
    "        dx = xlist[k+1] - xlist[k]\n",
    "        return (s - xlist[k]) / dx\n",
    "    \n",
    "def integrand_for_force(i, xlist, f, xi, ci, n2):\n",
    "    \"\"\"\n",
    "    Compute \\int f(s)*phi_i(s) ds over the entire domain,\n",
    "    by summing subinterval integrals or a single Gauss-Legendre over [0,1].\n",
    "    But typically we do subinterval-based integration for a non-uniform mesh.\n",
    "    \"\"\"\n",
    "    # We'll do an element-by-element integration approach:\n",
    "    total = 0.0\n",
    "    for k in range(len(xlist)-1):\n",
    "        x_left = xlist[k]\n",
    "        x_right = xlist[k+1]\n",
    "        # do Gauss-Legendre on each subinterval\n",
    "        sum_local = 0.0\n",
    "        for j in range(n2):\n",
    "            s = 0.5*((x_right - x_left)*xi[j] + (x_left + x_right))\n",
    "            w = ci[j]\n",
    "            val = f(s)*phi(i, s, xlist)\n",
    "            sum_local += w*val\n",
    "        total += 0.5*(x_right - x_left)*sum_local\n",
    "    return total\n",
    "\n",
    "# def f(s): \n",
    "#     return 2* (2 + math.sin(s)) - math.cos(s) *(1 -2*s)\n",
    "\n",
    "def f(s):\n",
    "    if 0 <= s < 1/3:\n",
    "        return 2.0\n",
    "    elif 1/3 <= s <= 1:\n",
    "        return 4.0\n",
    "\n",
    "# def f(s):\n",
    "#     if 0 <= s < 0.5:\n",
    "#         return 2\n",
    "#     elif 0.5 <= s <= 1:\n",
    "#         return 4\n",
    "    \n",
    "# def f(s):\n",
    "#     if 0 <= s < 0.75:\n",
    "#         return 2\n",
    "#     elif 0.75 <= s <= 1: \n",
    "#         return 4\n",
    "\n",
    "\n",
    "def build_force_vector(num_nodes, xlist, f):\n",
    "    \"\"\"\n",
    "    Build the vector F of length num_nodes where\n",
    "    F[i] = \\int f(x)*phi_i(x) dx\n",
    "    \"\"\"\n",
    "    interior = list(range(1, len(xlist)-1))\n",
    "    num_interior = len(interior)\n",
    "\n",
    "    # 2) Create a vector of that size\n",
    "    F_interior = sp.zeros(num_interior, 1)\n",
    "\n",
    "    # 3) Gauss-Legendre setup\n",
    "    n2 = 5\n",
    "    xi, ci = gl.gauleg(n2)\n",
    "\n",
    "    # 4) Fill each entry for the interior node i\n",
    "    for local_i, global_i in enumerate(interior):\n",
    "        val = integrand_for_force(global_i, xlist, f, xi, ci, n2)\n",
    "        F_interior[local_i, 0] = val\n",
    "\n",
    "    return F_interior\n",
    "\n",
    "build_force_vector(num_nodes=len(initial_mesh), xlist = initial_mesh, f = f)"
   ]
  },
  {
   "cell_type": "code",
   "execution_count": 52,
   "metadata": {},
   "outputs": [
    {
     "data": {
      "text/latex": [
       "$\\displaystyle \\left[\\begin{matrix}0\\\\0\\end{matrix}\\right]$"
      ],
      "text/plain": [
       "Matrix([\n",
       "[0],\n",
       "[0]])"
      ]
     },
     "execution_count": 52,
     "metadata": {},
     "output_type": "execute_result"
    }
   ],
   "source": [
    "def build_force_vector2(num_nodes, xlist, n_list,  f):\n",
    "    \"\"\"\n",
    "    Build the interior force vector F where\n",
    "      F[i] = ∫ f(x)*phi_i(x) dx\n",
    "    skipping boundary shape functions (i=0, i=N).\n",
    "    \"\"\"\n",
    "    interior = range(1, len(xlist)-1)   # interior node indices\n",
    "    F_interior = sp.zeros(len(interior), 1)\n",
    "\n",
    "    n2 = 5\n",
    "    xi, ci = gl.gauleg(n2)\n",
    "\n",
    "    def phi_i(i, x):\n",
    "        return phi(i, x, xlist)  # your standard piecewise \"hat\" function\n",
    "\n",
    "    # local routine to integrate f(x)*phi_i(x) over [a,b], \n",
    "    # handling the 1/3 discontinuity\n",
    "    def piecewise_integral(a, b, i):\n",
    "        # if entire [a,b] is below 1/3 or above 1/3, do one G-L integral\n",
    "        DISCONT = 1/3\n",
    "        if b <= DISCONT or a >= DISCONT:\n",
    "            return gauss_legendre_integrate(a, b, i) \n",
    "        # otherwise split at x=1/3\n",
    "        part1 = gauss_legendre_integrate(a, DISCONT, i)\n",
    "        part2 = gauss_legendre_integrate(DISCONT, b, i)\n",
    "        return part1 + part2\n",
    "\n",
    "    # single G-L integral on [A,B]\n",
    "    def gauss_legendre_integrate(A, B, i):\n",
    "        ssum = 0\n",
    "        for k in range(n2):\n",
    "            # map xi[k] ∈ [-1,1] → [A,B]\n",
    "            x_mapped = 0.5*((B - A)*xi[k] + (A + B))\n",
    "            w = ci[k]\n",
    "            # integrand = f(x)*phi_i(i,x)\n",
    "            integr_val = f(x_mapped)*phi_i(i, x_mapped)\n",
    "            ssum += w*integr_val\n",
    "        return 0.5*(B - A)*ssum\n",
    "    F_stoch = sp.zeros(len(interior)*len(n_list), 1)\n",
    "    # Fill each interior row\n",
    "    for local_i, global_i in enumerate(interior):\n",
    "        total = 0.0\n",
    "        # sum over all mesh elements\n",
    "        for e in range(len(xlist)-1):\n",
    "            for ni in n_list:\n",
    "                if ni == 0:\n",
    "                    a = xlist[e]\n",
    "                    b = xlist[e+1]\n",
    "                    # integrate f(x)*phi_{global_i}(x) over [a,b], splitting if needed\n",
    "                    val = piecewise_integral(a, b, global_i)\n",
    "                    total += val\n",
    "                    F_stoch[local_i * ni,0] = total\n",
    "                else: \n",
    "                    F_stoch[local_i * ni,0] = 0\n",
    "\n",
    "    return F_stoch\n",
    "\n",
    "\n",
    "build_force_vector2(num_nodes=len(initial_mesh),xlist = initial_mesh, n_list = n ,f = f) "
   ]
  },
  {
   "cell_type": "markdown",
   "metadata": {},
   "source": [
    "## Solving for C "
   ]
  },
  {
   "cell_type": "code",
   "execution_count": 53,
   "metadata": {},
   "outputs": [],
   "source": [
    "def C(matrixS, matrixF):\n",
    "    a = matrixS.inv()\n",
    "    return a * matrixF "
   ]
  },
  {
   "cell_type": "code",
   "execution_count": 55,
   "metadata": {},
   "outputs": [
    {
     "data": {
      "text/latex": [
       "$\\displaystyle \\left[\\begin{matrix}0\\\\0\\end{matrix}\\right]$"
      ],
      "text/plain": [
       "Matrix([\n",
       "[0],\n",
       "[0]])"
      ]
     },
     "execution_count": 55,
     "metadata": {},
     "output_type": "execute_result"
    }
   ],
   "source": [
    "C_test = C(matrixS= S_in_jm(matrixS1_Amn= A_S1(matrixA=A_matrix(n,m), matrixS1=S1(func= a1, mesh = initial_mesh)),\n",
    "     matrixS0_delta=S0_delta(matrixS0=S0(func = a0, mesh = initial_mesh), matrixdelta=delta(n,m))), \n",
    "     matrixF= build_force_vector2(num_nodes=len(initial_mesh),xlist = initial_mesh, n_list = n ,f = f))\n",
    "\n",
    "C_test"
   ]
  },
  {
   "cell_type": "markdown",
   "metadata": {},
   "source": [
    "## Computing Initial Energy Norm "
   ]
  },
  {
   "cell_type": "code",
   "execution_count": null,
   "metadata": {},
   "outputs": [
    {
     "name": "stdout",
     "output_type": "stream",
     "text": [
      "0.106172839506173\n",
      "0.474074074074074\n"
     ]
    }
   ],
   "source": [
    "def approx_new(c, F):\n",
    "    approx_new = c.T *F\n",
    "\n",
    "    return approx_new[0,0]\n",
    "\n",
    "approx = approx_new(c = C( matrixS= S_in_jm(matrixS1_Amn= A_S1(matrixA=A_matrix(n,m), matrixS1=S1(func= a1, mesh = initial_mesh)), matrixS0_delta=S0_delta(matrixS0=S0(func = a0, mesh = initial_mesh), matrixdelta=delta(n,m))),\n",
    "                                 matrixF= build_force_vector2(num_nodes=len(initial_mesh), xlist = initial_mesh, f = f)),\n",
    "                                 F = build_force_vector2(num_nodes=len(initial_mesh), xlist = initial_mesh, f = f))\n",
    "\n",
    "def energy_norm(approximation):\n",
    "    actual = 47/81\n",
    "    energy_norm = actual - approximation\n",
    "    return energy_norm\n",
    "\n",
    "print(energy_norm(approx))\n",
    "print(approx)"
   ]
  },
  {
   "cell_type": "markdown",
   "metadata": {},
   "source": [
    "Therefore, We have shown that as n, m, l increases, the error decreases \n"
   ]
  },
  {
   "cell_type": "markdown",
   "metadata": {},
   "source": [
    "## Computing element error r(x)\n"
   ]
  },
  {
   "cell_type": "code",
   "execution_count": 17,
   "metadata": {},
   "outputs": [],
   "source": [
    "def piecewise_linear_derivative(x_num, mesh, uh):\n",
    "    \"\"\"\n",
    "    Return the piecewise-constant slope u_h'(x_num) for x_num in an element\n",
    "    of the 1D mesh, or 0.0 if x_num is outside [mesh[0], mesh[-1]].\n",
    "    \"\"\"\n",
    "    m = len(mesh) - 1\n",
    "    if x_num < mesh[0] or x_num > mesh[m]:\n",
    "        # outside the domain\n",
    "        return 0.0\n",
    "    \n",
    "    # Find k so that mesh[k] <= x_num < mesh[k+1]\n",
    "    # (or x_num == mesh[m], in which case we set k = m-1)\n",
    "    k_found = None\n",
    "    for k in range(m):\n",
    "        if mesh[k] <= x_num < mesh[k+1]:\n",
    "            k_found = k\n",
    "            break\n",
    "    if x_num == mesh[m]:\n",
    "        k_found = m-1\n",
    "    \n",
    "    dx = mesh[k_found+1] - mesh[k_found]\n",
    "    dy = uh[k_found+1] - uh[k_found]\n",
    "    return dy / dx\n",
    "\n",
    "\n",
    "def assemble_nodal_values(C):\n",
    "    \"\"\"\n",
    "    Given:\n",
    "      C = [U_1, U_2, ..., U_{N-1}]  from the system solve\n",
    "    Returns:\n",
    "      U_full = [U_0, U_1, U_2, ..., U_{N-1}, U_N]  (with BCs)\n",
    "    \"\"\"\n",
    "    N_minus_1 = len(C)          # number of interior unknowns\n",
    "    U_full = [0]*(N_minus_1+2)  # +2 for endpoints\n",
    "    U_full[0] = 0.0            # Dirichlet BC at x_0\n",
    "    U_full[-1] = 0.0           # Dirichlet BC at x_N\n",
    "    \n",
    "    # Fill in interior:\n",
    "    for i in range(N_minus_1):\n",
    "        U_full[i+1] = C[i]\n",
    "    \n",
    "    return U_full\n",
    "\n"
   ]
  },
  {
   "cell_type": "code",
   "execution_count": 18,
   "metadata": {},
   "outputs": [],
   "source": [
    "# label each finite element for error calculation\n",
    "initial_mesh = [0, 0.5, 1]\n",
    "initial_nodal = assemble_nodal_values(C_test)\n",
    "\n",
    "def epsilon_k_sq():\n",
    "    pass\n",
    "     \n",
    "\n",
    "\n",
    "def r(x_num, mesh, uh):\n",
    "    # 'uh' and 'mesh' not strictly needed to compute a'(x), since a'(x)=0 except at 0.5.\n",
    "    # The interior PDE says r(x) = f(x) + slope*a'(x). But a'(x)=0 almost everywhere,\n",
    "    # so r(x) is just f(x).\n",
    "    if 0 <= x_num < 1/3:\n",
    "        return 2.0\n",
    "    elif 1/3 <= x_num <= 1:\n",
    "        return 4.0\n",
    "\n",
    "\n",
    "# def r(x_num, mesh, uh):\n",
    "#     \"\"\"\n",
    "#     Residual r(x) = f(x) + u_h'(x)*a'(x), but with a'(x)=cos(x) if a(x)=2+sin(x).\n",
    "#     => r(x) = f(x) + slope*cos(x_num).\n",
    "#     \"\"\"\n",
    "#     slope = piecewise_linear_derivative(x_num, mesh, uh)\n",
    "#     return f(x_num) + slope*math.cos(x_num)\n",
    "# def element_residual_l2(x_left_element_i, x_right_element_i, mesh, uh):\n",
    "#     \"\"\"\n",
    "#     Carry out Gauss-Legendre Quadrature of [r(x)]^2 on the element\n",
    "#     [x_left_element_i, x_right_element_i], where\n",
    "#       r(x) = f(x) + (u_h'(x))*cos(x).\n",
    "#     We assume piecewise_linear_derivative + f are already defined.\n",
    "#     \"\"\"\n",
    "#     def integrand_interior(x_val):\n",
    "#         # We want [r(x_val)]^2\n",
    "#         return (r(x_val, mesh, uh))**2\n",
    "    \n",
    "#     n2 = 5\n",
    "#     xi, ci = gl.gauleg(n2)  # your routine that returns points & weights\n",
    "#     # Integrate (r(x))^2 over this specific element\n",
    "#     r_sq = GL(\n",
    "#         xi=xi, ci=ci,\n",
    "#         x_right=x_right_element_i,\n",
    "#         x_left=x_left_element_i,\n",
    "#         n2=n2,\n",
    "#         func=integrand_interior\n",
    "#     )\n",
    "#     return r_sq"
   ]
  },
  {
   "cell_type": "code",
   "execution_count": 19,
   "metadata": {},
   "outputs": [],
   "source": [
    "\n",
    "## use gauss legendre for each element. because it is discountinuous \n",
    "\n",
    "def piecewise_GL(integrand, x_left, x_right, n2):\n",
    "    \"\"\"\n",
    "    Integrate 'integrand(x)' from x_left to x_right using Gauss-Legendre,\n",
    "    but if [x_left, x_right] crosses x=1/3, split it into two parts:\n",
    "      [x_left, 1/3]  and  [1/3, x_right]\n",
    "    and sum the results.\n",
    "    \"\"\"\n",
    "    discontinuity =1/3\n",
    "    xi, ci = gl.gauleg(n2) \n",
    "    # If the entire interval is on one side of 1/3, do one normal G-L integral\n",
    "    if x_right <= discontinuity or x_left >= discontinuity:\n",
    "        return GL(xi =  xi, ci = ci, x_left=x_left, x_right=x_right, func=integrand, n2=n2)\n",
    "\n",
    "    # Otherwise, we split at x=1/3\n",
    "    # part1 = integral from x_left..1/3\n",
    "    part1 = GL(xi =  xi, ci = ci, x_left=x_left, x_right=discontinuity, func=integrand, n2=n2)\n",
    "    # part2 = integral from 1/3..x_right\n",
    "    part2 = GL(xi =  xi, ci = ci, x_left=discontinuity, x_right=x_right, func=integrand, n2=n2)\n",
    "\n",
    "    return part1 + part2\n",
    "\n",
    "\n",
    "def element_residual_l2(x_left_element_i, x_right_element_i, mesh, uh):\n",
    "    \"\"\"\n",
    "    Perform piecewise integration to handle the discontinuity at x=1/3.\n",
    "    \"\"\"\n",
    "    def integrand_interior(x_val):\n",
    "        return (r(x_val, mesh, uh))**2\n",
    "\n",
    "    n2 = 5\n",
    "    # Instead of one GL call, do:\n",
    "    r_sq = piecewise_GL(\n",
    "        integrand=integrand_interior,\n",
    "        x_left=x_left_element_i,\n",
    "        x_right=x_right_element_i,\n",
    "        n2=n2\n",
    "    )\n",
    "    return r_sq\n"
   ]
  },
  {
   "cell_type": "markdown",
   "metadata": {},
   "source": [
    "## Calculate boundary error "
   ]
  },
  {
   "cell_type": "code",
   "execution_count": 20,
   "metadata": {},
   "outputs": [],
   "source": [
    "def slope_at_node(mesh, uh, i, side):\n",
    "    \"\"\"\n",
    "    Return the slope of the piecewise-linear solution u_h on the element\n",
    "    *adjacent* to node i from the specified side ('left' or 'right').\n",
    "\n",
    "    Parameters\n",
    "    ----------\n",
    "    mesh : list of floats, [x_0, x_1, ..., x_m]\n",
    "           The node coordinates (strictly increasing).\n",
    "    uh   : list of floats, [u_0, u_1, ..., u_m]\n",
    "           The nodal values of u_h at mesh[i].\n",
    "    i    : int\n",
    "           The index of the node x_i in mesh.\n",
    "    side : str\n",
    "           Either 'left' or 'right'.\n",
    "    \n",
    "    Returns\n",
    "    -------\n",
    "    slope : float\n",
    "        The slope in the element to the left or right of x_i.\n",
    "        If x_i is at a boundary (e.g. i=0 and side='left'),\n",
    "        we either raise an error or return 0.0, depending on your convention.\n",
    "    \"\"\"\n",
    "    # Number of intervals is len(mesh)-1\n",
    "    n = len(mesh) - 1\n",
    "\n",
    "    if side == 'left':\n",
    "        # The element to the left of node x_i is [x_{i-1}, x_i].\n",
    "        # So we must have i >= 1 to have a left neighbor.\n",
    "        if i == 0:\n",
    "            slope = 0 \n",
    "        else:\n",
    "            dx = mesh[i] - mesh[i-1]\n",
    "            dy = uh[i]   - uh[i-1]\n",
    "            slope = dy/dx\n",
    "        return slope\n",
    "    \n",
    "    elif side == 'right':\n",
    "        # The element to the right of node x_i is [x_i, x_{i+1}].\n",
    "        # So we must have i <= n-1 to have a right neighbor.\n",
    "        if i >= n:\n",
    "            slope = 0 \n",
    "        else:\n",
    "            dx = mesh[i+1] - mesh[i]\n",
    "            dy = uh[i+1]  - uh[i]\n",
    "            slope = dy/dx\n",
    "        return slope\n",
    "\n",
    "    else:\n",
    "        raise ValueError(\"side must be 'left' or 'right'.\")\n",
    "\n"
   ]
  },
  {
   "cell_type": "code",
   "execution_count": 21,
   "metadata": {},
   "outputs": [],
   "source": [
    "# def j(mesh, uh, i):\n",
    "#     if i == len(mesh)-1 or i == 0:\n",
    "#         return 0.0\n",
    "#     x_num = mesh[i+1]\n",
    "#     slope_right = slope_at_node(mesh, uh, i+1, 'right')\n",
    "#     sigma_right = 1 * a0(x_num) *slope_right\n",
    "#     slope_left = slope_at_node(mesh, uh, i+1 , 'left')\n",
    "#     sigma_left = -1 * a0(x_num) * slope_left \n",
    "#     j_x = sigma_right - sigma_left\n",
    "#     return j_x\n",
    "\n",
    "\n",
    "def j2(mesh, uh, i):\n",
    "    \"\"\"\n",
    "    Compute the flux jump at node mesh[i+1] (the right boundary of element i),\n",
    "    taking into account a jump in a0 at x=1/3.\n",
    "    \"\"\"\n",
    "    # no jump at boundary or if i is last element\n",
    "    if i == len(mesh)-1 or i == 0:\n",
    "        return 0.0\n",
    "    \n",
    "    x_num = mesh[i]               # the node where we measure flux jump\n",
    "    slope_right = slope_at_node(mesh, uh, i, 'right')\n",
    "    slope_left  = slope_at_node(mesh, uh, i, 'left')\n",
    "    \n",
    "    discont = 1/3\n",
    "    # Decide which \"a0\" to use for each side\n",
    "    # if x_num < discont => both sides use a=1\n",
    "    # if x_num > discont => both sides use a=2\n",
    "    # if exactly x_num==discont => left side a=1, right side a=2\n",
    "    if x_num < discont:\n",
    "        a_left  = 1\n",
    "        a_right = 1\n",
    "    elif x_num > discont:\n",
    "        a_left  = 2\n",
    "        a_right = 2\n",
    "    else:  # x_num == discont\n",
    "        a_left  = 1\n",
    "        a_right = 2\n",
    "    \n",
    "    sigma_right = a_right * slope_right\n",
    "    sigma_left  = -1.0 * a_left * slope_left\n",
    "    \n",
    "    return sigma_right - sigma_left\n"
   ]
  },
  {
   "cell_type": "code",
   "execution_count": 22,
   "metadata": {},
   "outputs": [],
   "source": [
    "def mesh_size(mesh, i):\n",
    "    return mesh[i+1] - mesh[i]\n",
    "    \n",
    "\n",
    "\n",
    "def sum_of_error(i, mesh, nodal):\n",
    "    x_left_element_i= mesh[i]\n",
    "    x_right_element_i = mesh[i+1]\n",
    "    h = x_right_element_i - x_left_element_i\n",
    "    residual_sq = element_residual_l2(x_left_element_i, x_right_element_i, nodal, i)\n",
    "    boundary_sq = j2(mesh, nodal, i=i) **2\n",
    "    return h ** 2 * residual_sq + h * boundary_sq\n",
    "    \n",
    "\n",
    "def sum_of_error_list(mesh, nodal):\n",
    "    error_list = []\n",
    "    for i in list(range(len(mesh) -1)):\n",
    "        error = sum_of_error(i = i, mesh = mesh, nodal = nodal)\n",
    "        error_list.append(error)\n",
    "    return error_list\n",
    "\n"
   ]
  },
  {
   "cell_type": "markdown",
   "metadata": {},
   "source": [
    "```\n",
    "def adaptive_loop():\n",
    "    # Initialize\n",
    "    n_list, m_list, i_list = initial_data()\n",
    "    for iteration in range(max_iterations):\n",
    "        # 1) Solve\n",
    "        current_C = solve_scF_once(n_list, m_list, i_list)\n",
    "        \n",
    "        # 2) Estimate error\n",
    "        error_value = compute_error(current_C, n_list, m_list, i_list)\n",
    "        \n",
    "        # 3) Heap sort \n",
    "            if error_i > k * total error:\n",
    "            add midpoint node to mesh index. \n",
    "        \n",
    "        # 4) Mark for refinement if error too large\n",
    "        for \n",
    "        if error_value < tolerance:\n",
    "            print(\"Converged!\")\n",
    "            break\n",
    "        \n",
    "        # 5) Refine (e.g. split the mesh, update i_list, etc.)\n",
    "        n_list, m_list, i_list = refine(n_list, m_list, i_list, current_C, error_value)\n",
    "\n",
    "    return current_C\n",
    "\n",
    "```\n"
   ]
  },
  {
   "cell_type": "code",
   "execution_count": 23,
   "metadata": {},
   "outputs": [],
   "source": [
    "## heap sort of errors \n",
    "def element_selection_heap(errors, theta=0.8):\n",
    "    \"\"\"\n",
    "    Dörfler-like marking using a heap approach.\n",
    "    Returns the list of element indices with the largest errors \n",
    "    that collectively account for at least theta-fraction of total error.\n",
    "    \"\"\"\n",
    "    import heapq\n",
    "\n",
    "    # Pair up (error, index)\n",
    "    err_pairs = [(err, i) for i, err in enumerate(errors)]\n",
    "    # Sort in descending order of error\n",
    "    sorted_desc = heapq.nlargest(len(err_pairs), err_pairs, key=lambda e: e[0])\n",
    "\n",
    "    total_err = sum(e[0] for e in err_pairs)\n",
    "    threshold = theta * total_err\n",
    "\n",
    "    accum = 0.0\n",
    "    to_refine = []\n",
    "    for (err_val, idx) in sorted_desc:\n",
    "        accum += err_val\n",
    "        to_refine.append(idx)\n",
    "        if accum >= threshold:\n",
    "            break\n",
    "    return to_refine\n"
   ]
  },
  {
   "cell_type": "code",
   "execution_count": 24,
   "metadata": {},
   "outputs": [
    {
     "data": {
      "text/latex": [
       "$\\displaystyle \\left[\\begin{matrix}1.77777777777778\\end{matrix}\\right]$"
      ],
      "text/plain": [
       "Matrix([[1.77777777777778]])"
      ]
     },
     "execution_count": 24,
     "metadata": {},
     "output_type": "execute_result"
    }
   ],
   "source": [
    "def solve_scF_once(n_list, m_list, mesh):\n",
    "    \"\"\"\n",
    "    Build and solve the system S*C = F for a single iteration.\n",
    "\n",
    "    Parameters\n",
    "    ----------\n",
    "    n_list, m_list : lists of indices (e.g. polynomial degrees)\n",
    "    i_list         : indices for the piecewise-constant or piecewise-linear basis\n",
    "\n",
    "    Returns\n",
    "    -------\n",
    "    C : Sympy Matrix\n",
    "        The solution vector for the unknowns.\n",
    "    \"\"\"\n",
    "\n",
    "    # Build the big Kronecker products\n",
    "    matrixS1_Amn = A_S1(matrixA=A_matrix(n,m), matrixS1=S1(func= a1, mesh = mesh))          # = kronecker(A, S1_mat)\n",
    "    matrixS0_delta = S0_delta(matrixS0=S0(func = a0, mesh = mesh), matrixdelta=delta(n,m))\n",
    "    S = S_in_jm(matrixS1_Amn, matrixS0_delta) # S = matrixS0_delta + matrixS1_Amn\n",
    "\n",
    "    # 2) Build the right-hand side vector F\n",
    "    Fvec = build_force_vector2(num_nodes=len(mesh), xlist = mesh, f = f)\n",
    "\n",
    "    # 3) Solve S*C = F for C\n",
    "    C_sol = C(S, Fvec)  # calls your function C(...) which does: S_inv = S.inv(); C = S_inv*F\n",
    "\n",
    "    return C_sol, Fvec\n",
    "\n",
    "solve_scF_once(n_list=n, m_list=m, mesh = initial_mesh)[1]"
   ]
  },
  {
   "cell_type": "code",
   "execution_count": 25,
   "metadata": {},
   "outputs": [],
   "source": [
    "# c_sol =solve_scF_once(n_list=n, m_list=m, mesh = gl.listi(0, 1, 2 **(-6), 2**6 + 1))[0]\n",
    "# nodal = assemble_nodal_values(c_sol)\n",
    "# x_nodal = np.array(gl.listi(0, 1, 2 **(-6), 2**6 + 1), dtype=float)\n",
    "# u_nodal = np.array(nodal, dtype=float)\n",
    "\n",
    "# print(u_nodal)\n",
    "# # 1) Plot the piecewise-linear solution\n",
    "# plt.plot(\n",
    "#     x_nodal,\n",
    "#     u_nodal,\n",
    "#     marker='o',\n",
    "#     linestyle='-',\n",
    "#     color='blue',\n",
    "#     label='Numerical (Refined Mesh)'\n",
    "# )\n",
    "\n",
    "# # 2) Plot the exact solution as a smooth curve\n",
    "# plt.plot(\n",
    "#     x_fine,\n",
    "#     u_exact,\n",
    "#     color='red',\n",
    "#     linewidth=2,\n",
    "#     label='Exact: x(1-x)'\n",
    "# )\n",
    "\n",
    "# plt.xlabel('x')\n",
    "# plt.ylabel('u(x)')\n",
    "# plt.title('Refined Numerical Solution vs. Exact')\n",
    "# plt.grid(True)\n",
    "# plt.legend()\n",
    "# plt.show()\n",
    "\n"
   ]
  },
  {
   "cell_type": "code",
   "execution_count": 26,
   "metadata": {},
   "outputs": [],
   "source": [
    "# criteria for refinement \n",
    "# initialize upper bound for termination \n",
    "\n",
    "epsilon = 0.1\n",
    "def refine_mesh(mesh, element_index):\n",
    "    \"\"\"\n",
    "    Refine the element [mesh[element_index], mesh[element_index+1]]\n",
    "    by bisection. That is, insert a midpoint and return the new mesh.\n",
    "\n",
    "    Example:\n",
    "      mesh = [0, 0.5, 1], element_index=1 => the element [0.5, 1].\n",
    "      We compute midpoint = 0.75, so new mesh = [0, 0.5, 0.75, 1].\n",
    "    \"\"\"\n",
    "    x_left = mesh[element_index]\n",
    "    x_right = mesh[element_index+1]\n",
    "    midpoint = 0.5*(x_left + x_right)\n",
    "\n",
    "    # Insert the midpoint after mesh[element_index]\n",
    "    return mesh[:element_index+1] + [midpoint] + mesh[element_index+1:]\n",
    "\n",
    "def element_selection(mesh, errors, epsilon):\n",
    "    \"\"\"\n",
    "    Given a 1D mesh (list of node coords) and a list 'errors'\n",
    "    of elementwise errors, refine any element whose error is > epsilon\n",
    "    by bisection. Return the new mesh.\n",
    "    \"\"\"\n",
    "    new_mesh = mesh[:]  # copy\n",
    "    # We gather all elements to refine (descending order so indexing is stable).\n",
    "    # Or just pick the largest error — depends on your marking strategy.\n",
    "    elements_to_refine = []\n",
    "    for elem_index, err_value in enumerate(errors):\n",
    "        if err_value > epsilon:\n",
    "            elements_to_refine.append(elem_index)\n",
    "\n",
    "    # Sort in descending order so we refine from rightmost to leftmost,\n",
    "    # avoiding index shifting.\n",
    "    elements_to_refine.sort(reverse=True)\n",
    "\n",
    "    return elements_to_refine\n",
    "\n",
    "def element_refinement(mesh, element_index):\n",
    "    new_mesh = mesh[:]\n",
    "    for elem_idx in element_index:\n",
    "        new_mesh = refine_mesh(new_mesh, elem_idx)\n",
    "\n",
    "    return new_mesh"
   ]
  },
  {
   "cell_type": "code",
   "execution_count": 27,
   "metadata": {},
   "outputs": [],
   "source": [
    "def refinement_loop(epsilon):\n",
    "    \"\"\"\n",
    "    1) Start with initial mesh\n",
    "    2) Solve once\n",
    "    3) Estimate errors\n",
    "    4) If all errors < epsilon, done. Else refine, go back to step 2.\n",
    "    \"\"\"\n",
    "    mesh = [0, 0.5, 1]\n",
    "\n",
    "    # Keep track of (mesh, energy_norm) in each iteration\n",
    "    enorm_history = []\n",
    "    iteration_index = 0\n",
    "    while True:\n",
    "        # Solve for c_sol on the current mesh\n",
    "        c_sol, f_sol = solve_scF_once(n_list=n, m_list=m, mesh=mesh)\n",
    "\n",
    "        # Convert solution to nodal representation\n",
    "        nodal = assemble_nodal_values(c_sol)\n",
    "\n",
    "        # Estimate the elementwise errors\n",
    "        errors = sum_of_error_list(mesh=mesh, nodal=nodal)\n",
    "\n",
    "        # Mark which elements to refine\n",
    "        elements_to_refine = element_selection(mesh=mesh, errors=errors, epsilon=epsilon)\n",
    "        # elements_to_refine = element_selection_heap(errors, theta=0.8)\n",
    "\n",
    "\n",
    "        # For logging: compute the “approximation” and an “energy norm”\n",
    "        approximation = approx_new(c=c_sol, F=f_sol)\n",
    "        enorm = energy_norm(approximation)\n",
    "\n",
    "        # Record in the history: current mesh + energy norm\n",
    "        # (Or just record iteration index + norm, up to you.)\n",
    "        enorm_history.append((iteration_index, enorm))\n",
    "\n",
    "        # If no elements exceed threshold => done\n",
    "        if not elements_to_refine:\n",
    "            break\n",
    "\n",
    "        # Otherwise refine\n",
    "        mesh = element_refinement(mesh, elements_to_refine)\n",
    "        iteration_index += 1\n",
    "        print(\"Refined mesh:\", mesh)\n",
    "\n",
    "    # After loop, final solution is c_sol on final mesh\n",
    "    # Return everything, including the entire history\n",
    "    return mesh, c_sol, enorm_history\n"
   ]
  },
  {
   "cell_type": "code",
   "execution_count": null,
   "metadata": {},
   "outputs": [
    {
     "name": "stdout",
     "output_type": "stream",
     "text": [
      "Refined mesh: [0, 0.25, 0.5, 0.75, 1]\n",
      "Refined mesh: [0, 0.25, 0.375, 0.5, 0.625, 0.75, 0.875, 1]\n",
      "Refined mesh: [0, 0.25, 0.3125, 0.375, 0.4375, 0.5, 0.625, 0.6875, 0.75, 0.8125, 0.875, 0.9375, 1]\n",
      "Refined mesh: [0, 0.25, 0.28125, 0.3125, 0.375, 0.4375, 0.5, 0.625, 0.6875, 0.71875, 0.75, 0.78125, 0.8125, 0.84375, 0.875, 0.90625, 0.9375, 0.96875, 1]\n",
      "Refined mesh: [0, 0.25, 0.28125, 0.3125, 0.375, 0.4375, 0.5, 0.625, 0.6875, 0.71875, 0.734375, 0.75, 0.765625, 0.78125, 0.796875, 0.8125, 0.828125, 0.84375, 0.859375, 0.875, 0.890625, 0.90625, 0.921875, 0.9375, 0.953125, 0.96875, 0.984375, 1]\n",
      "Refined mesh: [0, 0.25, 0.28125, 0.3125, 0.375, 0.4375, 0.5, 0.625, 0.6875, 0.71875, 0.734375, 0.75, 0.765625, 0.78125, 0.7890625, 0.796875, 0.8046875, 0.8125, 0.8203125, 0.828125, 0.8359375, 0.84375, 0.8515625, 0.859375, 0.8671875, 0.875, 0.8828125, 0.890625, 0.8984375, 0.90625, 0.9140625, 0.921875, 0.9296875, 0.9375, 0.9453125, 0.953125, 0.9609375, 0.96875, 0.9765625, 0.984375, 0.9921875, 1]\n",
      "Refined mesh: [0, 0.25, 0.28125, 0.3125, 0.375, 0.4375, 0.5, 0.625, 0.6875, 0.71875, 0.734375, 0.75, 0.765625, 0.78125, 0.7890625, 0.796875, 0.8046875, 0.8125, 0.8203125, 0.828125, 0.8359375, 0.84375, 0.8515625, 0.859375, 0.8671875, 0.875, 0.8828125, 0.890625, 0.8984375, 0.90625, 0.9140625, 0.91796875, 0.921875, 0.92578125, 0.9296875, 0.93359375, 0.9375, 0.94140625, 0.9453125, 0.94921875, 0.953125, 0.95703125, 0.9609375, 0.96484375, 0.96875, 0.97265625, 0.9765625, 0.98046875, 0.984375, 0.98828125, 0.9921875, 0.99609375, 1]\n"
     ]
    },
    {
     "data": {
      "image/png": "[encoded data removed]",
      "text/plain": [
       "<Figure size 600x400 with 1 Axes>"
      ]
     },
     "metadata": {},
     "output_type": "display_data"
    }
   ],
   "source": [
    "import numpy as np\n",
    "import matplotlib.pyplot as plt\n",
    "\n",
    "# Suppose your refinement_loop(epsilon) returns:\n",
    "#   mesh, c_sol, enorm\n",
    "# and you run:\n",
    "mesh, c_sol, enorm_history = refinement_loop(epsilon=0.1)\n",
    "\n",
    "# Then you have a function that returns the full nodal array from c_sol\n",
    "nodal = assemble_nodal_values(c_sol)  # length = len(mesh)\n",
    "\n",
    "# Convert to NumPy arrays for convenience\n",
    "x_nodal = np.array(mesh, dtype=float)\n",
    "u_nodal = np.array(nodal, dtype=float)\n",
    "\n",
    "# Define the exact solution\n",
    "def exact_solution(x):\n",
    "    return x*(1.0 - x)\n",
    "\n",
    "# We'll plot the exact solution on a fine grid from 0..1\n",
    "x_fine = np.linspace(0.0, 1.0, 200)\n",
    "u_exact = exact_solution(x_fine)\n",
    "\n",
    "plt.figure(figsize=(6,4))\n",
    "\n",
    "# 1) Plot the piecewise-linear solution\n",
    "plt.plot(\n",
    "    x_nodal,\n",
    "    u_nodal,\n",
    "    marker='o',\n",
    "    linestyle='-',\n",
    "    color='blue',\n",
    "    label='Numerical (Refined Mesh)'\n",
    ")\n",
    "\n",
    "# 2) Plot the exact solution as a smooth curve\n",
    "plt.plot(\n",
    "    x_fine,\n",
    "    u_exact,\n",
    "    color='red',\n",
    "    linewidth=2,\n",
    "    label='Exact: x(1-x)'\n",
    ")\n",
    "\n",
    "plt.xlabel('x')\n",
    "plt.ylabel('u(x)')\n",
    "plt.title('Refined Numerical Solution vs. Exact')\n",
    "plt.grid(True)\n",
    "plt.legend()\n",
    "plt.show()\n"
   ]
  },
  {
   "cell_type": "code",
   "execution_count": 33,
   "metadata": {},
   "outputs": [
    {
     "name": "stdout",
     "output_type": "stream",
     "text": [
      "[0.         0.25       0.28125    0.3125     0.375      0.4375\n",
      " 0.5        0.625      0.6875     0.71875    0.734375   0.75\n",
      " 0.765625   0.78125    0.7890625  0.796875   0.8046875  0.8125\n",
      " 0.8203125  0.828125   0.8359375  0.84375    0.8515625  0.859375\n",
      " 0.8671875  0.875      0.8828125  0.890625   0.8984375  0.90625\n",
      " 0.9140625  0.91796875 0.921875   0.92578125 0.9296875  0.93359375\n",
      " 0.9375     0.94140625 0.9453125  0.94921875 0.953125   0.95703125\n",
      " 0.9609375  0.96484375 0.96875    0.97265625 0.9765625  0.98046875\n",
      " 0.984375   0.98828125 0.9921875  0.99609375 1.        ]\n",
      "[0, 0.25, 0.28125, 0.3125, 0.375, 0.4375, 0.5, 0.625, 0.6875, 0.71875, 0.734375, 0.75, 0.765625, 0.78125, 0.7890625, 0.796875, 0.8046875, 0.8125, 0.8203125, 0.828125, 0.8359375, 0.84375, 0.8515625, 0.859375, 0.8671875, 0.875, 0.8828125, 0.890625, 0.8984375, 0.90625, 0.9140625, 0.91796875, 0.921875, 0.92578125, 0.9296875, 0.93359375, 0.9375, 0.94140625, 0.9453125, 0.94921875, 0.953125, 0.95703125, 0.9609375, 0.96484375, 0.96875, 0.97265625, 0.9765625, 0.98046875, 0.984375, 0.98828125, 0.9921875, 0.99609375, 1]\n",
      "[(0, 0.106172839506173), (1, -0.0461775878442542), (2, -0.0746803350970017), (3, -0.0830096323229671), (4, -0.0836810190417173), (5, -0.0838183481432790), (6, -0.0838450510241385), (7, -0.0838476736285085)]\n",
      "[0.         0.23014937 0.25012898 0.26815546 0.28522995 0.29186321\n",
      " 0.29068396 0.26488797 0.24027123 0.22503317 0.21668171 0.20784198\n",
      " 0.19851397 0.18869767 0.18360642 0.17839309 0.1730577  0.16760024\n",
      " 0.1620207  0.1563191  0.15049542 0.14454968 0.13848186 0.13229197\n",
      " 0.12598002 0.11954599 0.11298989 0.10631173 0.09951149 0.09258918\n",
      " 0.0855448  0.08197684 0.07837835 0.07474935 0.07108983 0.0673998\n",
      " 0.06367925 0.05992817 0.05614659 0.05233448 0.04849186 0.04461871\n",
      " 0.04071506 0.03678088 0.03281619 0.02882097 0.02479524 0.020739\n",
      " 0.01665223 0.01253495 0.00838715 0.00420883 0.        ]\n"
     ]
    }
   ],
   "source": [
    "print(x_nodal)\n",
    "print(mesh)\n",
    "print(enorm_history)\n",
    "print(u_nodal)"
   ]
  },
  {
   "cell_type": "code",
   "execution_count": null,
   "metadata": {},
   "outputs": [
    {
     "name": "stdout",
     "output_type": "stream",
     "text": [
      "\n",
      "\\begin{table}[H]\n",
      "\\centering\n",
      "\\caption{Final Mesh Points and Solution Coefficients}\n",
      "\\label{tab:final_mesh_solution}\n",
      "\\begin{tabular}{@{}cc@{}}\n",
      "\\toprule\n",
      "\\textbf{Mesh Point \\( x_i \\)} & \\textbf{Solution Coefficient \\( u_i \\)} \\\\ \\midrule\n",
      "0.0000 & 0.0000 \\\\\n",
      "0.1250 & 0.1250 \\\\\n",
      "0.1328 & 0.1328 \\\\\n",
      "0.1406 & 0.1406 \\\\\n",
      "0.1562 & 0.1562 \\\\\n",
      "0.1719 & 0.1719 \\\\\n",
      "0.1875 & 0.1875 \\\\\n",
      "0.2031 & 0.2031 \\\\\n",
      "0.2188 & 0.2188 \\\\\n",
      "0.2344 & 0.2344 \\\\\n",
      "0.2500 & 0.2500 \\\\\n",
      "0.2656 & 0.2656 \\\\\n",
      "0.2812 & 0.2812 \\\\\n",
      "0.3125 & 0.3125 \\\\\n",
      "0.3438 & 0.3438 \\\\\n",
      "0.3750 & 0.3750 \\\\\n",
      "0.4375 & 0.4375 \\\\\n",
      "0.5000 & 0.5000 \\\\\n",
      "0.5625 & 0.5625 \\\\\n",
      "0.6250 & 0.6250 \\\\\n",
      "0.6406 & 0.6406 \\\\\n",
      "0.6562 & 0.6562 \\\\\n",
      "0.6719 & 0.6719 \\\\\n",
      "0.6875 & 0.6875 \\\\\n",
      "0.6953 & 0.6953 \\\\\n",
      "0.7031 & 0.7031 \\\\\n",
      "0.7109 & 0.7109 \\\\\n",
      "0.7188 & 0.7188 \\\\\n",
      "0.7266 & 0.7266 \\\\\n",
      "0.7344 & 0.7344 \\\\\n",
      "0.7422 & 0.7422 \\\\\n",
      "0.7500 & 0.7500 \\\\\n",
      "0.7578 & 0.7578 \\\\\n",
      "0.7656 & 0.7656 \\\\\n",
      "0.7734 & 0.7734 \\\\\n",
      "0.7812 & 0.7812 \\\\\n",
      "0.7852 & 0.7852 \\\\\n",
      "0.7891 & 0.7891 \\\\\n",
      "0.7930 & 0.7930 \\\\\n",
      "0.7969 & 0.7969 \\\\\n",
      "0.8008 & 0.8008 \\\\\n",
      "0.8047 & 0.8047 \\\\\n",
      "0.8086 & 0.8086 \\\\\n",
      "0.8125 & 0.8125 \\\\\n",
      "0.8164 & 0.8164 \\\\\n",
      "0.8203 & 0.8203 \\\\\n",
      "0.8242 & 0.8242 \\\\\n",
      "0.8281 & 0.8281 \\\\\n",
      "0.8320 & 0.8320 \\\\\n",
      "0.8359 & 0.8359 \\\\\n",
      "0.8398 & 0.8398 \\\\\n",
      "0.8438 & 0.8438 \\\\\n",
      "0.8477 & 0.8477 \\\\\n",
      "0.8516 & 0.8516 \\\\\n",
      "0.8555 & 0.8555 \\\\\n",
      "0.8594 & 0.8594 \\\\\n",
      "0.8633 & 0.8633 \\\\\n",
      "0.8672 & 0.8672 \\\\\n",
      "0.8711 & 0.8711 \\\\\n",
      "0.8750 & 0.8750 \\\\\n",
      "0.8789 & 0.8789 \\\\\n",
      "0.8828 & 0.8828 \\\\\n",
      "0.8867 & 0.8867 \\\\\n",
      "0.8906 & 0.8906 \\\\\n",
      "0.8945 & 0.8945 \\\\\n",
      "0.8984 & 0.8984 \\\\\n",
      "0.9023 & 0.9023 \\\\\n",
      "0.9062 & 0.9062 \\\\\n",
      "0.9082 & 0.9082 \\\\\n",
      "0.9102 & 0.9102 \\\\\n",
      "0.9121 & 0.9121 \\\\\n",
      "0.9141 & 0.9141 \\\\\n",
      "0.9160 & 0.9160 \\\\\n",
      "0.9180 & 0.9180 \\\\\n",
      "0.9199 & 0.9199 \\\\\n",
      "0.9219 & 0.9219 \\\\\n",
      "0.9238 & 0.9238 \\\\\n",
      "0.9258 & 0.9258 \\\\\n",
      "0.9277 & 0.9277 \\\\\n",
      "0.9297 & 0.9297 \\\\\n",
      "0.9316 & 0.9316 \\\\\n",
      "0.9336 & 0.9336 \\\\\n",
      "0.9355 & 0.9355 \\\\\n",
      "0.9375 & 0.9375 \\\\\n",
      "0.9395 & 0.9395 \\\\\n",
      "0.9414 & 0.9414 \\\\\n",
      "0.9434 & 0.9434 \\\\\n",
      "0.9453 & 0.9453 \\\\\n",
      "0.9473 & 0.9473 \\\\\n",
      "0.9492 & 0.9492 \\\\\n",
      "0.9512 & 0.9512 \\\\\n",
      "0.9531 & 0.9531 \\\\\n",
      "0.9551 & 0.9551 \\\\\n",
      "0.9570 & 0.9570 \\\\\n",
      "0.9590 & 0.9590 \\\\\n",
      "0.9609 & 0.9609 \\\\\n",
      "0.9629 & 0.9629 \\\\\n",
      "0.9648 & 0.9648 \\\\\n",
      "0.9668 & 0.9668 \\\\\n",
      "0.9688 & 0.9688 \\\\\n",
      "0.9707 & 0.9707 \\\\\n",
      "0.9727 & 0.9727 \\\\\n",
      "0.9746 & 0.9746 \\\\\n",
      "0.9766 & 0.9766 \\\\\n",
      "0.9785 & 0.9785 \\\\\n",
      "0.9805 & 0.9805 \\\\\n",
      "0.9824 & 0.9824 \\\\\n",
      "0.9844 & 0.9844 \\\\\n",
      "0.9863 & 0.9863 \\\\\n",
      "0.9883 & 0.9883 \\\\\n",
      "0.9902 & 0.9902 \\\\\n",
      "0.9922 & 0.9922 \\\\\n",
      "0.9941 & 0.9941 \\\\\n",
      "0.9961 & 0.9961 \\\\\n",
      "0.9980 & 0.9980 \\\\\n",
      "1.0000 & 1.0000 \\\\\n",
      "\\bottomrule\n",
      "\\end{tabular}\n",
      "\\end{table}\n",
      "\n"
     ]
    },
    {
     "ename": "NameError",
     "evalue": "name 'enorm' is not defined",
     "output_type": "error",
     "traceback": [
      "\u001b[1;31m---------------------------------------------------------------------------\u001b[0m",
      "\u001b[1;31mNameError\u001b[0m                                 Traceback (most recent call last)",
      "Cell \u001b[1;32mIn[30], line 29\u001b[0m\n\u001b[0;32m     22\u001b[0m \u001b[38;5;28mprint\u001b[39m(latex_table)\n\u001b[0;32m     24\u001b[0m \u001b[38;5;66;03m# Construct the LaTeX code for the energy norm\u001b[39;00m\n\u001b[0;32m     25\u001b[0m latex_energy_norm \u001b[38;5;241m=\u001b[39m \u001b[38;5;124mf\u001b[39m\u001b[38;5;124m\"\"\"\u001b[39m\n\u001b[0;32m     26\u001b[0m \u001b[38;5;124mThe energy norm of the final approximation is calculated to quantify the solution\u001b[39m\u001b[38;5;124m'\u001b[39m\u001b[38;5;124ms accuracy:\u001b[39m\n\u001b[0;32m     27\u001b[0m \n\u001b[0;32m     28\u001b[0m \u001b[38;5;130;01m\\b\u001b[39;00m\u001b[38;5;124megin\u001b[39m\u001b[38;5;130;01m{{\u001b[39;00m\u001b[38;5;124mequation\u001b[39m\u001b[38;5;130;01m}}\u001b[39;00m\n\u001b[1;32m---> 29\u001b[0m \u001b[38;5;124m    \u001b[39m\u001b[38;5;130;01m\\t\u001b[39;00m\u001b[38;5;124mext\u001b[39m\u001b[38;5;130;01m{{\u001b[39;00m\u001b[38;5;124mEnergy Norm\u001b[39m\u001b[38;5;130;01m}}\u001b[39;00m\u001b[38;5;124m = \u001b[39m\u001b[38;5;132;01m{\u001b[39;00m\u001b[43menorm\u001b[49m\u001b[38;5;132;01m}\u001b[39;00m\n\u001b[0;32m     30\u001b[0m \u001b[38;5;124m    \u001b[39m\u001b[38;5;124m\\\u001b[39m\u001b[38;5;124mlabel\u001b[39m\u001b[38;5;130;01m{{\u001b[39;00m\u001b[38;5;124meq:energy_norm_result\u001b[39m\u001b[38;5;130;01m}}\u001b[39;00m\n\u001b[0;32m     31\u001b[0m \u001b[38;5;124m\\\u001b[39m\u001b[38;5;124mend\u001b[39m\u001b[38;5;130;01m{{\u001b[39;00m\u001b[38;5;124mequation\u001b[39m\u001b[38;5;130;01m}}\u001b[39;00m\n\u001b[0;32m     32\u001b[0m \u001b[38;5;124m\"\"\"\u001b[39m\n\u001b[0;32m     34\u001b[0m \u001b[38;5;66;03m# Print the energy norm LaTeX code\u001b[39;00m\n\u001b[0;32m     35\u001b[0m \u001b[38;5;28mprint\u001b[39m(latex_energy_norm)\n",
      "\u001b[1;31mNameError\u001b[0m: name 'enorm' is not defined"
     ]
    }
   ],
   "source": [
    "latex_table = r\"\"\"\n",
    "\\begin{table}[H]\n",
    "\\centering\n",
    "\\caption{Final Mesh Points and Solution Coefficients}\n",
    "\\label{tab:final_mesh_solution}\n",
    "\\begin{tabular}{@{}cc@{}}\n",
    "\\toprule\n",
    "\\textbf{Mesh Point \\( x_i \\)} & \\textbf{Solution Coefficient \\( u_i \\)} \\\\ \\midrule\n",
    "\"\"\"\n",
    "\n",
    "# Add each mesh point and its corresponding solution coefficient to the table\n",
    "for x, u in zip(mesh, x_nodal):\n",
    "    latex_table += f\"{x:.4f} & {u:.4f} \\\\\\\\\\n\"\n",
    "\n",
    "# Close the table\n",
    "latex_table += r\"\"\"\\bottomrule\n",
    "\\end{tabular}\n",
    "\\end{table}\n",
    "\"\"\"\n",
    "\n",
    "# Print the LaTeX table\n",
    "print(latex_table)\n",
    "\n",
    "# Construct the LaTeX code for the energy norm\n",
    "latex_energy_norm = f\"\"\"\n",
    "The energy norm of the final approximation is calculated to quantify the solution's accuracy:\n",
    "\n",
    "\\begin{{equation}}\n",
    "    \\text{{Energy Norm}} = {enorm}\n",
    "    \\label{{eq:energy_norm_result}}\n",
    "\\end{{equation}}\n",
    "\"\"\"\n",
    "\n",
    "# Print the energy norm LaTeX code\n",
    "print(latex_energy_norm)"
   ]
  },
  {
   "cell_type": "code",
   "execution_count": 34,
   "metadata": {},
   "outputs": [
    {
     "name": "stdout",
     "output_type": "stream",
     "text": [
      "   Iteration Index           EnergyNorm\n",
      "0                0    0.106172839506173\n",
      "1                1  -0.0461775878442542\n",
      "2                2  -0.0746803350970017\n",
      "3                3  -0.0830096323229671\n",
      "4                4  -0.0836810190417173\n",
      "5                5  -0.0838183481432790\n",
      "6                6  -0.0838450510241385\n",
      "7                7  -0.0838476736285085\n"
     ]
    },
    {
     "data": {
      "image/png": "[encoded data removed]",
      "text/plain": [
       "<Figure size 640x480 with 1 Axes>"
      ]
     },
     "metadata": {},
     "output_type": "display_data"
    }
   ],
   "source": [
    "import pandas as pd\n",
    "import numpy as np\n",
    "import matplotlib.pyplot as plt\n",
    "\n",
    "# Assuming enorm_history is defined\n",
    "df = pd.DataFrame(enorm_history, columns=[\"Iteration Index\", \"EnergyNorm\"])\n",
    "# Print the DataFrame\n",
    "print(df)\n",
    "\n",
    "# Plot the EnergyNorm against the index\n",
    "plt.plot(df['Iteration Index'], df['EnergyNorm'])\n",
    "plt.xlabel('Iteration Index')\n",
    "plt.ylabel('EnergyNorm')\n",
    "plt.title('EnergyNorm vs Iteration Index')\n",
    "plt.show()\n"
   ]
  },
  {
   "cell_type": "code",
   "execution_count": null,
   "metadata": {},
   "outputs": [],
   "source": []
  }
 ],
 "metadata": {
  "kernelspec": {
   "display_name": ".venv",
   "language": "python",
   "name": "python3"
  },
  "language_info": {
   "codemirror_mode": {
    "name": "ipython",
    "version": 3
   },
   "file_extension": ".py",
   "mimetype": "text/x-python",
   "name": "python",
   "nbconvert_exporter": "python",
   "pygments_lexer": "ipython3",
   "version": "3.10.7"
  }
 },
 "nbformat": 4,
 "nbformat_minor": 2
}
